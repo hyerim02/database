{
 "cells": [
  {
   "cell_type": "markdown",
   "id": "1db5c8ca",
   "metadata": {},
   "source": [
    "## Q43"
   ]
  },
  {
   "cell_type": "code",
   "execution_count": 1,
   "id": "a84424c1",
   "metadata": {
    "ExecuteTime": {
     "end_time": "2023-07-17T12:56:32.344837Z",
     "start_time": "2023-07-17T12:56:29.229740Z"
    }
   },
   "outputs": [],
   "source": [
    "import pandas as pd\n",
    "import pymysql"
   ]
  },
  {
   "cell_type": "code",
   "execution_count": 2,
   "id": "67574fd6",
   "metadata": {
    "ExecuteTime": {
     "end_time": "2023-07-17T12:56:32.360336Z",
     "start_time": "2023-07-17T12:56:32.347853Z"
    }
   },
   "outputs": [],
   "source": [
    "conn1=pymysql.connect(host='127.0.0.1',user='root',password='1234',db='madang',charset='utf8')"
   ]
  },
  {
   "cell_type": "code",
   "execution_count": 3,
   "id": "dff8ab17",
   "metadata": {
    "ExecuteTime": {
     "end_time": "2023-07-17T12:56:32.375474Z",
     "start_time": "2023-07-17T12:56:32.362546Z"
    }
   },
   "outputs": [],
   "source": [
    "cur_1=conn1.cursor()"
   ]
  },
  {
   "cell_type": "code",
   "execution_count": 4,
   "id": "ca9f5580",
   "metadata": {
    "ExecuteTime": {
     "end_time": "2023-07-17T12:56:32.390568Z",
     "start_time": "2023-07-17T12:56:32.379097Z"
    }
   },
   "outputs": [],
   "source": [
    "sql=\"SELECT  * FROM book;\""
   ]
  },
  {
   "cell_type": "code",
   "execution_count": 5,
   "id": "2114797d",
   "metadata": {
    "ExecuteTime": {
     "end_time": "2023-07-17T12:56:32.405337Z",
     "start_time": "2023-07-17T12:56:32.392580Z"
    }
   },
   "outputs": [],
   "source": [
    "cur_1.execute(sql)\n",
    "rows_1=cur_1.fetchall()\n",
    "conn1.close()"
   ]
  },
  {
   "cell_type": "code",
   "execution_count": 6,
   "id": "9bcc19c9",
   "metadata": {
    "ExecuteTime": {
     "end_time": "2023-07-17T12:56:32.911628Z",
     "start_time": "2023-07-17T12:56:32.869138Z"
    }
   },
   "outputs": [
    {
     "data": {
      "text/html": [
       "<div>\n",
       "<style scoped>\n",
       "    .dataframe tbody tr th:only-of-type {\n",
       "        vertical-align: middle;\n",
       "    }\n",
       "\n",
       "    .dataframe tbody tr th {\n",
       "        vertical-align: top;\n",
       "    }\n",
       "\n",
       "    .dataframe thead th {\n",
       "        text-align: right;\n",
       "    }\n",
       "</style>\n",
       "<table border=\"1\" class=\"dataframe\">\n",
       "  <thead>\n",
       "    <tr style=\"text-align: right;\">\n",
       "      <th></th>\n",
       "      <th>0</th>\n",
       "      <th>1</th>\n",
       "      <th>2</th>\n",
       "      <th>3</th>\n",
       "    </tr>\n",
       "  </thead>\n",
       "  <tbody>\n",
       "    <tr>\n",
       "      <th>0</th>\n",
       "      <td>1</td>\n",
       "      <td>축구의 역사</td>\n",
       "      <td>굿스포츠</td>\n",
       "      <td>7000</td>\n",
       "    </tr>\n",
       "    <tr>\n",
       "      <th>1</th>\n",
       "      <td>2</td>\n",
       "      <td>축구아는 여자</td>\n",
       "      <td>나무수</td>\n",
       "      <td>13000</td>\n",
       "    </tr>\n",
       "    <tr>\n",
       "      <th>2</th>\n",
       "      <td>3</td>\n",
       "      <td>축구의 이해</td>\n",
       "      <td>대한미디어</td>\n",
       "      <td>22000</td>\n",
       "    </tr>\n",
       "    <tr>\n",
       "      <th>3</th>\n",
       "      <td>4</td>\n",
       "      <td>골프 바이블</td>\n",
       "      <td>대한미디어</td>\n",
       "      <td>35000</td>\n",
       "    </tr>\n",
       "    <tr>\n",
       "      <th>4</th>\n",
       "      <td>5</td>\n",
       "      <td>피겨 교본</td>\n",
       "      <td>굿스포츠</td>\n",
       "      <td>8000</td>\n",
       "    </tr>\n",
       "    <tr>\n",
       "      <th>5</th>\n",
       "      <td>6</td>\n",
       "      <td>역도 단계별기술</td>\n",
       "      <td>굿스포츠</td>\n",
       "      <td>6000</td>\n",
       "    </tr>\n",
       "    <tr>\n",
       "      <th>6</th>\n",
       "      <td>7</td>\n",
       "      <td>야구의 추억</td>\n",
       "      <td>이상미디어</td>\n",
       "      <td>20000</td>\n",
       "    </tr>\n",
       "    <tr>\n",
       "      <th>7</th>\n",
       "      <td>8</td>\n",
       "      <td>야구를 부탁해</td>\n",
       "      <td>이상미디어</td>\n",
       "      <td>13000</td>\n",
       "    </tr>\n",
       "    <tr>\n",
       "      <th>8</th>\n",
       "      <td>9</td>\n",
       "      <td>올림픽 이야기</td>\n",
       "      <td>삼성당</td>\n",
       "      <td>7500</td>\n",
       "    </tr>\n",
       "    <tr>\n",
       "      <th>9</th>\n",
       "      <td>10</td>\n",
       "      <td>Olympic Champions</td>\n",
       "      <td>Pearson</td>\n",
       "      <td>13000</td>\n",
       "    </tr>\n",
       "    <tr>\n",
       "      <th>10</th>\n",
       "      <td>11</td>\n",
       "      <td>스포츠 의학</td>\n",
       "      <td>한솔의학서적</td>\n",
       "      <td>90000</td>\n",
       "    </tr>\n",
       "  </tbody>\n",
       "</table>\n",
       "</div>"
      ],
      "text/plain": [
       "     0                  1        2      3\n",
       "0    1             축구의 역사     굿스포츠   7000\n",
       "1    2            축구아는 여자      나무수  13000\n",
       "2    3             축구의 이해    대한미디어  22000\n",
       "3    4             골프 바이블    대한미디어  35000\n",
       "4    5              피겨 교본     굿스포츠   8000\n",
       "5    6           역도 단계별기술     굿스포츠   6000\n",
       "6    7             야구의 추억    이상미디어  20000\n",
       "7    8            야구를 부탁해    이상미디어  13000\n",
       "8    9            올림픽 이야기      삼성당   7500\n",
       "9   10  Olympic Champions  Pearson  13000\n",
       "10  11             스포츠 의학   한솔의학서적  90000"
      ]
     },
     "execution_count": 6,
     "metadata": {},
     "output_type": "execute_result"
    }
   ],
   "source": [
    "pd_1=pd.DataFrame(rows_1)\n",
    "pd_1"
   ]
  },
  {
   "cell_type": "markdown",
   "id": "a5bedc24",
   "metadata": {},
   "source": [
    "## Q44"
   ]
  },
  {
   "cell_type": "code",
   "execution_count": 18,
   "id": "c19ca11e",
   "metadata": {
    "ExecuteTime": {
     "end_time": "2023-07-17T13:03:19.068167Z",
     "start_time": "2023-07-17T13:03:19.051798Z"
    }
   },
   "outputs": [],
   "source": [
    "import pandas as pd\n",
    "import pymysql"
   ]
  },
  {
   "cell_type": "code",
   "execution_count": 19,
   "id": "4c8e78fc",
   "metadata": {
    "ExecuteTime": {
     "end_time": "2023-07-17T13:03:19.816856Z",
     "start_time": "2023-07-17T13:03:19.798217Z"
    }
   },
   "outputs": [],
   "source": [
    "conn1=pymysql.connect(host='127.0.0.1',user='root',password='1234',db='madang',charset='utf8')"
   ]
  },
  {
   "cell_type": "code",
   "execution_count": 20,
   "id": "f440041b",
   "metadata": {
    "ExecuteTime": {
     "end_time": "2023-07-17T13:03:20.570176Z",
     "start_time": "2023-07-17T13:03:20.563757Z"
    }
   },
   "outputs": [],
   "source": [
    "cur_1=conn1.cursor()"
   ]
  },
  {
   "cell_type": "code",
   "execution_count": 21,
   "id": "a4b0603c",
   "metadata": {
    "ExecuteTime": {
     "end_time": "2023-07-17T13:03:21.247220Z",
     "start_time": "2023-07-17T13:03:21.231427Z"
    }
   },
   "outputs": [],
   "source": [
    "sql=\"SELECT  * FROM book;\""
   ]
  },
  {
   "cell_type": "code",
   "execution_count": 22,
   "id": "4432a323",
   "metadata": {
    "ExecuteTime": {
     "end_time": "2023-07-17T13:03:21.905828Z",
     "start_time": "2023-07-17T13:03:21.890989Z"
    }
   },
   "outputs": [],
   "source": [
    "cur_1.execute(sql)\n",
    "rows_1=cur_1.fetchall()\n",
    "conn1.close()"
   ]
  },
  {
   "cell_type": "code",
   "execution_count": 23,
   "id": "54384b28",
   "metadata": {
    "ExecuteTime": {
     "end_time": "2023-07-17T13:03:22.565832Z",
     "start_time": "2023-07-17T13:03:22.539791Z"
    }
   },
   "outputs": [
    {
     "data": {
      "text/html": [
       "<div>\n",
       "<style scoped>\n",
       "    .dataframe tbody tr th:only-of-type {\n",
       "        vertical-align: middle;\n",
       "    }\n",
       "\n",
       "    .dataframe tbody tr th {\n",
       "        vertical-align: top;\n",
       "    }\n",
       "\n",
       "    .dataframe thead th {\n",
       "        text-align: right;\n",
       "    }\n",
       "</style>\n",
       "<table border=\"1\" class=\"dataframe\">\n",
       "  <thead>\n",
       "    <tr style=\"text-align: right;\">\n",
       "      <th></th>\n",
       "      <th>0</th>\n",
       "      <th>1</th>\n",
       "      <th>2</th>\n",
       "      <th>3</th>\n",
       "    </tr>\n",
       "  </thead>\n",
       "  <tbody>\n",
       "    <tr>\n",
       "      <th>0</th>\n",
       "      <td>1</td>\n",
       "      <td>축구의 역사</td>\n",
       "      <td>굿스포츠</td>\n",
       "      <td>7000.0</td>\n",
       "    </tr>\n",
       "    <tr>\n",
       "      <th>1</th>\n",
       "      <td>2</td>\n",
       "      <td>축구아는 여자</td>\n",
       "      <td>나무수</td>\n",
       "      <td>13000.0</td>\n",
       "    </tr>\n",
       "    <tr>\n",
       "      <th>2</th>\n",
       "      <td>3</td>\n",
       "      <td>축구의 이해</td>\n",
       "      <td>대한미디어</td>\n",
       "      <td>22000.0</td>\n",
       "    </tr>\n",
       "    <tr>\n",
       "      <th>3</th>\n",
       "      <td>4</td>\n",
       "      <td>골프 바이블</td>\n",
       "      <td>대한미디어</td>\n",
       "      <td>35000.0</td>\n",
       "    </tr>\n",
       "    <tr>\n",
       "      <th>4</th>\n",
       "      <td>5</td>\n",
       "      <td>피겨 교본</td>\n",
       "      <td>굿스포츠</td>\n",
       "      <td>8000.0</td>\n",
       "    </tr>\n",
       "    <tr>\n",
       "      <th>5</th>\n",
       "      <td>6</td>\n",
       "      <td>역도 단계별기술</td>\n",
       "      <td>굿스포츠</td>\n",
       "      <td>6000.0</td>\n",
       "    </tr>\n",
       "    <tr>\n",
       "      <th>6</th>\n",
       "      <td>7</td>\n",
       "      <td>야구의 추억</td>\n",
       "      <td>이상미디어</td>\n",
       "      <td>20000.0</td>\n",
       "    </tr>\n",
       "    <tr>\n",
       "      <th>7</th>\n",
       "      <td>8</td>\n",
       "      <td>야구를 부탁해</td>\n",
       "      <td>이상미디어</td>\n",
       "      <td>13000.0</td>\n",
       "    </tr>\n",
       "    <tr>\n",
       "      <th>8</th>\n",
       "      <td>9</td>\n",
       "      <td>올림픽 이야기</td>\n",
       "      <td>삼성당</td>\n",
       "      <td>7500.0</td>\n",
       "    </tr>\n",
       "    <tr>\n",
       "      <th>9</th>\n",
       "      <td>10</td>\n",
       "      <td>Olympic Champions</td>\n",
       "      <td>Pearson</td>\n",
       "      <td>13000.0</td>\n",
       "    </tr>\n",
       "    <tr>\n",
       "      <th>10</th>\n",
       "      <td>11</td>\n",
       "      <td>스포츠 의학</td>\n",
       "      <td>한솔의학서적</td>\n",
       "      <td>90000.0</td>\n",
       "    </tr>\n",
       "    <tr>\n",
       "      <th>11</th>\n",
       "      <td>12</td>\n",
       "      <td>스포츠 의학</td>\n",
       "      <td>한솔의학서적</td>\n",
       "      <td>NaN</td>\n",
       "    </tr>\n",
       "  </tbody>\n",
       "</table>\n",
       "</div>"
      ],
      "text/plain": [
       "     0                  1        2        3\n",
       "0    1             축구의 역사     굿스포츠   7000.0\n",
       "1    2            축구아는 여자      나무수  13000.0\n",
       "2    3             축구의 이해    대한미디어  22000.0\n",
       "3    4             골프 바이블    대한미디어  35000.0\n",
       "4    5              피겨 교본     굿스포츠   8000.0\n",
       "5    6           역도 단계별기술     굿스포츠   6000.0\n",
       "6    7             야구의 추억    이상미디어  20000.0\n",
       "7    8            야구를 부탁해    이상미디어  13000.0\n",
       "8    9            올림픽 이야기      삼성당   7500.0\n",
       "9   10  Olympic Champions  Pearson  13000.0\n",
       "10  11             스포츠 의학   한솔의학서적  90000.0\n",
       "11  12             스포츠 의학   한솔의학서적      NaN"
      ]
     },
     "execution_count": 23,
     "metadata": {},
     "output_type": "execute_result"
    }
   ],
   "source": [
    "pd_1=pd.DataFrame(rows_1)\n",
    "pd_1"
   ]
  },
  {
   "cell_type": "markdown",
   "id": "8392fdc3",
   "metadata": {},
   "source": [
    "## Q45"
   ]
  },
  {
   "cell_type": "code",
   "execution_count": 24,
   "id": "4a173bc7",
   "metadata": {
    "ExecuteTime": {
     "end_time": "2023-07-17T13:06:30.475635Z",
     "start_time": "2023-07-17T13:06:30.453616Z"
    }
   },
   "outputs": [],
   "source": [
    "import pandas as pd\n",
    "import pymysql"
   ]
  },
  {
   "cell_type": "code",
   "execution_count": 25,
   "id": "c0b2c362",
   "metadata": {
    "ExecuteTime": {
     "end_time": "2023-07-17T13:06:31.253837Z",
     "start_time": "2023-07-17T13:06:31.230336Z"
    }
   },
   "outputs": [],
   "source": [
    "conn1=pymysql.connect(host='127.0.0.1',user='root',password='1234',db='madang',charset='utf8')"
   ]
  },
  {
   "cell_type": "code",
   "execution_count": 26,
   "id": "ded5ae2c",
   "metadata": {
    "ExecuteTime": {
     "end_time": "2023-07-17T13:06:31.895500Z",
     "start_time": "2023-07-17T13:06:31.875728Z"
    }
   },
   "outputs": [],
   "source": [
    "cur_1=conn1.cursor()"
   ]
  },
  {
   "cell_type": "code",
   "execution_count": 27,
   "id": "4254b313",
   "metadata": {
    "ExecuteTime": {
     "end_time": "2023-07-17T13:06:32.523485Z",
     "start_time": "2023-07-17T13:06:32.516552Z"
    }
   },
   "outputs": [],
   "source": [
    "sql='SELECT  * FROM book;'"
   ]
  },
  {
   "cell_type": "code",
   "execution_count": 28,
   "id": "a58f20a5",
   "metadata": {
    "ExecuteTime": {
     "end_time": "2023-07-17T13:06:33.162568Z",
     "start_time": "2023-07-17T13:06:33.141487Z"
    }
   },
   "outputs": [],
   "source": [
    "cur_1.execute(sql)\n",
    "rows_1=cur_1.fetchall()\n",
    "conn1.close()"
   ]
  },
  {
   "cell_type": "code",
   "execution_count": 29,
   "id": "e0be613d",
   "metadata": {
    "ExecuteTime": {
     "end_time": "2023-07-17T13:06:33.789235Z",
     "start_time": "2023-07-17T13:06:33.757672Z"
    }
   },
   "outputs": [
    {
     "data": {
      "text/html": [
       "<div>\n",
       "<style scoped>\n",
       "    .dataframe tbody tr th:only-of-type {\n",
       "        vertical-align: middle;\n",
       "    }\n",
       "\n",
       "    .dataframe tbody tr th {\n",
       "        vertical-align: top;\n",
       "    }\n",
       "\n",
       "    .dataframe thead th {\n",
       "        text-align: right;\n",
       "    }\n",
       "</style>\n",
       "<table border=\"1\" class=\"dataframe\">\n",
       "  <thead>\n",
       "    <tr style=\"text-align: right;\">\n",
       "      <th></th>\n",
       "      <th>0</th>\n",
       "      <th>1</th>\n",
       "      <th>2</th>\n",
       "      <th>3</th>\n",
       "    </tr>\n",
       "  </thead>\n",
       "  <tbody>\n",
       "    <tr>\n",
       "      <th>0</th>\n",
       "      <td>1</td>\n",
       "      <td>축구의 역사</td>\n",
       "      <td>굿스포츠</td>\n",
       "      <td>7000.0</td>\n",
       "    </tr>\n",
       "    <tr>\n",
       "      <th>1</th>\n",
       "      <td>2</td>\n",
       "      <td>축구아는 여자</td>\n",
       "      <td>나무수</td>\n",
       "      <td>13000.0</td>\n",
       "    </tr>\n",
       "    <tr>\n",
       "      <th>2</th>\n",
       "      <td>3</td>\n",
       "      <td>축구의 이해</td>\n",
       "      <td>대한미디어</td>\n",
       "      <td>22000.0</td>\n",
       "    </tr>\n",
       "    <tr>\n",
       "      <th>3</th>\n",
       "      <td>4</td>\n",
       "      <td>골프 바이블</td>\n",
       "      <td>대한미디어</td>\n",
       "      <td>35000.0</td>\n",
       "    </tr>\n",
       "    <tr>\n",
       "      <th>4</th>\n",
       "      <td>5</td>\n",
       "      <td>피겨 교본</td>\n",
       "      <td>굿스포츠</td>\n",
       "      <td>8000.0</td>\n",
       "    </tr>\n",
       "    <tr>\n",
       "      <th>5</th>\n",
       "      <td>6</td>\n",
       "      <td>역도 단계별기술</td>\n",
       "      <td>굿스포츠</td>\n",
       "      <td>6000.0</td>\n",
       "    </tr>\n",
       "    <tr>\n",
       "      <th>6</th>\n",
       "      <td>7</td>\n",
       "      <td>야구의 추억</td>\n",
       "      <td>이상미디어</td>\n",
       "      <td>20000.0</td>\n",
       "    </tr>\n",
       "    <tr>\n",
       "      <th>7</th>\n",
       "      <td>8</td>\n",
       "      <td>야구를 부탁해</td>\n",
       "      <td>이상미디어</td>\n",
       "      <td>13000.0</td>\n",
       "    </tr>\n",
       "    <tr>\n",
       "      <th>8</th>\n",
       "      <td>9</td>\n",
       "      <td>올림픽 이야기</td>\n",
       "      <td>삼성당</td>\n",
       "      <td>7500.0</td>\n",
       "    </tr>\n",
       "    <tr>\n",
       "      <th>9</th>\n",
       "      <td>10</td>\n",
       "      <td>Olympic Champions</td>\n",
       "      <td>Pearson</td>\n",
       "      <td>13000.0</td>\n",
       "    </tr>\n",
       "    <tr>\n",
       "      <th>10</th>\n",
       "      <td>11</td>\n",
       "      <td>스포츠 의학</td>\n",
       "      <td>한솔의학서적</td>\n",
       "      <td>90000.0</td>\n",
       "    </tr>\n",
       "    <tr>\n",
       "      <th>11</th>\n",
       "      <td>12</td>\n",
       "      <td>스포츠 의학</td>\n",
       "      <td>한솔의학서적</td>\n",
       "      <td>NaN</td>\n",
       "    </tr>\n",
       "    <tr>\n",
       "      <th>12</th>\n",
       "      <td>21</td>\n",
       "      <td>Zen Golf</td>\n",
       "      <td>Pearson</td>\n",
       "      <td>12000.0</td>\n",
       "    </tr>\n",
       "    <tr>\n",
       "      <th>13</th>\n",
       "      <td>22</td>\n",
       "      <td>Soccer Skills</td>\n",
       "      <td>Human Kinetics</td>\n",
       "      <td>15000.0</td>\n",
       "    </tr>\n",
       "  </tbody>\n",
       "</table>\n",
       "</div>"
      ],
      "text/plain": [
       "     0                  1               2        3\n",
       "0    1             축구의 역사            굿스포츠   7000.0\n",
       "1    2            축구아는 여자             나무수  13000.0\n",
       "2    3             축구의 이해           대한미디어  22000.0\n",
       "3    4             골프 바이블           대한미디어  35000.0\n",
       "4    5              피겨 교본            굿스포츠   8000.0\n",
       "5    6           역도 단계별기술            굿스포츠   6000.0\n",
       "6    7             야구의 추억           이상미디어  20000.0\n",
       "7    8            야구를 부탁해           이상미디어  13000.0\n",
       "8    9            올림픽 이야기             삼성당   7500.0\n",
       "9   10  Olympic Champions         Pearson  13000.0\n",
       "10  11             스포츠 의학          한솔의학서적  90000.0\n",
       "11  12             스포츠 의학          한솔의학서적      NaN\n",
       "12  21           Zen Golf         Pearson  12000.0\n",
       "13  22      Soccer Skills  Human Kinetics  15000.0"
      ]
     },
     "execution_count": 29,
     "metadata": {},
     "output_type": "execute_result"
    }
   ],
   "source": [
    "pd_1=pd.DataFrame(rows_1)\n",
    "pd_1"
   ]
  },
  {
   "cell_type": "markdown",
   "id": "2855dedb",
   "metadata": {},
   "source": [
    "## Q46"
   ]
  },
  {
   "cell_type": "code",
   "execution_count": 30,
   "id": "9511cbf0",
   "metadata": {
    "ExecuteTime": {
     "end_time": "2023-07-17T13:20:58.451829Z",
     "start_time": "2023-07-17T13:20:58.442185Z"
    }
   },
   "outputs": [],
   "source": [
    "import pandas as pd\n",
    "import pymysql"
   ]
  },
  {
   "cell_type": "code",
   "execution_count": 31,
   "id": "abff2d30",
   "metadata": {
    "ExecuteTime": {
     "end_time": "2023-07-17T13:20:59.184609Z",
     "start_time": "2023-07-17T13:20:59.165419Z"
    }
   },
   "outputs": [],
   "source": [
    "conn1=pymysql.connect(host='127.0.0.1',user='root',password='1234',db='madang',charset='utf8')"
   ]
  },
  {
   "cell_type": "code",
   "execution_count": 32,
   "id": "254e0984",
   "metadata": {
    "ExecuteTime": {
     "end_time": "2023-07-17T13:20:59.876649Z",
     "start_time": "2023-07-17T13:20:59.867518Z"
    }
   },
   "outputs": [],
   "source": [
    "cur_1=conn1.cursor()"
   ]
  },
  {
   "cell_type": "code",
   "execution_count": 33,
   "id": "125bf858",
   "metadata": {
    "ExecuteTime": {
     "end_time": "2023-07-17T13:21:00.578697Z",
     "start_time": "2023-07-17T13:21:00.560116Z"
    }
   },
   "outputs": [],
   "source": [
    "sql='SELECT  * FROM Customer;'"
   ]
  },
  {
   "cell_type": "code",
   "execution_count": 34,
   "id": "c95ee0a7",
   "metadata": {
    "ExecuteTime": {
     "end_time": "2023-07-17T13:21:01.269914Z",
     "start_time": "2023-07-17T13:21:01.251208Z"
    }
   },
   "outputs": [],
   "source": [
    "cur_1.execute(sql)\n",
    "rows_1=cur_1.fetchall()\n",
    "conn1.close()"
   ]
  },
  {
   "cell_type": "code",
   "execution_count": 35,
   "id": "ed937075",
   "metadata": {
    "ExecuteTime": {
     "end_time": "2023-07-17T13:21:02.123437Z",
     "start_time": "2023-07-17T13:21:02.105061Z"
    }
   },
   "outputs": [
    {
     "data": {
      "text/html": [
       "<div>\n",
       "<style scoped>\n",
       "    .dataframe tbody tr th:only-of-type {\n",
       "        vertical-align: middle;\n",
       "    }\n",
       "\n",
       "    .dataframe tbody tr th {\n",
       "        vertical-align: top;\n",
       "    }\n",
       "\n",
       "    .dataframe thead th {\n",
       "        text-align: right;\n",
       "    }\n",
       "</style>\n",
       "<table border=\"1\" class=\"dataframe\">\n",
       "  <thead>\n",
       "    <tr style=\"text-align: right;\">\n",
       "      <th></th>\n",
       "      <th>0</th>\n",
       "      <th>1</th>\n",
       "      <th>2</th>\n",
       "      <th>3</th>\n",
       "    </tr>\n",
       "  </thead>\n",
       "  <tbody>\n",
       "    <tr>\n",
       "      <th>0</th>\n",
       "      <td>1</td>\n",
       "      <td>박지성</td>\n",
       "      <td>영국 맨체스타</td>\n",
       "      <td>000-5000-0001</td>\n",
       "    </tr>\n",
       "    <tr>\n",
       "      <th>1</th>\n",
       "      <td>2</td>\n",
       "      <td>김연아</td>\n",
       "      <td>대한민국 서울</td>\n",
       "      <td>000-6000-0001</td>\n",
       "    </tr>\n",
       "    <tr>\n",
       "      <th>2</th>\n",
       "      <td>3</td>\n",
       "      <td>장미란</td>\n",
       "      <td>대한민국 강원도</td>\n",
       "      <td>000-7000-0001</td>\n",
       "    </tr>\n",
       "    <tr>\n",
       "      <th>3</th>\n",
       "      <td>4</td>\n",
       "      <td>추신수</td>\n",
       "      <td>미국 클리블랜드</td>\n",
       "      <td>000-8000-0001</td>\n",
       "    </tr>\n",
       "    <tr>\n",
       "      <th>4</th>\n",
       "      <td>5</td>\n",
       "      <td>박세리</td>\n",
       "      <td>대한민국 부산</td>\n",
       "      <td>None</td>\n",
       "    </tr>\n",
       "  </tbody>\n",
       "</table>\n",
       "</div>"
      ],
      "text/plain": [
       "   0    1         2              3\n",
       "0  1  박지성   영국 맨체스타  000-5000-0001\n",
       "1  2  김연아   대한민국 서울  000-6000-0001\n",
       "2  3  장미란  대한민국 강원도  000-7000-0001\n",
       "3  4  추신수  미국 클리블랜드  000-8000-0001\n",
       "4  5  박세리   대한민국 부산           None"
      ]
     },
     "execution_count": 35,
     "metadata": {},
     "output_type": "execute_result"
    }
   ],
   "source": [
    "pd_1=pd.DataFrame(rows_1)\n",
    "pd_1"
   ]
  },
  {
   "cell_type": "markdown",
   "id": "7386ab2f",
   "metadata": {},
   "source": [
    "## Q47"
   ]
  },
  {
   "cell_type": "code",
   "execution_count": 36,
   "id": "8af1ac21",
   "metadata": {
    "ExecuteTime": {
     "end_time": "2023-07-17T13:23:42.475585Z",
     "start_time": "2023-07-17T13:23:42.463939Z"
    }
   },
   "outputs": [],
   "source": [
    "import pandas as pd\n",
    "import pymysql"
   ]
  },
  {
   "cell_type": "code",
   "execution_count": 42,
   "id": "2d473b85",
   "metadata": {
    "ExecuteTime": {
     "end_time": "2023-07-17T13:24:16.380727Z",
     "start_time": "2023-07-17T13:24:16.360799Z"
    }
   },
   "outputs": [],
   "source": [
    "conn1=pymysql.connect(host='127.0.0.1',user='root',password='1234',db='madang',charset='utf8')"
   ]
  },
  {
   "cell_type": "code",
   "execution_count": 43,
   "id": "6b572016",
   "metadata": {
    "ExecuteTime": {
     "end_time": "2023-07-17T13:24:17.072839Z",
     "start_time": "2023-07-17T13:24:17.053179Z"
    }
   },
   "outputs": [],
   "source": [
    "cur_1=conn1.cursor()"
   ]
  },
  {
   "cell_type": "code",
   "execution_count": 44,
   "id": "fc8362e5",
   "metadata": {
    "ExecuteTime": {
     "end_time": "2023-07-17T13:24:17.669792Z",
     "start_time": "2023-07-17T13:24:17.652433Z"
    }
   },
   "outputs": [],
   "source": [
    "sql='SELECT  * FROM book;'"
   ]
  },
  {
   "cell_type": "code",
   "execution_count": 45,
   "id": "eacaa86d",
   "metadata": {
    "ExecuteTime": {
     "end_time": "2023-07-17T13:24:18.217707Z",
     "start_time": "2023-07-17T13:24:18.201179Z"
    }
   },
   "outputs": [],
   "source": [
    "cur_1.execute(sql)\n",
    "rows_1=cur_1.fetchall()\n",
    "conn1.close()"
   ]
  },
  {
   "cell_type": "code",
   "execution_count": 46,
   "id": "daadf406",
   "metadata": {
    "ExecuteTime": {
     "end_time": "2023-07-17T13:24:18.829204Z",
     "start_time": "2023-07-17T13:24:18.807485Z"
    }
   },
   "outputs": [
    {
     "data": {
      "text/html": [
       "<div>\n",
       "<style scoped>\n",
       "    .dataframe tbody tr th:only-of-type {\n",
       "        vertical-align: middle;\n",
       "    }\n",
       "\n",
       "    .dataframe tbody tr th {\n",
       "        vertical-align: top;\n",
       "    }\n",
       "\n",
       "    .dataframe thead th {\n",
       "        text-align: right;\n",
       "    }\n",
       "</style>\n",
       "<table border=\"1\" class=\"dataframe\">\n",
       "  <thead>\n",
       "    <tr style=\"text-align: right;\">\n",
       "      <th></th>\n",
       "      <th>0</th>\n",
       "      <th>1</th>\n",
       "      <th>2</th>\n",
       "      <th>3</th>\n",
       "    </tr>\n",
       "  </thead>\n",
       "  <tbody>\n",
       "    <tr>\n",
       "      <th>0</th>\n",
       "      <td>1</td>\n",
       "      <td>축구의 역사</td>\n",
       "      <td>굿스포츠</td>\n",
       "      <td>7000.0</td>\n",
       "    </tr>\n",
       "    <tr>\n",
       "      <th>1</th>\n",
       "      <td>2</td>\n",
       "      <td>축구아는 여자</td>\n",
       "      <td>나무수</td>\n",
       "      <td>13000.0</td>\n",
       "    </tr>\n",
       "    <tr>\n",
       "      <th>2</th>\n",
       "      <td>3</td>\n",
       "      <td>축구의 이해</td>\n",
       "      <td>대한미디어</td>\n",
       "      <td>22000.0</td>\n",
       "    </tr>\n",
       "    <tr>\n",
       "      <th>3</th>\n",
       "      <td>4</td>\n",
       "      <td>골프 바이블</td>\n",
       "      <td>대한미디어</td>\n",
       "      <td>35000.0</td>\n",
       "    </tr>\n",
       "    <tr>\n",
       "      <th>4</th>\n",
       "      <td>5</td>\n",
       "      <td>피겨 교본</td>\n",
       "      <td>굿스포츠</td>\n",
       "      <td>8000.0</td>\n",
       "    </tr>\n",
       "    <tr>\n",
       "      <th>5</th>\n",
       "      <td>6</td>\n",
       "      <td>역도 단계별기술</td>\n",
       "      <td>굿스포츠</td>\n",
       "      <td>6000.0</td>\n",
       "    </tr>\n",
       "    <tr>\n",
       "      <th>6</th>\n",
       "      <td>7</td>\n",
       "      <td>야구의 추억</td>\n",
       "      <td>이상미디어</td>\n",
       "      <td>20000.0</td>\n",
       "    </tr>\n",
       "    <tr>\n",
       "      <th>7</th>\n",
       "      <td>8</td>\n",
       "      <td>야구를 부탁해</td>\n",
       "      <td>이상미디어</td>\n",
       "      <td>13000.0</td>\n",
       "    </tr>\n",
       "    <tr>\n",
       "      <th>8</th>\n",
       "      <td>9</td>\n",
       "      <td>올림픽 이야기</td>\n",
       "      <td>삼성당</td>\n",
       "      <td>7500.0</td>\n",
       "    </tr>\n",
       "    <tr>\n",
       "      <th>9</th>\n",
       "      <td>10</td>\n",
       "      <td>Olympic Champions</td>\n",
       "      <td>Pearson</td>\n",
       "      <td>13000.0</td>\n",
       "    </tr>\n",
       "    <tr>\n",
       "      <th>10</th>\n",
       "      <td>11</td>\n",
       "      <td>스포츠 의학</td>\n",
       "      <td>한솔의학서적</td>\n",
       "      <td>90000.0</td>\n",
       "    </tr>\n",
       "    <tr>\n",
       "      <th>11</th>\n",
       "      <td>12</td>\n",
       "      <td>스포츠 의학</td>\n",
       "      <td>Pearson</td>\n",
       "      <td>NaN</td>\n",
       "    </tr>\n",
       "    <tr>\n",
       "      <th>12</th>\n",
       "      <td>21</td>\n",
       "      <td>Zen Golf</td>\n",
       "      <td>Pearson</td>\n",
       "      <td>12000.0</td>\n",
       "    </tr>\n",
       "    <tr>\n",
       "      <th>13</th>\n",
       "      <td>22</td>\n",
       "      <td>Soccer Skills</td>\n",
       "      <td>Human Kinetics</td>\n",
       "      <td>15000.0</td>\n",
       "    </tr>\n",
       "  </tbody>\n",
       "</table>\n",
       "</div>"
      ],
      "text/plain": [
       "     0                  1               2        3\n",
       "0    1             축구의 역사            굿스포츠   7000.0\n",
       "1    2            축구아는 여자             나무수  13000.0\n",
       "2    3             축구의 이해           대한미디어  22000.0\n",
       "3    4             골프 바이블           대한미디어  35000.0\n",
       "4    5              피겨 교본            굿스포츠   8000.0\n",
       "5    6           역도 단계별기술            굿스포츠   6000.0\n",
       "6    7             야구의 추억           이상미디어  20000.0\n",
       "7    8            야구를 부탁해           이상미디어  13000.0\n",
       "8    9            올림픽 이야기             삼성당   7500.0\n",
       "9   10  Olympic Champions         Pearson  13000.0\n",
       "10  11             스포츠 의학          한솔의학서적  90000.0\n",
       "11  12             스포츠 의학         Pearson      NaN\n",
       "12  21           Zen Golf         Pearson  12000.0\n",
       "13  22      Soccer Skills  Human Kinetics  15000.0"
      ]
     },
     "execution_count": 46,
     "metadata": {},
     "output_type": "execute_result"
    }
   ],
   "source": [
    "pd_1=pd.DataFrame(rows_1)\n",
    "pd_1"
   ]
  },
  {
   "cell_type": "markdown",
   "id": "78738eb6",
   "metadata": {},
   "source": [
    "## Q48"
   ]
  },
  {
   "cell_type": "code",
   "execution_count": 47,
   "id": "fbd6eb93",
   "metadata": {
    "ExecuteTime": {
     "end_time": "2023-07-17T13:42:40.788531Z",
     "start_time": "2023-07-17T13:42:40.782253Z"
    }
   },
   "outputs": [],
   "source": [
    "import pandas as pd\n",
    "import pymysql"
   ]
  },
  {
   "cell_type": "code",
   "execution_count": 48,
   "id": "78fea189",
   "metadata": {
    "ExecuteTime": {
     "end_time": "2023-07-17T13:42:41.490396Z",
     "start_time": "2023-07-17T13:42:41.475331Z"
    }
   },
   "outputs": [],
   "source": [
    "conn1=pymysql.connect(host='127.0.0.1',user='root',password='1234',db='madang',charset='utf8')"
   ]
  },
  {
   "cell_type": "code",
   "execution_count": 49,
   "id": "0b377093",
   "metadata": {
    "ExecuteTime": {
     "end_time": "2023-07-17T13:42:42.106126Z",
     "start_time": "2023-07-17T13:42:42.093274Z"
    }
   },
   "outputs": [],
   "source": [
    "cur_1=conn1.cursor()"
   ]
  },
  {
   "cell_type": "code",
   "execution_count": 50,
   "id": "90a75857",
   "metadata": {
    "ExecuteTime": {
     "end_time": "2023-07-17T13:42:42.705856Z",
     "start_time": "2023-07-17T13:42:42.691844Z"
    }
   },
   "outputs": [],
   "source": [
    "sql='SELECT  * FROM book;'"
   ]
  },
  {
   "cell_type": "code",
   "execution_count": 51,
   "id": "d4135ec8",
   "metadata": {
    "ExecuteTime": {
     "end_time": "2023-07-17T13:42:43.330994Z",
     "start_time": "2023-07-17T13:42:43.316988Z"
    }
   },
   "outputs": [],
   "source": [
    "cur_1.execute(sql)\n",
    "rows_1=cur_1.fetchall()\n",
    "conn1.close()"
   ]
  },
  {
   "cell_type": "code",
   "execution_count": 52,
   "id": "e0864c96",
   "metadata": {
    "ExecuteTime": {
     "end_time": "2023-07-17T13:42:43.913056Z",
     "start_time": "2023-07-17T13:42:43.879110Z"
    }
   },
   "outputs": [
    {
     "data": {
      "text/html": [
       "<div>\n",
       "<style scoped>\n",
       "    .dataframe tbody tr th:only-of-type {\n",
       "        vertical-align: middle;\n",
       "    }\n",
       "\n",
       "    .dataframe tbody tr th {\n",
       "        vertical-align: top;\n",
       "    }\n",
       "\n",
       "    .dataframe thead th {\n",
       "        text-align: right;\n",
       "    }\n",
       "</style>\n",
       "<table border=\"1\" class=\"dataframe\">\n",
       "  <thead>\n",
       "    <tr style=\"text-align: right;\">\n",
       "      <th></th>\n",
       "      <th>0</th>\n",
       "      <th>1</th>\n",
       "      <th>2</th>\n",
       "      <th>3</th>\n",
       "    </tr>\n",
       "  </thead>\n",
       "  <tbody>\n",
       "    <tr>\n",
       "      <th>0</th>\n",
       "      <td>1</td>\n",
       "      <td>축구의 역사</td>\n",
       "      <td>굿스포츠</td>\n",
       "      <td>7000.0</td>\n",
       "    </tr>\n",
       "    <tr>\n",
       "      <th>1</th>\n",
       "      <td>2</td>\n",
       "      <td>축구아는 여자</td>\n",
       "      <td>나무수</td>\n",
       "      <td>13000.0</td>\n",
       "    </tr>\n",
       "    <tr>\n",
       "      <th>2</th>\n",
       "      <td>3</td>\n",
       "      <td>축구의 이해</td>\n",
       "      <td>대한미디어</td>\n",
       "      <td>22000.0</td>\n",
       "    </tr>\n",
       "    <tr>\n",
       "      <th>3</th>\n",
       "      <td>4</td>\n",
       "      <td>골프 바이블</td>\n",
       "      <td>대한미디어</td>\n",
       "      <td>35000.0</td>\n",
       "    </tr>\n",
       "    <tr>\n",
       "      <th>4</th>\n",
       "      <td>5</td>\n",
       "      <td>피겨 교본</td>\n",
       "      <td>굿스포츠</td>\n",
       "      <td>8000.0</td>\n",
       "    </tr>\n",
       "    <tr>\n",
       "      <th>5</th>\n",
       "      <td>6</td>\n",
       "      <td>역도 단계별기술</td>\n",
       "      <td>굿스포츠</td>\n",
       "      <td>6000.0</td>\n",
       "    </tr>\n",
       "    <tr>\n",
       "      <th>6</th>\n",
       "      <td>7</td>\n",
       "      <td>야구의 추억</td>\n",
       "      <td>이상미디어</td>\n",
       "      <td>20000.0</td>\n",
       "    </tr>\n",
       "    <tr>\n",
       "      <th>7</th>\n",
       "      <td>8</td>\n",
       "      <td>야구를 부탁해</td>\n",
       "      <td>이상미디어</td>\n",
       "      <td>13000.0</td>\n",
       "    </tr>\n",
       "    <tr>\n",
       "      <th>8</th>\n",
       "      <td>9</td>\n",
       "      <td>올림픽 이야기</td>\n",
       "      <td>삼성당</td>\n",
       "      <td>7500.0</td>\n",
       "    </tr>\n",
       "    <tr>\n",
       "      <th>9</th>\n",
       "      <td>10</td>\n",
       "      <td>Olympic Champions</td>\n",
       "      <td>Pearson</td>\n",
       "      <td>13000.0</td>\n",
       "    </tr>\n",
       "    <tr>\n",
       "      <th>10</th>\n",
       "      <td>12</td>\n",
       "      <td>스포츠 의학</td>\n",
       "      <td>Pearson</td>\n",
       "      <td>NaN</td>\n",
       "    </tr>\n",
       "    <tr>\n",
       "      <th>11</th>\n",
       "      <td>21</td>\n",
       "      <td>Zen Golf</td>\n",
       "      <td>Pearson</td>\n",
       "      <td>12000.0</td>\n",
       "    </tr>\n",
       "    <tr>\n",
       "      <th>12</th>\n",
       "      <td>22</td>\n",
       "      <td>Soccer Skills</td>\n",
       "      <td>Human Kinetics</td>\n",
       "      <td>15000.0</td>\n",
       "    </tr>\n",
       "  </tbody>\n",
       "</table>\n",
       "</div>"
      ],
      "text/plain": [
       "     0                  1               2        3\n",
       "0    1             축구의 역사            굿스포츠   7000.0\n",
       "1    2            축구아는 여자             나무수  13000.0\n",
       "2    3             축구의 이해           대한미디어  22000.0\n",
       "3    4             골프 바이블           대한미디어  35000.0\n",
       "4    5              피겨 교본            굿스포츠   8000.0\n",
       "5    6           역도 단계별기술            굿스포츠   6000.0\n",
       "6    7             야구의 추억           이상미디어  20000.0\n",
       "7    8            야구를 부탁해           이상미디어  13000.0\n",
       "8    9            올림픽 이야기             삼성당   7500.0\n",
       "9   10  Olympic Champions         Pearson  13000.0\n",
       "10  12             스포츠 의학         Pearson      NaN\n",
       "11  21           Zen Golf         Pearson  12000.0\n",
       "12  22      Soccer Skills  Human Kinetics  15000.0"
      ]
     },
     "execution_count": 52,
     "metadata": {},
     "output_type": "execute_result"
    }
   ],
   "source": [
    "pd_1=pd.DataFrame(rows_1)\n",
    "pd_1"
   ]
  }
 ],
 "metadata": {
  "kernelspec": {
   "display_name": "Python 3 (ipykernel)",
   "language": "python",
   "name": "python3"
  },
  "language_info": {
   "codemirror_mode": {
    "name": "ipython",
    "version": 3
   },
   "file_extension": ".py",
   "mimetype": "text/x-python",
   "name": "python",
   "nbconvert_exporter": "python",
   "pygments_lexer": "ipython3",
   "version": "3.8.16"
  },
  "toc": {
   "base_numbering": 1,
   "nav_menu": {},
   "number_sections": true,
   "sideBar": true,
   "skip_h1_title": false,
   "title_cell": "Table of Contents",
   "title_sidebar": "Contents",
   "toc_cell": false,
   "toc_position": {},
   "toc_section_display": true,
   "toc_window_display": false
  }
 },
 "nbformat": 4,
 "nbformat_minor": 5
}

{
 "cells": [
  {
   "cell_type": "markdown",
   "id": "a00fa6c5",
   "metadata": {},
   "source": [
    "## Q21"
   ]
  },
  {
   "cell_type": "code",
   "execution_count": 1,
   "id": "a84424c1",
   "metadata": {
    "ExecuteTime": {
     "end_time": "2023-07-16T16:29:59.627183Z",
     "start_time": "2023-07-16T16:29:59.114315Z"
    }
   },
   "outputs": [],
   "source": [
    "import pandas as pd\n",
    "import pymysql"
   ]
  },
  {
   "cell_type": "code",
   "execution_count": 2,
   "id": "67574fd6",
   "metadata": {
    "ExecuteTime": {
     "end_time": "2023-07-16T16:29:59.671987Z",
     "start_time": "2023-07-16T16:29:59.630821Z"
    }
   },
   "outputs": [],
   "source": [
    "conn1=pymysql.connect(host='127.0.0.1',user='root',password='1234',db='madang',charset='utf8')"
   ]
  },
  {
   "cell_type": "code",
   "execution_count": 3,
   "id": "dff8ab17",
   "metadata": {
    "ExecuteTime": {
     "end_time": "2023-07-16T16:29:59.686875Z",
     "start_time": "2023-07-16T16:29:59.673283Z"
    }
   },
   "outputs": [],
   "source": [
    "cur_1=conn1.cursor()"
   ]
  },
  {
   "cell_type": "code",
   "execution_count": 4,
   "id": "ca9f5580",
   "metadata": {
    "ExecuteTime": {
     "end_time": "2023-07-16T16:29:59.702264Z",
     "start_time": "2023-07-16T16:29:59.689126Z"
    }
   },
   "outputs": [],
   "source": [
    "sql='''SELECT *\n",
    "FROM Customer, Orders\n",
    "WHERE Customer.custid=Orders.custid\n",
    "ORDER BY Customer.custid;'''"
   ]
  },
  {
   "cell_type": "code",
   "execution_count": 5,
   "id": "2114797d",
   "metadata": {
    "ExecuteTime": {
     "end_time": "2023-07-16T16:29:59.717901Z",
     "start_time": "2023-07-16T16:29:59.703775Z"
    }
   },
   "outputs": [],
   "source": [
    "cur_1.execute(sql)\n",
    "rows_1=cur_1.fetchall()\n",
    "conn1.close()"
   ]
  },
  {
   "cell_type": "code",
   "execution_count": 6,
   "id": "9bcc19c9",
   "metadata": {
    "ExecuteTime": {
     "end_time": "2023-07-16T16:29:59.748675Z",
     "start_time": "2023-07-16T16:29:59.722245Z"
    }
   },
   "outputs": [
    {
     "data": {
      "text/html": [
       "<div>\n",
       "<style scoped>\n",
       "    .dataframe tbody tr th:only-of-type {\n",
       "        vertical-align: middle;\n",
       "    }\n",
       "\n",
       "    .dataframe tbody tr th {\n",
       "        vertical-align: top;\n",
       "    }\n",
       "\n",
       "    .dataframe thead th {\n",
       "        text-align: right;\n",
       "    }\n",
       "</style>\n",
       "<table border=\"1\" class=\"dataframe\">\n",
       "  <thead>\n",
       "    <tr style=\"text-align: right;\">\n",
       "      <th></th>\n",
       "      <th>0</th>\n",
       "      <th>1</th>\n",
       "      <th>2</th>\n",
       "      <th>3</th>\n",
       "      <th>4</th>\n",
       "      <th>5</th>\n",
       "      <th>6</th>\n",
       "      <th>7</th>\n",
       "      <th>8</th>\n",
       "    </tr>\n",
       "  </thead>\n",
       "  <tbody>\n",
       "    <tr>\n",
       "      <th>0</th>\n",
       "      <td>1</td>\n",
       "      <td>박지성</td>\n",
       "      <td>영국 맨체스타</td>\n",
       "      <td>000-5000-0001</td>\n",
       "      <td>1</td>\n",
       "      <td>1</td>\n",
       "      <td>1</td>\n",
       "      <td>6000</td>\n",
       "      <td>2014-07-01</td>\n",
       "    </tr>\n",
       "    <tr>\n",
       "      <th>1</th>\n",
       "      <td>1</td>\n",
       "      <td>박지성</td>\n",
       "      <td>영국 맨체스타</td>\n",
       "      <td>000-5000-0001</td>\n",
       "      <td>2</td>\n",
       "      <td>1</td>\n",
       "      <td>3</td>\n",
       "      <td>21000</td>\n",
       "      <td>2014-07-03</td>\n",
       "    </tr>\n",
       "    <tr>\n",
       "      <th>2</th>\n",
       "      <td>1</td>\n",
       "      <td>박지성</td>\n",
       "      <td>영국 맨체스타</td>\n",
       "      <td>000-5000-0001</td>\n",
       "      <td>6</td>\n",
       "      <td>1</td>\n",
       "      <td>2</td>\n",
       "      <td>12000</td>\n",
       "      <td>2014-07-07</td>\n",
       "    </tr>\n",
       "    <tr>\n",
       "      <th>3</th>\n",
       "      <td>2</td>\n",
       "      <td>김연아</td>\n",
       "      <td>대한민국 서울</td>\n",
       "      <td>000-6000-0001</td>\n",
       "      <td>3</td>\n",
       "      <td>2</td>\n",
       "      <td>5</td>\n",
       "      <td>8000</td>\n",
       "      <td>2014-07-03</td>\n",
       "    </tr>\n",
       "    <tr>\n",
       "      <th>4</th>\n",
       "      <td>2</td>\n",
       "      <td>김연아</td>\n",
       "      <td>대한민국 서울</td>\n",
       "      <td>000-6000-0001</td>\n",
       "      <td>9</td>\n",
       "      <td>2</td>\n",
       "      <td>10</td>\n",
       "      <td>7000</td>\n",
       "      <td>2014-07-09</td>\n",
       "    </tr>\n",
       "    <tr>\n",
       "      <th>5</th>\n",
       "      <td>3</td>\n",
       "      <td>장미란</td>\n",
       "      <td>대한민국 강원도</td>\n",
       "      <td>000-7000-0001</td>\n",
       "      <td>4</td>\n",
       "      <td>3</td>\n",
       "      <td>6</td>\n",
       "      <td>6000</td>\n",
       "      <td>2014-07-04</td>\n",
       "    </tr>\n",
       "    <tr>\n",
       "      <th>6</th>\n",
       "      <td>3</td>\n",
       "      <td>장미란</td>\n",
       "      <td>대한민국 강원도</td>\n",
       "      <td>000-7000-0001</td>\n",
       "      <td>8</td>\n",
       "      <td>3</td>\n",
       "      <td>10</td>\n",
       "      <td>12000</td>\n",
       "      <td>2014-07-08</td>\n",
       "    </tr>\n",
       "    <tr>\n",
       "      <th>7</th>\n",
       "      <td>3</td>\n",
       "      <td>장미란</td>\n",
       "      <td>대한민국 강원도</td>\n",
       "      <td>000-7000-0001</td>\n",
       "      <td>10</td>\n",
       "      <td>3</td>\n",
       "      <td>8</td>\n",
       "      <td>13000</td>\n",
       "      <td>2014-07-10</td>\n",
       "    </tr>\n",
       "    <tr>\n",
       "      <th>8</th>\n",
       "      <td>4</td>\n",
       "      <td>추신수</td>\n",
       "      <td>미국 클리블랜드</td>\n",
       "      <td>000-8000-0001</td>\n",
       "      <td>5</td>\n",
       "      <td>4</td>\n",
       "      <td>7</td>\n",
       "      <td>20000</td>\n",
       "      <td>2014-07-05</td>\n",
       "    </tr>\n",
       "    <tr>\n",
       "      <th>9</th>\n",
       "      <td>4</td>\n",
       "      <td>추신수</td>\n",
       "      <td>미국 클리블랜드</td>\n",
       "      <td>000-8000-0001</td>\n",
       "      <td>7</td>\n",
       "      <td>4</td>\n",
       "      <td>8</td>\n",
       "      <td>13000</td>\n",
       "      <td>2014-07-07</td>\n",
       "    </tr>\n",
       "  </tbody>\n",
       "</table>\n",
       "</div>"
      ],
      "text/plain": [
       "   0    1         2              3   4  5   6      7           8\n",
       "0  1  박지성   영국 맨체스타  000-5000-0001   1  1   1   6000  2014-07-01\n",
       "1  1  박지성   영국 맨체스타  000-5000-0001   2  1   3  21000  2014-07-03\n",
       "2  1  박지성   영국 맨체스타  000-5000-0001   6  1   2  12000  2014-07-07\n",
       "3  2  김연아   대한민국 서울  000-6000-0001   3  2   5   8000  2014-07-03\n",
       "4  2  김연아   대한민국 서울  000-6000-0001   9  2  10   7000  2014-07-09\n",
       "5  3  장미란  대한민국 강원도  000-7000-0001   4  3   6   6000  2014-07-04\n",
       "6  3  장미란  대한민국 강원도  000-7000-0001   8  3  10  12000  2014-07-08\n",
       "7  3  장미란  대한민국 강원도  000-7000-0001  10  3   8  13000  2014-07-10\n",
       "8  4  추신수  미국 클리블랜드  000-8000-0001   5  4   7  20000  2014-07-05\n",
       "9  4  추신수  미국 클리블랜드  000-8000-0001   7  4   8  13000  2014-07-07"
      ]
     },
     "execution_count": 6,
     "metadata": {},
     "output_type": "execute_result"
    }
   ],
   "source": [
    "pd_1=pd.DataFrame(rows_1)\n",
    "pd_1"
   ]
  },
  {
   "cell_type": "markdown",
   "id": "a5bedc24",
   "metadata": {},
   "source": [
    "## Q22"
   ]
  },
  {
   "cell_type": "code",
   "execution_count": 7,
   "id": "c19ca11e",
   "metadata": {
    "ExecuteTime": {
     "end_time": "2023-07-16T16:29:59.763492Z",
     "start_time": "2023-07-16T16:29:59.750892Z"
    }
   },
   "outputs": [],
   "source": [
    "import pandas as pd\n",
    "import pymysql"
   ]
  },
  {
   "cell_type": "code",
   "execution_count": 8,
   "id": "4c8e78fc",
   "metadata": {
    "ExecuteTime": {
     "end_time": "2023-07-16T16:29:59.778404Z",
     "start_time": "2023-07-16T16:29:59.765152Z"
    }
   },
   "outputs": [],
   "source": [
    "conn1=pymysql.connect(host='127.0.0.1',user='root',password='1234',db='madang',charset='utf8')"
   ]
  },
  {
   "cell_type": "code",
   "execution_count": 9,
   "id": "f440041b",
   "metadata": {
    "ExecuteTime": {
     "end_time": "2023-07-16T16:29:59.793535Z",
     "start_time": "2023-07-16T16:29:59.782199Z"
    }
   },
   "outputs": [],
   "source": [
    "cur_1=conn1.cursor()"
   ]
  },
  {
   "cell_type": "code",
   "execution_count": 10,
   "id": "a4b0603c",
   "metadata": {
    "ExecuteTime": {
     "end_time": "2023-07-16T16:29:59.809118Z",
     "start_time": "2023-07-16T16:29:59.796329Z"
    }
   },
   "outputs": [],
   "source": [
    "sql='''SELECT name, saleprice \n",
    "FROM Customer, Orders\n",
    "WHERE Customer.custid=Orders.custid;'''"
   ]
  },
  {
   "cell_type": "code",
   "execution_count": 11,
   "id": "4432a323",
   "metadata": {
    "ExecuteTime": {
     "end_time": "2023-07-16T16:29:59.823965Z",
     "start_time": "2023-07-16T16:29:59.811824Z"
    }
   },
   "outputs": [],
   "source": [
    "cur_1.execute(sql)\n",
    "rows_1=cur_1.fetchall()\n",
    "conn1.close()"
   ]
  },
  {
   "cell_type": "code",
   "execution_count": 12,
   "id": "54384b28",
   "metadata": {
    "ExecuteTime": {
     "end_time": "2023-07-16T16:29:59.839279Z",
     "start_time": "2023-07-16T16:29:59.826238Z"
    }
   },
   "outputs": [
    {
     "data": {
      "text/html": [
       "<div>\n",
       "<style scoped>\n",
       "    .dataframe tbody tr th:only-of-type {\n",
       "        vertical-align: middle;\n",
       "    }\n",
       "\n",
       "    .dataframe tbody tr th {\n",
       "        vertical-align: top;\n",
       "    }\n",
       "\n",
       "    .dataframe thead th {\n",
       "        text-align: right;\n",
       "    }\n",
       "</style>\n",
       "<table border=\"1\" class=\"dataframe\">\n",
       "  <thead>\n",
       "    <tr style=\"text-align: right;\">\n",
       "      <th></th>\n",
       "      <th>0</th>\n",
       "      <th>1</th>\n",
       "    </tr>\n",
       "  </thead>\n",
       "  <tbody>\n",
       "    <tr>\n",
       "      <th>0</th>\n",
       "      <td>박지성</td>\n",
       "      <td>6000</td>\n",
       "    </tr>\n",
       "    <tr>\n",
       "      <th>1</th>\n",
       "      <td>박지성</td>\n",
       "      <td>21000</td>\n",
       "    </tr>\n",
       "    <tr>\n",
       "      <th>2</th>\n",
       "      <td>박지성</td>\n",
       "      <td>12000</td>\n",
       "    </tr>\n",
       "    <tr>\n",
       "      <th>3</th>\n",
       "      <td>김연아</td>\n",
       "      <td>8000</td>\n",
       "    </tr>\n",
       "    <tr>\n",
       "      <th>4</th>\n",
       "      <td>김연아</td>\n",
       "      <td>7000</td>\n",
       "    </tr>\n",
       "    <tr>\n",
       "      <th>5</th>\n",
       "      <td>장미란</td>\n",
       "      <td>6000</td>\n",
       "    </tr>\n",
       "    <tr>\n",
       "      <th>6</th>\n",
       "      <td>장미란</td>\n",
       "      <td>12000</td>\n",
       "    </tr>\n",
       "    <tr>\n",
       "      <th>7</th>\n",
       "      <td>장미란</td>\n",
       "      <td>13000</td>\n",
       "    </tr>\n",
       "    <tr>\n",
       "      <th>8</th>\n",
       "      <td>추신수</td>\n",
       "      <td>20000</td>\n",
       "    </tr>\n",
       "    <tr>\n",
       "      <th>9</th>\n",
       "      <td>추신수</td>\n",
       "      <td>13000</td>\n",
       "    </tr>\n",
       "  </tbody>\n",
       "</table>\n",
       "</div>"
      ],
      "text/plain": [
       "     0      1\n",
       "0  박지성   6000\n",
       "1  박지성  21000\n",
       "2  박지성  12000\n",
       "3  김연아   8000\n",
       "4  김연아   7000\n",
       "5  장미란   6000\n",
       "6  장미란  12000\n",
       "7  장미란  13000\n",
       "8  추신수  20000\n",
       "9  추신수  13000"
      ]
     },
     "execution_count": 12,
     "metadata": {},
     "output_type": "execute_result"
    }
   ],
   "source": [
    "pd_1=pd.DataFrame(rows_1)\n",
    "pd_1"
   ]
  },
  {
   "cell_type": "markdown",
   "id": "8392fdc3",
   "metadata": {},
   "source": [
    "## Q23"
   ]
  },
  {
   "cell_type": "code",
   "execution_count": 13,
   "id": "4a173bc7",
   "metadata": {
    "ExecuteTime": {
     "end_time": "2023-07-16T16:29:59.854277Z",
     "start_time": "2023-07-16T16:29:59.840785Z"
    }
   },
   "outputs": [],
   "source": [
    "import pandas as pd\n",
    "import pymysql"
   ]
  },
  {
   "cell_type": "code",
   "execution_count": 14,
   "id": "c0b2c362",
   "metadata": {
    "ExecuteTime": {
     "end_time": "2023-07-16T16:29:59.869131Z",
     "start_time": "2023-07-16T16:29:59.856444Z"
    }
   },
   "outputs": [],
   "source": [
    "conn1=pymysql.connect(host='127.0.0.1',user='root',password='1234',db='madang',charset='utf8')"
   ]
  },
  {
   "cell_type": "code",
   "execution_count": 15,
   "id": "ded5ae2c",
   "metadata": {
    "ExecuteTime": {
     "end_time": "2023-07-16T16:29:59.884612Z",
     "start_time": "2023-07-16T16:29:59.871258Z"
    }
   },
   "outputs": [],
   "source": [
    "cur_1=conn1.cursor()"
   ]
  },
  {
   "cell_type": "code",
   "execution_count": 16,
   "id": "4254b313",
   "metadata": {
    "ExecuteTime": {
     "end_time": "2023-07-16T16:29:59.900247Z",
     "start_time": "2023-07-16T16:29:59.886718Z"
    }
   },
   "outputs": [],
   "source": [
    "sql='''SELECT name, SUM(saleprice)\n",
    "FROM Customer, Orders\n",
    "WHERE Customer.custid=Orders.custid\n",
    "GROUP BY Customer.name\n",
    "ORDER BY Customer.name;'''"
   ]
  },
  {
   "cell_type": "code",
   "execution_count": 17,
   "id": "a58f20a5",
   "metadata": {
    "ExecuteTime": {
     "end_time": "2023-07-16T16:29:59.915248Z",
     "start_time": "2023-07-16T16:29:59.902747Z"
    }
   },
   "outputs": [],
   "source": [
    "cur_1.execute(sql)\n",
    "rows_1=cur_1.fetchall()\n",
    "conn1.close()"
   ]
  },
  {
   "cell_type": "code",
   "execution_count": 18,
   "id": "e0be613d",
   "metadata": {
    "ExecuteTime": {
     "end_time": "2023-07-16T16:29:59.930823Z",
     "start_time": "2023-07-16T16:29:59.917243Z"
    }
   },
   "outputs": [
    {
     "data": {
      "text/html": [
       "<div>\n",
       "<style scoped>\n",
       "    .dataframe tbody tr th:only-of-type {\n",
       "        vertical-align: middle;\n",
       "    }\n",
       "\n",
       "    .dataframe tbody tr th {\n",
       "        vertical-align: top;\n",
       "    }\n",
       "\n",
       "    .dataframe thead th {\n",
       "        text-align: right;\n",
       "    }\n",
       "</style>\n",
       "<table border=\"1\" class=\"dataframe\">\n",
       "  <thead>\n",
       "    <tr style=\"text-align: right;\">\n",
       "      <th></th>\n",
       "      <th>0</th>\n",
       "      <th>1</th>\n",
       "    </tr>\n",
       "  </thead>\n",
       "  <tbody>\n",
       "    <tr>\n",
       "      <th>0</th>\n",
       "      <td>김연아</td>\n",
       "      <td>15000</td>\n",
       "    </tr>\n",
       "    <tr>\n",
       "      <th>1</th>\n",
       "      <td>박지성</td>\n",
       "      <td>39000</td>\n",
       "    </tr>\n",
       "    <tr>\n",
       "      <th>2</th>\n",
       "      <td>장미란</td>\n",
       "      <td>31000</td>\n",
       "    </tr>\n",
       "    <tr>\n",
       "      <th>3</th>\n",
       "      <td>추신수</td>\n",
       "      <td>33000</td>\n",
       "    </tr>\n",
       "  </tbody>\n",
       "</table>\n",
       "</div>"
      ],
      "text/plain": [
       "     0      1\n",
       "0  김연아  15000\n",
       "1  박지성  39000\n",
       "2  장미란  31000\n",
       "3  추신수  33000"
      ]
     },
     "execution_count": 18,
     "metadata": {},
     "output_type": "execute_result"
    }
   ],
   "source": [
    "pd_1=pd.DataFrame(rows_1)\n",
    "pd_1"
   ]
  },
  {
   "cell_type": "markdown",
   "id": "a506d0c4",
   "metadata": {},
   "source": [
    "## Q24"
   ]
  },
  {
   "cell_type": "code",
   "execution_count": 19,
   "id": "68a26938",
   "metadata": {
    "ExecuteTime": {
     "end_time": "2023-07-16T16:29:59.946305Z",
     "start_time": "2023-07-16T16:29:59.936562Z"
    }
   },
   "outputs": [],
   "source": [
    "import pandas as pd\n",
    "import pymysql"
   ]
  },
  {
   "cell_type": "code",
   "execution_count": 20,
   "id": "93f8c15c",
   "metadata": {
    "ExecuteTime": {
     "end_time": "2023-07-16T16:29:59.961985Z",
     "start_time": "2023-07-16T16:29:59.949297Z"
    }
   },
   "outputs": [],
   "source": [
    "conn1=pymysql.connect(host='127.0.0.1',user='root',password='1234',db='madang',charset='utf8')"
   ]
  },
  {
   "cell_type": "code",
   "execution_count": 21,
   "id": "f8d396fe",
   "metadata": {
    "ExecuteTime": {
     "end_time": "2023-07-16T16:29:59.977441Z",
     "start_time": "2023-07-16T16:29:59.962985Z"
    }
   },
   "outputs": [],
   "source": [
    "cur_1=conn1.cursor()"
   ]
  },
  {
   "cell_type": "code",
   "execution_count": 22,
   "id": "b4ad675c",
   "metadata": {
    "ExecuteTime": {
     "end_time": "2023-07-16T16:29:59.993088Z",
     "start_time": "2023-07-16T16:29:59.979453Z"
    }
   },
   "outputs": [],
   "source": [
    "sql='''SELECT Customer.name, book.bookname \n",
    "FROM Customer, Orders, Book \n",
    "WHERE Customer.custid=Orders.custid AND Orders.bookid=Book.bookid;'''"
   ]
  },
  {
   "cell_type": "code",
   "execution_count": 23,
   "id": "74a67fe9",
   "metadata": {
    "ExecuteTime": {
     "end_time": "2023-07-16T16:30:00.009042Z",
     "start_time": "2023-07-16T16:29:59.997261Z"
    }
   },
   "outputs": [],
   "source": [
    "cur_1.execute(sql)\n",
    "rows_1=cur_1.fetchall()\n",
    "conn1.close()"
   ]
  },
  {
   "cell_type": "code",
   "execution_count": 24,
   "id": "bc81d464",
   "metadata": {
    "ExecuteTime": {
     "end_time": "2023-07-16T16:30:00.039905Z",
     "start_time": "2023-07-16T16:30:00.022066Z"
    }
   },
   "outputs": [
    {
     "data": {
      "text/html": [
       "<div>\n",
       "<style scoped>\n",
       "    .dataframe tbody tr th:only-of-type {\n",
       "        vertical-align: middle;\n",
       "    }\n",
       "\n",
       "    .dataframe tbody tr th {\n",
       "        vertical-align: top;\n",
       "    }\n",
       "\n",
       "    .dataframe thead th {\n",
       "        text-align: right;\n",
       "    }\n",
       "</style>\n",
       "<table border=\"1\" class=\"dataframe\">\n",
       "  <thead>\n",
       "    <tr style=\"text-align: right;\">\n",
       "      <th></th>\n",
       "      <th>0</th>\n",
       "      <th>1</th>\n",
       "    </tr>\n",
       "  </thead>\n",
       "  <tbody>\n",
       "    <tr>\n",
       "      <th>0</th>\n",
       "      <td>박지성</td>\n",
       "      <td>축구의 역사</td>\n",
       "    </tr>\n",
       "    <tr>\n",
       "      <th>1</th>\n",
       "      <td>박지성</td>\n",
       "      <td>축구의 이해</td>\n",
       "    </tr>\n",
       "    <tr>\n",
       "      <th>2</th>\n",
       "      <td>김연아</td>\n",
       "      <td>피겨 교본</td>\n",
       "    </tr>\n",
       "    <tr>\n",
       "      <th>3</th>\n",
       "      <td>장미란</td>\n",
       "      <td>역도 단계별기술</td>\n",
       "    </tr>\n",
       "    <tr>\n",
       "      <th>4</th>\n",
       "      <td>추신수</td>\n",
       "      <td>야구의 추억</td>\n",
       "    </tr>\n",
       "    <tr>\n",
       "      <th>5</th>\n",
       "      <td>박지성</td>\n",
       "      <td>축구아는 여자</td>\n",
       "    </tr>\n",
       "    <tr>\n",
       "      <th>6</th>\n",
       "      <td>추신수</td>\n",
       "      <td>야구를 부탁해</td>\n",
       "    </tr>\n",
       "    <tr>\n",
       "      <th>7</th>\n",
       "      <td>장미란</td>\n",
       "      <td>Olympic Champions</td>\n",
       "    </tr>\n",
       "    <tr>\n",
       "      <th>8</th>\n",
       "      <td>김연아</td>\n",
       "      <td>Olympic Champions</td>\n",
       "    </tr>\n",
       "    <tr>\n",
       "      <th>9</th>\n",
       "      <td>장미란</td>\n",
       "      <td>야구를 부탁해</td>\n",
       "    </tr>\n",
       "  </tbody>\n",
       "</table>\n",
       "</div>"
      ],
      "text/plain": [
       "     0                  1\n",
       "0  박지성             축구의 역사\n",
       "1  박지성             축구의 이해\n",
       "2  김연아              피겨 교본\n",
       "3  장미란           역도 단계별기술\n",
       "4  추신수             야구의 추억\n",
       "5  박지성            축구아는 여자\n",
       "6  추신수            야구를 부탁해\n",
       "7  장미란  Olympic Champions\n",
       "8  김연아  Olympic Champions\n",
       "9  장미란            야구를 부탁해"
      ]
     },
     "execution_count": 24,
     "metadata": {},
     "output_type": "execute_result"
    }
   ],
   "source": [
    "pd_1=pd.DataFrame(rows_1)\n",
    "pd_1"
   ]
  },
  {
   "cell_type": "markdown",
   "id": "5fa5cb61",
   "metadata": {},
   "source": [
    "## Q25"
   ]
  },
  {
   "cell_type": "code",
   "execution_count": 25,
   "id": "99e6d2aa",
   "metadata": {
    "ExecuteTime": {
     "end_time": "2023-07-16T16:30:00.055291Z",
     "start_time": "2023-07-16T16:30:00.041915Z"
    }
   },
   "outputs": [],
   "source": [
    "import pandas as pd\n",
    "import pymysql"
   ]
  },
  {
   "cell_type": "code",
   "execution_count": 26,
   "id": "d569c64d",
   "metadata": {
    "ExecuteTime": {
     "end_time": "2023-07-16T16:30:00.070558Z",
     "start_time": "2023-07-16T16:30:00.057516Z"
    }
   },
   "outputs": [],
   "source": [
    "conn1=pymysql.connect(host='127.0.0.1',user='root',password='1234',db='madang',charset='utf8')"
   ]
  },
  {
   "cell_type": "code",
   "execution_count": 27,
   "id": "63be906c",
   "metadata": {
    "ExecuteTime": {
     "end_time": "2023-07-16T16:30:00.086182Z",
     "start_time": "2023-07-16T16:30:00.074086Z"
    }
   },
   "outputs": [],
   "source": [
    "cur_1=conn1.cursor()"
   ]
  },
  {
   "cell_type": "code",
   "execution_count": 28,
   "id": "bd2195bb",
   "metadata": {
    "ExecuteTime": {
     "end_time": "2023-07-16T16:30:00.102243Z",
     "start_time": "2023-07-16T16:30:00.089174Z"
    }
   },
   "outputs": [],
   "source": [
    "sql='''SELECT Customer.name, book.bookname\n",
    "FROM Customer, Orders, Book \n",
    "WHERE Customer.custid=Orders.custid AND Orders.bookid=Book.bookid AND Book.price=20000;'''"
   ]
  },
  {
   "cell_type": "code",
   "execution_count": 29,
   "id": "e5bbb70f",
   "metadata": {
    "ExecuteTime": {
     "end_time": "2023-07-16T16:30:00.117566Z",
     "start_time": "2023-07-16T16:30:00.105348Z"
    }
   },
   "outputs": [],
   "source": [
    "cur_1.execute(sql)\n",
    "rows_1=cur_1.fetchall()\n",
    "conn1.close()"
   ]
  },
  {
   "cell_type": "code",
   "execution_count": 30,
   "id": "c6d5b2cb",
   "metadata": {
    "ExecuteTime": {
     "end_time": "2023-07-16T16:30:00.132380Z",
     "start_time": "2023-07-16T16:30:00.120622Z"
    }
   },
   "outputs": [
    {
     "data": {
      "text/html": [
       "<div>\n",
       "<style scoped>\n",
       "    .dataframe tbody tr th:only-of-type {\n",
       "        vertical-align: middle;\n",
       "    }\n",
       "\n",
       "    .dataframe tbody tr th {\n",
       "        vertical-align: top;\n",
       "    }\n",
       "\n",
       "    .dataframe thead th {\n",
       "        text-align: right;\n",
       "    }\n",
       "</style>\n",
       "<table border=\"1\" class=\"dataframe\">\n",
       "  <thead>\n",
       "    <tr style=\"text-align: right;\">\n",
       "      <th></th>\n",
       "      <th>0</th>\n",
       "      <th>1</th>\n",
       "    </tr>\n",
       "  </thead>\n",
       "  <tbody>\n",
       "    <tr>\n",
       "      <th>0</th>\n",
       "      <td>추신수</td>\n",
       "      <td>야구의 추억</td>\n",
       "    </tr>\n",
       "  </tbody>\n",
       "</table>\n",
       "</div>"
      ],
      "text/plain": [
       "     0       1\n",
       "0  추신수  야구의 추억"
      ]
     },
     "execution_count": 30,
     "metadata": {},
     "output_type": "execute_result"
    }
   ],
   "source": [
    "pd_1=pd.DataFrame(rows_1)\n",
    "pd_1"
   ]
  },
  {
   "cell_type": "markdown",
   "id": "63daf69a",
   "metadata": {},
   "source": [
    "## Q26(외부조인)"
   ]
  },
  {
   "cell_type": "code",
   "execution_count": 31,
   "id": "7f1eea1b",
   "metadata": {
    "ExecuteTime": {
     "end_time": "2023-07-16T16:30:00.147069Z",
     "start_time": "2023-07-16T16:30:00.134513Z"
    }
   },
   "outputs": [],
   "source": [
    "import pandas as pd\n",
    "import pymysql"
   ]
  },
  {
   "cell_type": "code",
   "execution_count": 32,
   "id": "abf06591",
   "metadata": {
    "ExecuteTime": {
     "end_time": "2023-07-16T16:30:00.161979Z",
     "start_time": "2023-07-16T16:30:00.149487Z"
    }
   },
   "outputs": [],
   "source": [
    "conn1=pymysql.connect(host='127.0.0.1',user='root',password='1234',db='madang',charset='utf8')"
   ]
  },
  {
   "cell_type": "code",
   "execution_count": 33,
   "id": "1a968733",
   "metadata": {
    "ExecuteTime": {
     "end_time": "2023-07-16T16:30:00.177879Z",
     "start_time": "2023-07-16T16:30:00.164570Z"
    }
   },
   "outputs": [],
   "source": [
    "cur_1=conn1.cursor()"
   ]
  },
  {
   "cell_type": "code",
   "execution_count": 34,
   "id": "a8db7fb5",
   "metadata": {
    "ExecuteTime": {
     "end_time": "2023-07-16T16:30:00.193458Z",
     "start_time": "2023-07-16T16:30:00.178884Z"
    }
   },
   "outputs": [],
   "source": [
    "sql='''SELECT Customer.name, saleprice \n",
    "FROM Customer LEFT OUTER JOIN Orders \n",
    "ON Customer.custid=Orders.custid;'''"
   ]
  },
  {
   "cell_type": "code",
   "execution_count": 35,
   "id": "075d551b",
   "metadata": {
    "ExecuteTime": {
     "end_time": "2023-07-16T16:30:00.209176Z",
     "start_time": "2023-07-16T16:30:00.195457Z"
    }
   },
   "outputs": [],
   "source": [
    "cur_1.execute(sql)\n",
    "rows_1=cur_1.fetchall()\n",
    "conn1.close()"
   ]
  },
  {
   "cell_type": "code",
   "execution_count": 36,
   "id": "7cdc4047",
   "metadata": {
    "ExecuteTime": {
     "end_time": "2023-07-16T16:30:00.224078Z",
     "start_time": "2023-07-16T16:30:00.210356Z"
    }
   },
   "outputs": [
    {
     "data": {
      "text/html": [
       "<div>\n",
       "<style scoped>\n",
       "    .dataframe tbody tr th:only-of-type {\n",
       "        vertical-align: middle;\n",
       "    }\n",
       "\n",
       "    .dataframe tbody tr th {\n",
       "        vertical-align: top;\n",
       "    }\n",
       "\n",
       "    .dataframe thead th {\n",
       "        text-align: right;\n",
       "    }\n",
       "</style>\n",
       "<table border=\"1\" class=\"dataframe\">\n",
       "  <thead>\n",
       "    <tr style=\"text-align: right;\">\n",
       "      <th></th>\n",
       "      <th>0</th>\n",
       "      <th>1</th>\n",
       "    </tr>\n",
       "  </thead>\n",
       "  <tbody>\n",
       "    <tr>\n",
       "      <th>0</th>\n",
       "      <td>박지성</td>\n",
       "      <td>6000.0</td>\n",
       "    </tr>\n",
       "    <tr>\n",
       "      <th>1</th>\n",
       "      <td>박지성</td>\n",
       "      <td>21000.0</td>\n",
       "    </tr>\n",
       "    <tr>\n",
       "      <th>2</th>\n",
       "      <td>박지성</td>\n",
       "      <td>12000.0</td>\n",
       "    </tr>\n",
       "    <tr>\n",
       "      <th>3</th>\n",
       "      <td>김연아</td>\n",
       "      <td>8000.0</td>\n",
       "    </tr>\n",
       "    <tr>\n",
       "      <th>4</th>\n",
       "      <td>김연아</td>\n",
       "      <td>7000.0</td>\n",
       "    </tr>\n",
       "    <tr>\n",
       "      <th>5</th>\n",
       "      <td>장미란</td>\n",
       "      <td>6000.0</td>\n",
       "    </tr>\n",
       "    <tr>\n",
       "      <th>6</th>\n",
       "      <td>장미란</td>\n",
       "      <td>12000.0</td>\n",
       "    </tr>\n",
       "    <tr>\n",
       "      <th>7</th>\n",
       "      <td>장미란</td>\n",
       "      <td>13000.0</td>\n",
       "    </tr>\n",
       "    <tr>\n",
       "      <th>8</th>\n",
       "      <td>추신수</td>\n",
       "      <td>20000.0</td>\n",
       "    </tr>\n",
       "    <tr>\n",
       "      <th>9</th>\n",
       "      <td>추신수</td>\n",
       "      <td>13000.0</td>\n",
       "    </tr>\n",
       "    <tr>\n",
       "      <th>10</th>\n",
       "      <td>박세리</td>\n",
       "      <td>NaN</td>\n",
       "    </tr>\n",
       "  </tbody>\n",
       "</table>\n",
       "</div>"
      ],
      "text/plain": [
       "      0        1\n",
       "0   박지성   6000.0\n",
       "1   박지성  21000.0\n",
       "2   박지성  12000.0\n",
       "3   김연아   8000.0\n",
       "4   김연아   7000.0\n",
       "5   장미란   6000.0\n",
       "6   장미란  12000.0\n",
       "7   장미란  13000.0\n",
       "8   추신수  20000.0\n",
       "9   추신수  13000.0\n",
       "10  박세리      NaN"
      ]
     },
     "execution_count": 36,
     "metadata": {},
     "output_type": "execute_result"
    }
   ],
   "source": [
    "pd_1=pd.DataFrame(rows_1)\n",
    "pd_1"
   ]
  },
  {
   "cell_type": "markdown",
   "id": "6b8ef848",
   "metadata": {},
   "source": [
    "## Q27"
   ]
  },
  {
   "cell_type": "code",
   "execution_count": 37,
   "id": "15fb6396",
   "metadata": {
    "ExecuteTime": {
     "end_time": "2023-07-16T16:30:00.239031Z",
     "start_time": "2023-07-16T16:30:00.226653Z"
    }
   },
   "outputs": [],
   "source": [
    "import pandas as pd\n",
    "import pymysql"
   ]
  },
  {
   "cell_type": "code",
   "execution_count": 38,
   "id": "ae627941",
   "metadata": {
    "ExecuteTime": {
     "end_time": "2023-07-16T16:30:00.254116Z",
     "start_time": "2023-07-16T16:30:00.240525Z"
    }
   },
   "outputs": [],
   "source": [
    "conn1=pymysql.connect(host='127.0.0.1',user='root',password='1234',db='madang',charset='utf8')"
   ]
  },
  {
   "cell_type": "code",
   "execution_count": 39,
   "id": "c6bf15d0",
   "metadata": {
    "ExecuteTime": {
     "end_time": "2023-07-16T16:30:00.269168Z",
     "start_time": "2023-07-16T16:30:00.256121Z"
    }
   },
   "outputs": [],
   "source": [
    "cur_1=conn1.cursor()"
   ]
  },
  {
   "cell_type": "code",
   "execution_count": 40,
   "id": "fec1620f",
   "metadata": {
    "ExecuteTime": {
     "end_time": "2023-07-16T16:30:00.284825Z",
     "start_time": "2023-07-16T16:30:00.271801Z"
    }
   },
   "outputs": [],
   "source": [
    "sql='''SELECT bookname FROM Book \n",
    "WHERE price = (SELECT MAX(price) FROM Book);'''"
   ]
  },
  {
   "cell_type": "code",
   "execution_count": 41,
   "id": "0bae1bba",
   "metadata": {
    "ExecuteTime": {
     "end_time": "2023-07-16T16:30:00.299886Z",
     "start_time": "2023-07-16T16:30:00.287139Z"
    }
   },
   "outputs": [],
   "source": [
    "cur_1.execute(sql)\n",
    "rows_1=cur_1.fetchall()\n",
    "conn1.close()"
   ]
  },
  {
   "cell_type": "code",
   "execution_count": 42,
   "id": "bcd3be5e",
   "metadata": {
    "ExecuteTime": {
     "end_time": "2023-07-16T16:30:00.315550Z",
     "start_time": "2023-07-16T16:30:00.302976Z"
    }
   },
   "outputs": [
    {
     "data": {
      "text/html": [
       "<div>\n",
       "<style scoped>\n",
       "    .dataframe tbody tr th:only-of-type {\n",
       "        vertical-align: middle;\n",
       "    }\n",
       "\n",
       "    .dataframe tbody tr th {\n",
       "        vertical-align: top;\n",
       "    }\n",
       "\n",
       "    .dataframe thead th {\n",
       "        text-align: right;\n",
       "    }\n",
       "</style>\n",
       "<table border=\"1\" class=\"dataframe\">\n",
       "  <thead>\n",
       "    <tr style=\"text-align: right;\">\n",
       "      <th></th>\n",
       "      <th>0</th>\n",
       "    </tr>\n",
       "  </thead>\n",
       "  <tbody>\n",
       "    <tr>\n",
       "      <th>0</th>\n",
       "      <td>골프 바이블</td>\n",
       "    </tr>\n",
       "  </tbody>\n",
       "</table>\n",
       "</div>"
      ],
      "text/plain": [
       "        0\n",
       "0  골프 바이블"
      ]
     },
     "execution_count": 42,
     "metadata": {},
     "output_type": "execute_result"
    }
   ],
   "source": [
    "pd_1=pd.DataFrame(rows_1)\n",
    "pd_1"
   ]
  },
  {
   "cell_type": "markdown",
   "id": "1f01fe52",
   "metadata": {},
   "source": [
    "## Q28"
   ]
  },
  {
   "cell_type": "code",
   "execution_count": 43,
   "id": "a9792933",
   "metadata": {
    "ExecuteTime": {
     "end_time": "2023-07-16T16:30:00.332278Z",
     "start_time": "2023-07-16T16:30:00.318774Z"
    }
   },
   "outputs": [],
   "source": [
    "import pandas as pd\n",
    "import pymysql"
   ]
  },
  {
   "cell_type": "code",
   "execution_count": 44,
   "id": "5e5cc98a",
   "metadata": {
    "ExecuteTime": {
     "end_time": "2023-07-16T16:30:00.346899Z",
     "start_time": "2023-07-16T16:30:00.334489Z"
    }
   },
   "outputs": [],
   "source": [
    "conn1=pymysql.connect(host='127.0.0.1',user='root',password='1234',db='madang',charset='utf8')"
   ]
  },
  {
   "cell_type": "code",
   "execution_count": 45,
   "id": "6d1159da",
   "metadata": {
    "ExecuteTime": {
     "end_time": "2023-07-16T16:30:00.361560Z",
     "start_time": "2023-07-16T16:30:00.349089Z"
    }
   },
   "outputs": [],
   "source": [
    "cur_1=conn1.cursor()"
   ]
  },
  {
   "cell_type": "code",
   "execution_count": 46,
   "id": "4441fc43",
   "metadata": {
    "ExecuteTime": {
     "end_time": "2023-07-16T16:30:00.376394Z",
     "start_time": "2023-07-16T16:30:00.363091Z"
    }
   },
   "outputs": [],
   "source": [
    "sql='''SELECT name FROM Customer \n",
    "WHERE custid IN (SELECT custid FROM Orders);'''"
   ]
  },
  {
   "cell_type": "code",
   "execution_count": 47,
   "id": "b18cce74",
   "metadata": {
    "ExecuteTime": {
     "end_time": "2023-07-16T16:30:00.392064Z",
     "start_time": "2023-07-16T16:30:00.377361Z"
    }
   },
   "outputs": [],
   "source": [
    "cur_1.execute(sql)\n",
    "rows_1=cur_1.fetchall()\n",
    "conn1.close()"
   ]
  },
  {
   "cell_type": "code",
   "execution_count": 48,
   "id": "6e75afff",
   "metadata": {
    "ExecuteTime": {
     "end_time": "2023-07-16T16:30:00.407425Z",
     "start_time": "2023-07-16T16:30:00.394020Z"
    }
   },
   "outputs": [
    {
     "data": {
      "text/html": [
       "<div>\n",
       "<style scoped>\n",
       "    .dataframe tbody tr th:only-of-type {\n",
       "        vertical-align: middle;\n",
       "    }\n",
       "\n",
       "    .dataframe tbody tr th {\n",
       "        vertical-align: top;\n",
       "    }\n",
       "\n",
       "    .dataframe thead th {\n",
       "        text-align: right;\n",
       "    }\n",
       "</style>\n",
       "<table border=\"1\" class=\"dataframe\">\n",
       "  <thead>\n",
       "    <tr style=\"text-align: right;\">\n",
       "      <th></th>\n",
       "      <th>0</th>\n",
       "    </tr>\n",
       "  </thead>\n",
       "  <tbody>\n",
       "    <tr>\n",
       "      <th>0</th>\n",
       "      <td>박지성</td>\n",
       "    </tr>\n",
       "    <tr>\n",
       "      <th>1</th>\n",
       "      <td>김연아</td>\n",
       "    </tr>\n",
       "    <tr>\n",
       "      <th>2</th>\n",
       "      <td>장미란</td>\n",
       "    </tr>\n",
       "    <tr>\n",
       "      <th>3</th>\n",
       "      <td>추신수</td>\n",
       "    </tr>\n",
       "  </tbody>\n",
       "</table>\n",
       "</div>"
      ],
      "text/plain": [
       "     0\n",
       "0  박지성\n",
       "1  김연아\n",
       "2  장미란\n",
       "3  추신수"
      ]
     },
     "execution_count": 48,
     "metadata": {},
     "output_type": "execute_result"
    }
   ],
   "source": [
    "pd_1=pd.DataFrame(rows_1)\n",
    "pd_1"
   ]
  },
  {
   "cell_type": "markdown",
   "id": "f1b25736",
   "metadata": {},
   "source": [
    "## Q29"
   ]
  },
  {
   "cell_type": "code",
   "execution_count": 49,
   "id": "4ec4102d",
   "metadata": {
    "ExecuteTime": {
     "end_time": "2023-07-16T16:30:00.422970Z",
     "start_time": "2023-07-16T16:30:00.409573Z"
    }
   },
   "outputs": [],
   "source": [
    "import pandas as pd\n",
    "import pymysql"
   ]
  },
  {
   "cell_type": "code",
   "execution_count": 50,
   "id": "c2beb05d",
   "metadata": {
    "ExecuteTime": {
     "end_time": "2023-07-16T16:30:00.437782Z",
     "start_time": "2023-07-16T16:30:00.424008Z"
    }
   },
   "outputs": [],
   "source": [
    "conn1=pymysql.connect(host='127.0.0.1',user='root',password='1234',db='madang',charset='utf8')"
   ]
  },
  {
   "cell_type": "code",
   "execution_count": 51,
   "id": "a542c33e",
   "metadata": {
    "ExecuteTime": {
     "end_time": "2023-07-16T16:30:00.453078Z",
     "start_time": "2023-07-16T16:30:00.440341Z"
    }
   },
   "outputs": [],
   "source": [
    "cur_1=conn1.cursor()"
   ]
  },
  {
   "cell_type": "code",
   "execution_count": 52,
   "id": "f34e3d57",
   "metadata": {
    "ExecuteTime": {
     "end_time": "2023-07-16T16:30:00.468029Z",
     "start_time": "2023-07-16T16:30:00.455442Z"
    }
   },
   "outputs": [],
   "source": [
    "sql='''SELECT name FROM Customer \n",
    "WHERE custid IN(SELECT custid FROM Orders \n",
    "WHERE bookid IN(SELECT bookid FROM Book WHERE publisher='대한미디어'));'''"
   ]
  },
  {
   "cell_type": "code",
   "execution_count": 53,
   "id": "33f4541a",
   "metadata": {
    "ExecuteTime": {
     "end_time": "2023-07-16T16:30:00.483609Z",
     "start_time": "2023-07-16T16:30:00.469790Z"
    }
   },
   "outputs": [],
   "source": [
    "cur_1.execute(sql)\n",
    "rows_1=cur_1.fetchall()\n",
    "conn1.close()"
   ]
  },
  {
   "cell_type": "code",
   "execution_count": 54,
   "id": "5189e1b1",
   "metadata": {
    "ExecuteTime": {
     "end_time": "2023-07-16T16:30:00.498689Z",
     "start_time": "2023-07-16T16:30:00.486060Z"
    }
   },
   "outputs": [
    {
     "data": {
      "text/html": [
       "<div>\n",
       "<style scoped>\n",
       "    .dataframe tbody tr th:only-of-type {\n",
       "        vertical-align: middle;\n",
       "    }\n",
       "\n",
       "    .dataframe tbody tr th {\n",
       "        vertical-align: top;\n",
       "    }\n",
       "\n",
       "    .dataframe thead th {\n",
       "        text-align: right;\n",
       "    }\n",
       "</style>\n",
       "<table border=\"1\" class=\"dataframe\">\n",
       "  <thead>\n",
       "    <tr style=\"text-align: right;\">\n",
       "      <th></th>\n",
       "      <th>0</th>\n",
       "    </tr>\n",
       "  </thead>\n",
       "  <tbody>\n",
       "    <tr>\n",
       "      <th>0</th>\n",
       "      <td>박지성</td>\n",
       "    </tr>\n",
       "  </tbody>\n",
       "</table>\n",
       "</div>"
      ],
      "text/plain": [
       "     0\n",
       "0  박지성"
      ]
     },
     "execution_count": 54,
     "metadata": {},
     "output_type": "execute_result"
    }
   ],
   "source": [
    "pd_1=pd.DataFrame(rows_1)\n",
    "pd_1"
   ]
  },
  {
   "cell_type": "markdown",
   "id": "a7c52988",
   "metadata": {},
   "source": [
    "## Q30"
   ]
  },
  {
   "cell_type": "code",
   "execution_count": 55,
   "id": "8cec2836",
   "metadata": {
    "ExecuteTime": {
     "end_time": "2023-07-16T16:30:00.514331Z",
     "start_time": "2023-07-16T16:30:00.500165Z"
    }
   },
   "outputs": [],
   "source": [
    "import pandas as pd\n",
    "import pymysql"
   ]
  },
  {
   "cell_type": "code",
   "execution_count": 56,
   "id": "432b6b99",
   "metadata": {
    "ExecuteTime": {
     "end_time": "2023-07-16T16:30:00.530662Z",
     "start_time": "2023-07-16T16:30:00.516734Z"
    }
   },
   "outputs": [],
   "source": [
    "conn1=pymysql.connect(host='127.0.0.1',user='root',password='1234',db='madang',charset='utf8')"
   ]
  },
  {
   "cell_type": "code",
   "execution_count": 57,
   "id": "0b75ae14",
   "metadata": {
    "ExecuteTime": {
     "end_time": "2023-07-16T16:30:00.545760Z",
     "start_time": "2023-07-16T16:30:00.536362Z"
    }
   },
   "outputs": [],
   "source": [
    "cur_1=conn1.cursor()"
   ]
  },
  {
   "cell_type": "code",
   "execution_count": 58,
   "id": "1c2aea95",
   "metadata": {
    "ExecuteTime": {
     "end_time": "2023-07-16T16:30:00.560699Z",
     "start_time": "2023-07-16T16:30:00.549538Z"
    }
   },
   "outputs": [],
   "source": [
    "sql='''SELECT b1.bookname\n",
    "FROM Book b1\n",
    "WHERE b1.price > (SELECT avg(b2.price) FROM Book b2 \n",
    "WHERE b2.publisher=b1.publisher);'''"
   ]
  },
  {
   "cell_type": "code",
   "execution_count": 59,
   "id": "75926d22",
   "metadata": {
    "ExecuteTime": {
     "end_time": "2023-07-16T16:30:00.576337Z",
     "start_time": "2023-07-16T16:30:00.563385Z"
    }
   },
   "outputs": [],
   "source": [
    "cur_1.execute(sql)\n",
    "rows_1=cur_1.fetchall()\n",
    "conn1.close()"
   ]
  },
  {
   "cell_type": "code",
   "execution_count": 60,
   "id": "33152551",
   "metadata": {
    "ExecuteTime": {
     "end_time": "2023-07-16T16:30:00.591865Z",
     "start_time": "2023-07-16T16:30:00.579521Z"
    }
   },
   "outputs": [
    {
     "data": {
      "text/html": [
       "<div>\n",
       "<style scoped>\n",
       "    .dataframe tbody tr th:only-of-type {\n",
       "        vertical-align: middle;\n",
       "    }\n",
       "\n",
       "    .dataframe tbody tr th {\n",
       "        vertical-align: top;\n",
       "    }\n",
       "\n",
       "    .dataframe thead th {\n",
       "        text-align: right;\n",
       "    }\n",
       "</style>\n",
       "<table border=\"1\" class=\"dataframe\">\n",
       "  <thead>\n",
       "    <tr style=\"text-align: right;\">\n",
       "      <th></th>\n",
       "      <th>0</th>\n",
       "    </tr>\n",
       "  </thead>\n",
       "  <tbody>\n",
       "    <tr>\n",
       "      <th>0</th>\n",
       "      <td>골프 바이블</td>\n",
       "    </tr>\n",
       "    <tr>\n",
       "      <th>1</th>\n",
       "      <td>피겨 교본</td>\n",
       "    </tr>\n",
       "    <tr>\n",
       "      <th>2</th>\n",
       "      <td>야구의 추억</td>\n",
       "    </tr>\n",
       "  </tbody>\n",
       "</table>\n",
       "</div>"
      ],
      "text/plain": [
       "        0\n",
       "0  골프 바이블\n",
       "1   피겨 교본\n",
       "2  야구의 추억"
      ]
     },
     "execution_count": 60,
     "metadata": {},
     "output_type": "execute_result"
    }
   ],
   "source": [
    "pd_1=pd.DataFrame(rows_1)\n",
    "pd_1"
   ]
  },
  {
   "cell_type": "markdown",
   "id": "d447aa4b",
   "metadata": {},
   "source": [
    "## Q31"
   ]
  },
  {
   "cell_type": "code",
   "execution_count": 61,
   "id": "7166b6b2",
   "metadata": {
    "ExecuteTime": {
     "end_time": "2023-07-16T16:30:00.607126Z",
     "start_time": "2023-07-16T16:30:00.594410Z"
    }
   },
   "outputs": [],
   "source": [
    "import pandas as pd\n",
    "import pymysql"
   ]
  },
  {
   "cell_type": "code",
   "execution_count": 62,
   "id": "cf07ac92",
   "metadata": {
    "ExecuteTime": {
     "end_time": "2023-07-16T16:30:00.622804Z",
     "start_time": "2023-07-16T16:30:00.609492Z"
    }
   },
   "outputs": [],
   "source": [
    "conn1=pymysql.connect(host='127.0.0.1',user='root',password='1234',db='madang',charset='utf8')"
   ]
  },
  {
   "cell_type": "code",
   "execution_count": 63,
   "id": "2c8bd79a",
   "metadata": {
    "ExecuteTime": {
     "end_time": "2023-07-16T16:30:00.638146Z",
     "start_time": "2023-07-16T16:30:00.625223Z"
    }
   },
   "outputs": [],
   "source": [
    "cur_1=conn1.cursor()"
   ]
  },
  {
   "cell_type": "code",
   "execution_count": 64,
   "id": "ff4f6320",
   "metadata": {
    "ExecuteTime": {
     "end_time": "2023-07-16T16:30:00.653408Z",
     "start_time": "2023-07-16T16:30:00.640529Z"
    }
   },
   "outputs": [],
   "source": [
    "sql='''SELECT name \n",
    "FROM Customer \n",
    "WHERE address LIKE '대한민국%'\n",
    "UNION  \n",
    "SELECT name\n",
    "FROM Customer \n",
    "WHERE custid IN (SELECT custid FROM Orders); '''"
   ]
  },
  {
   "cell_type": "code",
   "execution_count": 65,
   "id": "cbe4fde3",
   "metadata": {
    "ExecuteTime": {
     "end_time": "2023-07-16T16:30:00.668564Z",
     "start_time": "2023-07-16T16:30:00.655861Z"
    }
   },
   "outputs": [],
   "source": [
    "cur_1.execute(sql)\n",
    "rows_1=cur_1.fetchall()\n",
    "conn1.close()"
   ]
  },
  {
   "cell_type": "code",
   "execution_count": 66,
   "id": "b30d6019",
   "metadata": {
    "ExecuteTime": {
     "end_time": "2023-07-16T16:30:00.683605Z",
     "start_time": "2023-07-16T16:30:00.670875Z"
    }
   },
   "outputs": [
    {
     "data": {
      "text/html": [
       "<div>\n",
       "<style scoped>\n",
       "    .dataframe tbody tr th:only-of-type {\n",
       "        vertical-align: middle;\n",
       "    }\n",
       "\n",
       "    .dataframe tbody tr th {\n",
       "        vertical-align: top;\n",
       "    }\n",
       "\n",
       "    .dataframe thead th {\n",
       "        text-align: right;\n",
       "    }\n",
       "</style>\n",
       "<table border=\"1\" class=\"dataframe\">\n",
       "  <thead>\n",
       "    <tr style=\"text-align: right;\">\n",
       "      <th></th>\n",
       "      <th>0</th>\n",
       "    </tr>\n",
       "  </thead>\n",
       "  <tbody>\n",
       "    <tr>\n",
       "      <th>0</th>\n",
       "      <td>김연아</td>\n",
       "    </tr>\n",
       "    <tr>\n",
       "      <th>1</th>\n",
       "      <td>장미란</td>\n",
       "    </tr>\n",
       "    <tr>\n",
       "      <th>2</th>\n",
       "      <td>박세리</td>\n",
       "    </tr>\n",
       "    <tr>\n",
       "      <th>3</th>\n",
       "      <td>박지성</td>\n",
       "    </tr>\n",
       "    <tr>\n",
       "      <th>4</th>\n",
       "      <td>추신수</td>\n",
       "    </tr>\n",
       "  </tbody>\n",
       "</table>\n",
       "</div>"
      ],
      "text/plain": [
       "     0\n",
       "0  김연아\n",
       "1  장미란\n",
       "2  박세리\n",
       "3  박지성\n",
       "4  추신수"
      ]
     },
     "execution_count": 66,
     "metadata": {},
     "output_type": "execute_result"
    }
   ],
   "source": [
    "pd_1=pd.DataFrame(rows_1)\n",
    "pd_1"
   ]
  },
  {
   "cell_type": "markdown",
   "id": "a0893d15",
   "metadata": {},
   "source": [
    "## Q32"
   ]
  },
  {
   "cell_type": "code",
   "execution_count": 67,
   "id": "5b9c6d1a",
   "metadata": {
    "ExecuteTime": {
     "end_time": "2023-07-16T16:30:00.698746Z",
     "start_time": "2023-07-16T16:30:00.685811Z"
    }
   },
   "outputs": [],
   "source": [
    "import pandas as pd\n",
    "import pymysql"
   ]
  },
  {
   "cell_type": "code",
   "execution_count": 68,
   "id": "efbebdcc",
   "metadata": {
    "ExecuteTime": {
     "end_time": "2023-07-16T16:30:00.713611Z",
     "start_time": "2023-07-16T16:30:00.699909Z"
    }
   },
   "outputs": [],
   "source": [
    "conn1=pymysql.connect(host='127.0.0.1',user='root',password='1234',db='madang',charset='utf8')"
   ]
  },
  {
   "cell_type": "code",
   "execution_count": 69,
   "id": "738a75a0",
   "metadata": {
    "ExecuteTime": {
     "end_time": "2023-07-16T16:30:00.729507Z",
     "start_time": "2023-07-16T16:30:00.716617Z"
    }
   },
   "outputs": [],
   "source": [
    "cur_1=conn1.cursor()"
   ]
  },
  {
   "cell_type": "code",
   "execution_count": 70,
   "id": "0fd13a5e",
   "metadata": {
    "ExecuteTime": {
     "end_time": "2023-07-16T16:30:00.744747Z",
     "start_time": "2023-07-16T16:30:00.732040Z"
    }
   },
   "outputs": [],
   "source": [
    "sql='''SELECT name, address \n",
    "FROM Customer cs \n",
    "WHERE EXISTS (SELECT * FROM Orders od WHERE cs.custid=od.custid);'''"
   ]
  },
  {
   "cell_type": "code",
   "execution_count": 71,
   "id": "e87f202c",
   "metadata": {
    "ExecuteTime": {
     "end_time": "2023-07-16T16:30:00.760087Z",
     "start_time": "2023-07-16T16:30:00.746925Z"
    }
   },
   "outputs": [],
   "source": [
    "cur_1.execute(sql)\n",
    "rows_1=cur_1.fetchall()\n",
    "conn1.close()"
   ]
  },
  {
   "cell_type": "code",
   "execution_count": 72,
   "id": "38f3c4c9",
   "metadata": {
    "ExecuteTime": {
     "end_time": "2023-07-16T16:30:00.775725Z",
     "start_time": "2023-07-16T16:30:00.764590Z"
    }
   },
   "outputs": [
    {
     "data": {
      "text/html": [
       "<div>\n",
       "<style scoped>\n",
       "    .dataframe tbody tr th:only-of-type {\n",
       "        vertical-align: middle;\n",
       "    }\n",
       "\n",
       "    .dataframe tbody tr th {\n",
       "        vertical-align: top;\n",
       "    }\n",
       "\n",
       "    .dataframe thead th {\n",
       "        text-align: right;\n",
       "    }\n",
       "</style>\n",
       "<table border=\"1\" class=\"dataframe\">\n",
       "  <thead>\n",
       "    <tr style=\"text-align: right;\">\n",
       "      <th></th>\n",
       "      <th>0</th>\n",
       "      <th>1</th>\n",
       "    </tr>\n",
       "  </thead>\n",
       "  <tbody>\n",
       "    <tr>\n",
       "      <th>0</th>\n",
       "      <td>박지성</td>\n",
       "      <td>영국 맨체스타</td>\n",
       "    </tr>\n",
       "    <tr>\n",
       "      <th>1</th>\n",
       "      <td>김연아</td>\n",
       "      <td>대한민국 서울</td>\n",
       "    </tr>\n",
       "    <tr>\n",
       "      <th>2</th>\n",
       "      <td>장미란</td>\n",
       "      <td>대한민국 강원도</td>\n",
       "    </tr>\n",
       "    <tr>\n",
       "      <th>3</th>\n",
       "      <td>추신수</td>\n",
       "      <td>미국 클리블랜드</td>\n",
       "    </tr>\n",
       "  </tbody>\n",
       "</table>\n",
       "</div>"
      ],
      "text/plain": [
       "     0         1\n",
       "0  박지성   영국 맨체스타\n",
       "1  김연아   대한민국 서울\n",
       "2  장미란  대한민국 강원도\n",
       "3  추신수  미국 클리블랜드"
      ]
     },
     "execution_count": 72,
     "metadata": {},
     "output_type": "execute_result"
    }
   ],
   "source": [
    "pd_1=pd.DataFrame(rows_1)\n",
    "pd_1"
   ]
  }
 ],
 "metadata": {
  "kernelspec": {
   "display_name": "Python 3 (ipykernel)",
   "language": "python",
   "name": "python3"
  },
  "language_info": {
   "codemirror_mode": {
    "name": "ipython",
    "version": 3
   },
   "file_extension": ".py",
   "mimetype": "text/x-python",
   "name": "python",
   "nbconvert_exporter": "python",
   "pygments_lexer": "ipython3",
   "version": "3.8.16"
  },
  "toc": {
   "base_numbering": 1,
   "nav_menu": {},
   "number_sections": true,
   "sideBar": true,
   "skip_h1_title": false,
   "title_cell": "Table of Contents",
   "title_sidebar": "Contents",
   "toc_cell": false,
   "toc_position": {},
   "toc_section_display": true,
   "toc_window_display": false
  }
 },
 "nbformat": 4,
 "nbformat_minor": 5
}

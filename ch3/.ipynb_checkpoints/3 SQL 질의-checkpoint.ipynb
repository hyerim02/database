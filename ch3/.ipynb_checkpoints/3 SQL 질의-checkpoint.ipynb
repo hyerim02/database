{
 "cells": [
  {
   "cell_type": "markdown",
   "id": "a00fa6c5",
   "metadata": {},
   "source": [
    "## Q21"
   ]
  },
  {
   "cell_type": "code",
   "execution_count": 1,
   "id": "a84424c1",
   "metadata": {
    "ExecuteTime": {
     "end_time": "2023-07-16T15:42:19.909192Z",
     "start_time": "2023-07-16T15:42:16.882063Z"
    }
   },
   "outputs": [],
   "source": [
    "import pandas as pd\n",
    "import pymysql"
   ]
  },
  {
   "cell_type": "code",
   "execution_count": 2,
   "id": "67574fd6",
   "metadata": {
    "ExecuteTime": {
     "end_time": "2023-07-16T15:42:19.924400Z",
     "start_time": "2023-07-16T15:42:19.913458Z"
    }
   },
   "outputs": [],
   "source": [
    "conn1=pymysql.connect(host='127.0.0.1',user='root',password='1234',db='madang',charset='utf8')"
   ]
  },
  {
   "cell_type": "code",
   "execution_count": 3,
   "id": "dff8ab17",
   "metadata": {
    "ExecuteTime": {
     "end_time": "2023-07-16T15:42:19.939526Z",
     "start_time": "2023-07-16T15:42:19.927208Z"
    }
   },
   "outputs": [],
   "source": [
    "cur_1=conn1.cursor()"
   ]
  },
  {
   "cell_type": "code",
   "execution_count": 4,
   "id": "ca9f5580",
   "metadata": {
    "ExecuteTime": {
     "end_time": "2023-07-16T15:42:19.955512Z",
     "start_time": "2023-07-16T15:42:19.942057Z"
    }
   },
   "outputs": [],
   "source": [
    "sql='''SELECT *\n",
    "FROM Customer, Orders\n",
    "WHERE Customer.custid=Orders.custid\n",
    "ORDER BY Customer.custid;'''"
   ]
  },
  {
   "cell_type": "code",
   "execution_count": 5,
   "id": "2114797d",
   "metadata": {
    "ExecuteTime": {
     "end_time": "2023-07-16T15:42:19.970792Z",
     "start_time": "2023-07-16T15:42:19.960566Z"
    }
   },
   "outputs": [],
   "source": [
    "cur_1.execute(sql)\n",
    "rows_1=cur_1.fetchall()\n",
    "conn1.close()"
   ]
  },
  {
   "cell_type": "code",
   "execution_count": 6,
   "id": "9bcc19c9",
   "metadata": {
    "ExecuteTime": {
     "end_time": "2023-07-16T15:42:20.001408Z",
     "start_time": "2023-07-16T15:42:19.974061Z"
    }
   },
   "outputs": [
    {
     "data": {
      "text/html": [
       "<div>\n",
       "<style scoped>\n",
       "    .dataframe tbody tr th:only-of-type {\n",
       "        vertical-align: middle;\n",
       "    }\n",
       "\n",
       "    .dataframe tbody tr th {\n",
       "        vertical-align: top;\n",
       "    }\n",
       "\n",
       "    .dataframe thead th {\n",
       "        text-align: right;\n",
       "    }\n",
       "</style>\n",
       "<table border=\"1\" class=\"dataframe\">\n",
       "  <thead>\n",
       "    <tr style=\"text-align: right;\">\n",
       "      <th></th>\n",
       "      <th>0</th>\n",
       "    </tr>\n",
       "  </thead>\n",
       "  <tbody>\n",
       "    <tr>\n",
       "      <th>0</th>\n",
       "      <td>118000</td>\n",
       "    </tr>\n",
       "  </tbody>\n",
       "</table>\n",
       "</div>"
      ],
      "text/plain": [
       "        0\n",
       "0  118000"
      ]
     },
     "execution_count": 6,
     "metadata": {},
     "output_type": "execute_result"
    }
   ],
   "source": [
    "pd_1=pd.DataFrame(rows_1)\n",
    "pd_1"
   ]
  },
  {
   "cell_type": "markdown",
   "id": "a5bedc24",
   "metadata": {},
   "source": [
    "## Q22"
   ]
  },
  {
   "cell_type": "code",
   "execution_count": 13,
   "id": "c19ca11e",
   "metadata": {
    "ExecuteTime": {
     "end_time": "2023-07-16T15:42:20.109494Z",
     "start_time": "2023-07-16T15:42:20.097498Z"
    }
   },
   "outputs": [],
   "source": [
    "import pandas as pd\n",
    "import pymysql"
   ]
  },
  {
   "cell_type": "code",
   "execution_count": 14,
   "id": "4c8e78fc",
   "metadata": {
    "ExecuteTime": {
     "end_time": "2023-07-16T15:42:20.124502Z",
     "start_time": "2023-07-16T15:42:20.115009Z"
    }
   },
   "outputs": [],
   "source": [
    "conn1=pymysql.connect(host='127.0.0.1',user='root',password='1234',db='madang',charset='utf8')"
   ]
  },
  {
   "cell_type": "code",
   "execution_count": 15,
   "id": "f440041b",
   "metadata": {
    "ExecuteTime": {
     "end_time": "2023-07-16T15:42:20.139501Z",
     "start_time": "2023-07-16T15:42:20.126497Z"
    }
   },
   "outputs": [],
   "source": [
    "cur_1=conn1.cursor()"
   ]
  },
  {
   "cell_type": "code",
   "execution_count": 16,
   "id": "a4b0603c",
   "metadata": {
    "ExecuteTime": {
     "end_time": "2023-07-16T15:42:20.154389Z",
     "start_time": "2023-07-16T15:42:20.141794Z"
    }
   },
   "outputs": [],
   "source": [
    "sql='''SELECT name, saleprice \n",
    "FROM Customer, Orders\n",
    "WHERE Customer.custid=Orders.custid;'''"
   ]
  },
  {
   "cell_type": "code",
   "execution_count": 17,
   "id": "4432a323",
   "metadata": {
    "ExecuteTime": {
     "end_time": "2023-07-16T15:42:20.169351Z",
     "start_time": "2023-07-16T15:42:20.157755Z"
    }
   },
   "outputs": [],
   "source": [
    "cur_1.execute(sql)\n",
    "rows_1=cur_1.fetchall()\n",
    "conn1.close()"
   ]
  },
  {
   "cell_type": "code",
   "execution_count": 18,
   "id": "54384b28",
   "metadata": {
    "ExecuteTime": {
     "end_time": "2023-07-16T15:42:20.184731Z",
     "start_time": "2023-07-16T15:42:20.172135Z"
    }
   },
   "outputs": [
    {
     "data": {
      "text/html": [
       "<div>\n",
       "<style scoped>\n",
       "    .dataframe tbody tr th:only-of-type {\n",
       "        vertical-align: middle;\n",
       "    }\n",
       "\n",
       "    .dataframe tbody tr th {\n",
       "        vertical-align: top;\n",
       "    }\n",
       "\n",
       "    .dataframe thead th {\n",
       "        text-align: right;\n",
       "    }\n",
       "</style>\n",
       "<table border=\"1\" class=\"dataframe\">\n",
       "  <thead>\n",
       "    <tr style=\"text-align: right;\">\n",
       "      <th></th>\n",
       "      <th>0</th>\n",
       "    </tr>\n",
       "  </thead>\n",
       "  <tbody>\n",
       "    <tr>\n",
       "      <th>0</th>\n",
       "      <td>15000</td>\n",
       "    </tr>\n",
       "  </tbody>\n",
       "</table>\n",
       "</div>"
      ],
      "text/plain": [
       "       0\n",
       "0  15000"
      ]
     },
     "execution_count": 18,
     "metadata": {},
     "output_type": "execute_result"
    }
   ],
   "source": [
    "pd_1=pd.DataFrame(rows_1)\n",
    "pd_1"
   ]
  },
  {
   "cell_type": "markdown",
   "id": "8392fdc3",
   "metadata": {},
   "source": [
    "## Q23"
   ]
  },
  {
   "cell_type": "code",
   "execution_count": 19,
   "id": "4a173bc7",
   "metadata": {
    "ExecuteTime": {
     "end_time": "2023-07-16T15:42:20.199660Z",
     "start_time": "2023-07-16T15:42:20.186952Z"
    }
   },
   "outputs": [],
   "source": [
    "import pandas as pd\n",
    "import pymysql"
   ]
  },
  {
   "cell_type": "code",
   "execution_count": 20,
   "id": "c0b2c362",
   "metadata": {
    "ExecuteTime": {
     "end_time": "2023-07-16T15:42:20.214387Z",
     "start_time": "2023-07-16T15:42:20.201855Z"
    }
   },
   "outputs": [],
   "source": [
    "conn1=pymysql.connect(host='127.0.0.1',user='root',password='1234',db='madang',charset='utf8')"
   ]
  },
  {
   "cell_type": "code",
   "execution_count": 21,
   "id": "ded5ae2c",
   "metadata": {
    "ExecuteTime": {
     "end_time": "2023-07-16T15:42:20.230028Z",
     "start_time": "2023-07-16T15:42:20.217006Z"
    }
   },
   "outputs": [],
   "source": [
    "cur_1=conn1.cursor()"
   ]
  },
  {
   "cell_type": "code",
   "execution_count": 22,
   "id": "4254b313",
   "metadata": {
    "ExecuteTime": {
     "end_time": "2023-07-16T15:42:20.245648Z",
     "start_time": "2023-07-16T15:42:20.232241Z"
    }
   },
   "outputs": [],
   "source": [
    "sql='''SELECT name, SUM(saleprice)\n",
    "FROM Customer, Orders\n",
    "WHERE Customer.custid=Orders.custid\n",
    "GROUP BY Customer.name\n",
    "ORDER BY Customer.name;'''"
   ]
  },
  {
   "cell_type": "code",
   "execution_count": 23,
   "id": "a58f20a5",
   "metadata": {
    "ExecuteTime": {
     "end_time": "2023-07-16T15:42:20.260519Z",
     "start_time": "2023-07-16T15:42:20.247270Z"
    }
   },
   "outputs": [],
   "source": [
    "cur_1.execute(sql)\n",
    "rows_1=cur_1.fetchall()\n",
    "conn1.close()"
   ]
  },
  {
   "cell_type": "code",
   "execution_count": 24,
   "id": "e0be613d",
   "metadata": {
    "ExecuteTime": {
     "end_time": "2023-07-16T15:42:20.275368Z",
     "start_time": "2023-07-16T15:42:20.263043Z"
    }
   },
   "outputs": [
    {
     "data": {
      "text/html": [
       "<div>\n",
       "<style scoped>\n",
       "    .dataframe tbody tr th:only-of-type {\n",
       "        vertical-align: middle;\n",
       "    }\n",
       "\n",
       "    .dataframe tbody tr th {\n",
       "        vertical-align: top;\n",
       "    }\n",
       "\n",
       "    .dataframe thead th {\n",
       "        text-align: right;\n",
       "    }\n",
       "</style>\n",
       "<table border=\"1\" class=\"dataframe\">\n",
       "  <thead>\n",
       "    <tr style=\"text-align: right;\">\n",
       "      <th></th>\n",
       "      <th>0</th>\n",
       "      <th>1</th>\n",
       "      <th>2</th>\n",
       "      <th>3</th>\n",
       "    </tr>\n",
       "  </thead>\n",
       "  <tbody>\n",
       "    <tr>\n",
       "      <th>0</th>\n",
       "      <td>118000</td>\n",
       "      <td>11800.0000</td>\n",
       "      <td>6000</td>\n",
       "      <td>21000</td>\n",
       "    </tr>\n",
       "  </tbody>\n",
       "</table>\n",
       "</div>"
      ],
      "text/plain": [
       "        0           1     2      3\n",
       "0  118000  11800.0000  6000  21000"
      ]
     },
     "execution_count": 24,
     "metadata": {},
     "output_type": "execute_result"
    }
   ],
   "source": [
    "pd_1=pd.DataFrame(rows_1)\n",
    "pd_1"
   ]
  },
  {
   "cell_type": "markdown",
   "id": "a506d0c4",
   "metadata": {},
   "source": [
    "## Q24"
   ]
  },
  {
   "cell_type": "code",
   "execution_count": 25,
   "id": "68a26938",
   "metadata": {
    "ExecuteTime": {
     "end_time": "2023-07-16T15:42:20.290487Z",
     "start_time": "2023-07-16T15:42:20.277470Z"
    }
   },
   "outputs": [],
   "source": [
    "import pandas as pd\n",
    "import pymysql"
   ]
  },
  {
   "cell_type": "code",
   "execution_count": 26,
   "id": "93f8c15c",
   "metadata": {
    "ExecuteTime": {
     "end_time": "2023-07-16T15:42:20.305369Z",
     "start_time": "2023-07-16T15:42:20.291995Z"
    }
   },
   "outputs": [],
   "source": [
    "conn1=pymysql.connect(host='127.0.0.1',user='root',password='1234',db='madang',charset='utf8')"
   ]
  },
  {
   "cell_type": "code",
   "execution_count": 27,
   "id": "f8d396fe",
   "metadata": {
    "ExecuteTime": {
     "end_time": "2023-07-16T15:42:20.320688Z",
     "start_time": "2023-07-16T15:42:20.307886Z"
    }
   },
   "outputs": [],
   "source": [
    "cur_1=conn1.cursor()"
   ]
  },
  {
   "cell_type": "code",
   "execution_count": 28,
   "id": "b4ad675c",
   "metadata": {
    "ExecuteTime": {
     "end_time": "2023-07-16T15:42:20.335716Z",
     "start_time": "2023-07-16T15:42:20.324213Z"
    }
   },
   "outputs": [],
   "source": [
    "sql='''SELECT Customer.name, book.bookname \n",
    "FROM Customer, Orders, Book \n",
    "WHERE Customer.custid=Orders.custid AND Orders.bookid=Book.bookid;'''"
   ]
  },
  {
   "cell_type": "code",
   "execution_count": 29,
   "id": "74a67fe9",
   "metadata": {
    "ExecuteTime": {
     "end_time": "2023-07-16T15:42:20.350817Z",
     "start_time": "2023-07-16T15:42:20.338049Z"
    }
   },
   "outputs": [],
   "source": [
    "cur_1.execute(sql)\n",
    "rows_1=cur_1.fetchall()\n",
    "conn1.close()"
   ]
  },
  {
   "cell_type": "code",
   "execution_count": 30,
   "id": "bc81d464",
   "metadata": {
    "ExecuteTime": {
     "end_time": "2023-07-16T15:42:20.366006Z",
     "start_time": "2023-07-16T15:42:20.352841Z"
    }
   },
   "outputs": [
    {
     "data": {
      "text/html": [
       "<div>\n",
       "<style scoped>\n",
       "    .dataframe tbody tr th:only-of-type {\n",
       "        vertical-align: middle;\n",
       "    }\n",
       "\n",
       "    .dataframe tbody tr th {\n",
       "        vertical-align: top;\n",
       "    }\n",
       "\n",
       "    .dataframe thead th {\n",
       "        text-align: right;\n",
       "    }\n",
       "</style>\n",
       "<table border=\"1\" class=\"dataframe\">\n",
       "  <thead>\n",
       "    <tr style=\"text-align: right;\">\n",
       "      <th></th>\n",
       "      <th>0</th>\n",
       "    </tr>\n",
       "  </thead>\n",
       "  <tbody>\n",
       "    <tr>\n",
       "      <th>0</th>\n",
       "      <td>10</td>\n",
       "    </tr>\n",
       "  </tbody>\n",
       "</table>\n",
       "</div>"
      ],
      "text/plain": [
       "    0\n",
       "0  10"
      ]
     },
     "execution_count": 30,
     "metadata": {},
     "output_type": "execute_result"
    }
   ],
   "source": [
    "pd_1=pd.DataFrame(rows_1)\n",
    "pd_1"
   ]
  },
  {
   "cell_type": "markdown",
   "id": "5fa5cb61",
   "metadata": {},
   "source": [
    "## Q25"
   ]
  },
  {
   "cell_type": "code",
   "execution_count": 31,
   "id": "99e6d2aa",
   "metadata": {
    "ExecuteTime": {
     "end_time": "2023-07-16T15:42:20.380929Z",
     "start_time": "2023-07-16T15:42:20.368001Z"
    }
   },
   "outputs": [],
   "source": [
    "import pandas as pd\n",
    "import pymysql"
   ]
  },
  {
   "cell_type": "code",
   "execution_count": 32,
   "id": "d569c64d",
   "metadata": {
    "ExecuteTime": {
     "end_time": "2023-07-16T15:42:20.395932Z",
     "start_time": "2023-07-16T15:42:20.383009Z"
    }
   },
   "outputs": [],
   "source": [
    "conn1=pymysql.connect(host='127.0.0.1',user='root',password='1234',db='madang',charset='utf8')"
   ]
  },
  {
   "cell_type": "code",
   "execution_count": 33,
   "id": "63be906c",
   "metadata": {
    "ExecuteTime": {
     "end_time": "2023-07-16T15:42:20.410802Z",
     "start_time": "2023-07-16T15:42:20.398497Z"
    }
   },
   "outputs": [],
   "source": [
    "cur_1=conn1.cursor()"
   ]
  },
  {
   "cell_type": "code",
   "execution_count": 34,
   "id": "bd2195bb",
   "metadata": {
    "ExecuteTime": {
     "end_time": "2023-07-16T15:42:20.426021Z",
     "start_time": "2023-07-16T15:42:20.411800Z"
    }
   },
   "outputs": [],
   "source": [
    "sql='''SELECT stomer.name, book.bookname\n",
    "FROM Customer, Orders, Book \n",
    "WHERE Customer.custid=Orders.custid AND Orders.bookid=Book.bookid \n",
    "AND Book. price=20000; '''"
   ]
  },
  {
   "cell_type": "code",
   "execution_count": 35,
   "id": "e5bbb70f",
   "metadata": {
    "ExecuteTime": {
     "end_time": "2023-07-16T15:42:20.441152Z",
     "start_time": "2023-07-16T15:42:20.428114Z"
    }
   },
   "outputs": [],
   "source": [
    "cur_1.execute(sql)\n",
    "rows_1=cur_1.fetchall()\n",
    "conn1.close()"
   ]
  },
  {
   "cell_type": "code",
   "execution_count": 36,
   "id": "c6d5b2cb",
   "metadata": {
    "ExecuteTime": {
     "end_time": "2023-07-16T15:42:20.456773Z",
     "start_time": "2023-07-16T15:42:20.444534Z"
    }
   },
   "outputs": [
    {
     "data": {
      "text/html": [
       "<div>\n",
       "<style scoped>\n",
       "    .dataframe tbody tr th:only-of-type {\n",
       "        vertical-align: middle;\n",
       "    }\n",
       "\n",
       "    .dataframe tbody tr th {\n",
       "        vertical-align: top;\n",
       "    }\n",
       "\n",
       "    .dataframe thead th {\n",
       "        text-align: right;\n",
       "    }\n",
       "</style>\n",
       "<table border=\"1\" class=\"dataframe\">\n",
       "  <thead>\n",
       "    <tr style=\"text-align: right;\">\n",
       "      <th></th>\n",
       "      <th>0</th>\n",
       "      <th>1</th>\n",
       "      <th>2</th>\n",
       "    </tr>\n",
       "  </thead>\n",
       "  <tbody>\n",
       "    <tr>\n",
       "      <th>0</th>\n",
       "      <td>1</td>\n",
       "      <td>3</td>\n",
       "      <td>39000</td>\n",
       "    </tr>\n",
       "    <tr>\n",
       "      <th>1</th>\n",
       "      <td>2</td>\n",
       "      <td>2</td>\n",
       "      <td>15000</td>\n",
       "    </tr>\n",
       "    <tr>\n",
       "      <th>2</th>\n",
       "      <td>3</td>\n",
       "      <td>3</td>\n",
       "      <td>31000</td>\n",
       "    </tr>\n",
       "    <tr>\n",
       "      <th>3</th>\n",
       "      <td>4</td>\n",
       "      <td>2</td>\n",
       "      <td>33000</td>\n",
       "    </tr>\n",
       "  </tbody>\n",
       "</table>\n",
       "</div>"
      ],
      "text/plain": [
       "   0  1      2\n",
       "0  1  3  39000\n",
       "1  2  2  15000\n",
       "2  3  3  31000\n",
       "3  4  2  33000"
      ]
     },
     "execution_count": 36,
     "metadata": {},
     "output_type": "execute_result"
    }
   ],
   "source": [
    "pd_1=pd.DataFrame(rows_1)\n",
    "pd_1"
   ]
  },
  {
   "cell_type": "markdown",
   "id": "63daf69a",
   "metadata": {},
   "source": [
    "## Q26(외부조인)"
   ]
  },
  {
   "cell_type": "code",
   "execution_count": 37,
   "id": "7f1eea1b",
   "metadata": {
    "ExecuteTime": {
     "end_time": "2023-07-16T15:42:20.472147Z",
     "start_time": "2023-07-16T15:42:20.459916Z"
    }
   },
   "outputs": [],
   "source": [
    "import pandas as pd\n",
    "import pymysql"
   ]
  },
  {
   "cell_type": "code",
   "execution_count": 38,
   "id": "abf06591",
   "metadata": {
    "ExecuteTime": {
     "end_time": "2023-07-16T15:42:20.487046Z",
     "start_time": "2023-07-16T15:42:20.475147Z"
    }
   },
   "outputs": [],
   "source": [
    "conn1=pymysql.connect(host='127.0.0.1',user='root',password='1234',db='madang',charset='utf8')"
   ]
  },
  {
   "cell_type": "code",
   "execution_count": 39,
   "id": "1a968733",
   "metadata": {
    "ExecuteTime": {
     "end_time": "2023-07-16T15:42:20.502788Z",
     "start_time": "2023-07-16T15:42:20.490218Z"
    }
   },
   "outputs": [],
   "source": [
    "cur_1=conn1.cursor()"
   ]
  },
  {
   "cell_type": "code",
   "execution_count": 40,
   "id": "a8db7fb5",
   "metadata": {
    "ExecuteTime": {
     "end_time": "2023-07-16T15:42:20.517762Z",
     "start_time": "2023-07-16T15:42:20.506019Z"
    }
   },
   "outputs": [],
   "source": [
    "sql='''SELECT Customer.name, saleprice \n",
    "FROM Customer LEFT OUTER JOIN Orders \n",
    "ON Customer.custid=Orders.custid;'''"
   ]
  },
  {
   "cell_type": "code",
   "execution_count": 41,
   "id": "075d551b",
   "metadata": {
    "ExecuteTime": {
     "end_time": "2023-07-16T15:42:20.532928Z",
     "start_time": "2023-07-16T15:42:20.525860Z"
    }
   },
   "outputs": [],
   "source": [
    "cur_1.execute(sql)\n",
    "rows_1=cur_1.fetchall()\n",
    "conn1.close()"
   ]
  },
  {
   "cell_type": "code",
   "execution_count": 42,
   "id": "7cdc4047",
   "metadata": {
    "ExecuteTime": {
     "end_time": "2023-07-16T15:42:20.548404Z",
     "start_time": "2023-07-16T15:42:20.535579Z"
    }
   },
   "outputs": [
    {
     "data": {
      "text/html": [
       "<div>\n",
       "<style scoped>\n",
       "    .dataframe tbody tr th:only-of-type {\n",
       "        vertical-align: middle;\n",
       "    }\n",
       "\n",
       "    .dataframe tbody tr th {\n",
       "        vertical-align: top;\n",
       "    }\n",
       "\n",
       "    .dataframe thead th {\n",
       "        text-align: right;\n",
       "    }\n",
       "</style>\n",
       "<table border=\"1\" class=\"dataframe\">\n",
       "  <thead>\n",
       "    <tr style=\"text-align: right;\">\n",
       "      <th></th>\n",
       "      <th>0</th>\n",
       "      <th>1</th>\n",
       "    </tr>\n",
       "  </thead>\n",
       "  <tbody>\n",
       "    <tr>\n",
       "      <th>0</th>\n",
       "      <td>1</td>\n",
       "      <td>2</td>\n",
       "    </tr>\n",
       "    <tr>\n",
       "      <th>1</th>\n",
       "      <td>3</td>\n",
       "      <td>2</td>\n",
       "    </tr>\n",
       "    <tr>\n",
       "      <th>2</th>\n",
       "      <td>4</td>\n",
       "      <td>2</td>\n",
       "    </tr>\n",
       "  </tbody>\n",
       "</table>\n",
       "</div>"
      ],
      "text/plain": [
       "   0  1\n",
       "0  1  2\n",
       "1  3  2\n",
       "2  4  2"
      ]
     },
     "execution_count": 42,
     "metadata": {},
     "output_type": "execute_result"
    }
   ],
   "source": [
    "pd_1=pd.DataFrame(rows_1)\n",
    "pd_1"
   ]
  },
  {
   "cell_type": "markdown",
   "id": "f71fdd82",
   "metadata": {},
   "source": [
    "## Q27"
   ]
  },
  {
   "cell_type": "code",
   "execution_count": 1,
   "id": "daffe6b2",
   "metadata": {
    "ExecuteTime": {
     "end_time": "2023-07-16T15:42:19.909192Z",
     "start_time": "2023-07-16T15:42:16.882063Z"
    }
   },
   "outputs": [],
   "source": [
    "import pandas as pd\n",
    "import pymysql"
   ]
  },
  {
   "cell_type": "code",
   "execution_count": 2,
   "id": "9e1f60de",
   "metadata": {
    "ExecuteTime": {
     "end_time": "2023-07-16T15:42:19.924400Z",
     "start_time": "2023-07-16T15:42:19.913458Z"
    }
   },
   "outputs": [],
   "source": [
    "conn1=pymysql.connect(host='127.0.0.1',user='root',password='1234',db='madang',charset='utf8')"
   ]
  },
  {
   "cell_type": "code",
   "execution_count": 3,
   "id": "fcdba8b3",
   "metadata": {
    "ExecuteTime": {
     "end_time": "2023-07-16T15:42:19.939526Z",
     "start_time": "2023-07-16T15:42:19.927208Z"
    }
   },
   "outputs": [],
   "source": [
    "cur_1=conn1.cursor()"
   ]
  },
  {
   "cell_type": "code",
   "execution_count": 4,
   "id": "93f85d79",
   "metadata": {
    "ExecuteTime": {
     "end_time": "2023-07-16T15:42:19.955512Z",
     "start_time": "2023-07-16T15:42:19.942057Z"
    }
   },
   "outputs": [],
   "source": [
    "sql='''SELECT bookname FROM Book \n",
    "WHERE price = (SELECT MAX(price) FROM Book);'''"
   ]
  },
  {
   "cell_type": "code",
   "execution_count": 5,
   "id": "9d8a3635",
   "metadata": {
    "ExecuteTime": {
     "end_time": "2023-07-16T15:42:19.970792Z",
     "start_time": "2023-07-16T15:42:19.960566Z"
    }
   },
   "outputs": [],
   "source": [
    "cur_1.execute(sql)\n",
    "rows_1=cur_1.fetchall()\n",
    "conn1.close()"
   ]
  },
  {
   "cell_type": "code",
   "execution_count": 6,
   "id": "464c181d",
   "metadata": {
    "ExecuteTime": {
     "end_time": "2023-07-16T15:42:20.001408Z",
     "start_time": "2023-07-16T15:42:19.974061Z"
    }
   },
   "outputs": [
    {
     "data": {
      "text/html": [
       "<div>\n",
       "<style scoped>\n",
       "    .dataframe tbody tr th:only-of-type {\n",
       "        vertical-align: middle;\n",
       "    }\n",
       "\n",
       "    .dataframe tbody tr th {\n",
       "        vertical-align: top;\n",
       "    }\n",
       "\n",
       "    .dataframe thead th {\n",
       "        text-align: right;\n",
       "    }\n",
       "</style>\n",
       "<table border=\"1\" class=\"dataframe\">\n",
       "  <thead>\n",
       "    <tr style=\"text-align: right;\">\n",
       "      <th></th>\n",
       "      <th>0</th>\n",
       "    </tr>\n",
       "  </thead>\n",
       "  <tbody>\n",
       "    <tr>\n",
       "      <th>0</th>\n",
       "      <td>118000</td>\n",
       "    </tr>\n",
       "  </tbody>\n",
       "</table>\n",
       "</div>"
      ],
      "text/plain": [
       "        0\n",
       "0  118000"
      ]
     },
     "execution_count": 6,
     "metadata": {},
     "output_type": "execute_result"
    }
   ],
   "source": [
    "pd_1=pd.DataFrame(rows_1)\n",
    "pd_1"
   ]
  },
  {
   "cell_type": "markdown",
   "id": "78f9e70e",
   "metadata": {},
   "source": [
    "## Q28"
   ]
  },
  {
   "cell_type": "code",
   "execution_count": 13,
   "id": "b22ceefa",
   "metadata": {
    "ExecuteTime": {
     "end_time": "2023-07-16T15:42:20.109494Z",
     "start_time": "2023-07-16T15:42:20.097498Z"
    }
   },
   "outputs": [],
   "source": [
    "import pandas as pd\n",
    "import pymysql"
   ]
  },
  {
   "cell_type": "code",
   "execution_count": 14,
   "id": "34829e6d",
   "metadata": {
    "ExecuteTime": {
     "end_time": "2023-07-16T15:42:20.124502Z",
     "start_time": "2023-07-16T15:42:20.115009Z"
    }
   },
   "outputs": [],
   "source": [
    "conn1=pymysql.connect(host='127.0.0.1',user='root',password='1234',db='madang',charset='utf8')"
   ]
  },
  {
   "cell_type": "code",
   "execution_count": 15,
   "id": "f4713668",
   "metadata": {
    "ExecuteTime": {
     "end_time": "2023-07-16T15:42:20.139501Z",
     "start_time": "2023-07-16T15:42:20.126497Z"
    }
   },
   "outputs": [],
   "source": [
    "cur_1=conn1.cursor()"
   ]
  },
  {
   "cell_type": "code",
   "execution_count": 16,
   "id": "c7809a3b",
   "metadata": {
    "ExecuteTime": {
     "end_time": "2023-07-16T15:42:20.154389Z",
     "start_time": "2023-07-16T15:42:20.141794Z"
    }
   },
   "outputs": [],
   "source": [
    "sql='''SELECT name FROM Customer \n",
    "WHERE custid IN (SELECT custid FROM Orders);'''"
   ]
  },
  {
   "cell_type": "code",
   "execution_count": 17,
   "id": "c112bedf",
   "metadata": {
    "ExecuteTime": {
     "end_time": "2023-07-16T15:42:20.169351Z",
     "start_time": "2023-07-16T15:42:20.157755Z"
    }
   },
   "outputs": [],
   "source": [
    "cur_1.execute(sql)\n",
    "rows_1=cur_1.fetchall()\n",
    "conn1.close()"
   ]
  },
  {
   "cell_type": "code",
   "execution_count": 18,
   "id": "ff7699f5",
   "metadata": {
    "ExecuteTime": {
     "end_time": "2023-07-16T15:42:20.184731Z",
     "start_time": "2023-07-16T15:42:20.172135Z"
    }
   },
   "outputs": [
    {
     "data": {
      "text/html": [
       "<div>\n",
       "<style scoped>\n",
       "    .dataframe tbody tr th:only-of-type {\n",
       "        vertical-align: middle;\n",
       "    }\n",
       "\n",
       "    .dataframe tbody tr th {\n",
       "        vertical-align: top;\n",
       "    }\n",
       "\n",
       "    .dataframe thead th {\n",
       "        text-align: right;\n",
       "    }\n",
       "</style>\n",
       "<table border=\"1\" class=\"dataframe\">\n",
       "  <thead>\n",
       "    <tr style=\"text-align: right;\">\n",
       "      <th></th>\n",
       "      <th>0</th>\n",
       "    </tr>\n",
       "  </thead>\n",
       "  <tbody>\n",
       "    <tr>\n",
       "      <th>0</th>\n",
       "      <td>15000</td>\n",
       "    </tr>\n",
       "  </tbody>\n",
       "</table>\n",
       "</div>"
      ],
      "text/plain": [
       "       0\n",
       "0  15000"
      ]
     },
     "execution_count": 18,
     "metadata": {},
     "output_type": "execute_result"
    }
   ],
   "source": [
    "pd_1=pd.DataFrame(rows_1)\n",
    "pd_1"
   ]
  },
  {
   "cell_type": "markdown",
   "id": "a979efe6",
   "metadata": {},
   "source": [
    "## Q29"
   ]
  },
  {
   "cell_type": "code",
   "execution_count": 19,
   "id": "96b15897",
   "metadata": {
    "ExecuteTime": {
     "end_time": "2023-07-16T15:42:20.199660Z",
     "start_time": "2023-07-16T15:42:20.186952Z"
    }
   },
   "outputs": [],
   "source": [
    "import pandas as pd\n",
    "import pymysql"
   ]
  },
  {
   "cell_type": "code",
   "execution_count": 20,
   "id": "efb8c2f7",
   "metadata": {
    "ExecuteTime": {
     "end_time": "2023-07-16T15:42:20.214387Z",
     "start_time": "2023-07-16T15:42:20.201855Z"
    }
   },
   "outputs": [],
   "source": [
    "conn1=pymysql.connect(host='127.0.0.1',user='root',password='1234',db='madang',charset='utf8')"
   ]
  },
  {
   "cell_type": "code",
   "execution_count": 21,
   "id": "75fbd117",
   "metadata": {
    "ExecuteTime": {
     "end_time": "2023-07-16T15:42:20.230028Z",
     "start_time": "2023-07-16T15:42:20.217006Z"
    }
   },
   "outputs": [],
   "source": [
    "cur_1=conn1.cursor()"
   ]
  },
  {
   "cell_type": "code",
   "execution_count": 22,
   "id": "92aff0ab",
   "metadata": {
    "ExecuteTime": {
     "end_time": "2023-07-16T15:42:20.245648Z",
     "start_time": "2023-07-16T15:42:20.232241Z"
    }
   },
   "outputs": [],
   "source": [
    "sql='''SELECT name FROM Customer \n",
    "WHERE custid IN(SELECT custid FROM Orders \n",
    "WHERE bookid IN(SELECT bookid FROM Book WHERE publisher='대한미디어'));'''"
   ]
  },
  {
   "cell_type": "code",
   "execution_count": 23,
   "id": "db9d0ba1",
   "metadata": {
    "ExecuteTime": {
     "end_time": "2023-07-16T15:42:20.260519Z",
     "start_time": "2023-07-16T15:42:20.247270Z"
    }
   },
   "outputs": [],
   "source": [
    "cur_1.execute(sql)\n",
    "rows_1=cur_1.fetchall()\n",
    "conn1.close()"
   ]
  },
  {
   "cell_type": "code",
   "execution_count": 24,
   "id": "bf0b0440",
   "metadata": {
    "ExecuteTime": {
     "end_time": "2023-07-16T15:42:20.275368Z",
     "start_time": "2023-07-16T15:42:20.263043Z"
    }
   },
   "outputs": [
    {
     "data": {
      "text/html": [
       "<div>\n",
       "<style scoped>\n",
       "    .dataframe tbody tr th:only-of-type {\n",
       "        vertical-align: middle;\n",
       "    }\n",
       "\n",
       "    .dataframe tbody tr th {\n",
       "        vertical-align: top;\n",
       "    }\n",
       "\n",
       "    .dataframe thead th {\n",
       "        text-align: right;\n",
       "    }\n",
       "</style>\n",
       "<table border=\"1\" class=\"dataframe\">\n",
       "  <thead>\n",
       "    <tr style=\"text-align: right;\">\n",
       "      <th></th>\n",
       "      <th>0</th>\n",
       "      <th>1</th>\n",
       "      <th>2</th>\n",
       "      <th>3</th>\n",
       "    </tr>\n",
       "  </thead>\n",
       "  <tbody>\n",
       "    <tr>\n",
       "      <th>0</th>\n",
       "      <td>118000</td>\n",
       "      <td>11800.0000</td>\n",
       "      <td>6000</td>\n",
       "      <td>21000</td>\n",
       "    </tr>\n",
       "  </tbody>\n",
       "</table>\n",
       "</div>"
      ],
      "text/plain": [
       "        0           1     2      3\n",
       "0  118000  11800.0000  6000  21000"
      ]
     },
     "execution_count": 24,
     "metadata": {},
     "output_type": "execute_result"
    }
   ],
   "source": [
    "pd_1=pd.DataFrame(rows_1)\n",
    "pd_1"
   ]
  },
  {
   "cell_type": "markdown",
   "id": "ce3c5e11",
   "metadata": {},
   "source": [
    "## Q30"
   ]
  },
  {
   "cell_type": "code",
   "execution_count": 25,
   "id": "d67dcf3c",
   "metadata": {
    "ExecuteTime": {
     "end_time": "2023-07-16T15:42:20.290487Z",
     "start_time": "2023-07-16T15:42:20.277470Z"
    }
   },
   "outputs": [],
   "source": [
    "import pandas as pd\n",
    "import pymysql"
   ]
  },
  {
   "cell_type": "code",
   "execution_count": 26,
   "id": "ec955899",
   "metadata": {
    "ExecuteTime": {
     "end_time": "2023-07-16T15:42:20.305369Z",
     "start_time": "2023-07-16T15:42:20.291995Z"
    }
   },
   "outputs": [],
   "source": [
    "conn1=pymysql.connect(host='127.0.0.1',user='root',password='1234',db='madang',charset='utf8')"
   ]
  },
  {
   "cell_type": "code",
   "execution_count": 27,
   "id": "1ce64165",
   "metadata": {
    "ExecuteTime": {
     "end_time": "2023-07-16T15:42:20.320688Z",
     "start_time": "2023-07-16T15:42:20.307886Z"
    }
   },
   "outputs": [],
   "source": [
    "cur_1=conn1.cursor()"
   ]
  },
  {
   "cell_type": "code",
   "execution_count": 28,
   "id": "656602c8",
   "metadata": {
    "ExecuteTime": {
     "end_time": "2023-07-16T15:42:20.335716Z",
     "start_time": "2023-07-16T15:42:20.324213Z"
    }
   },
   "outputs": [],
   "source": [
    "sql='''SELECT b1.bookname\n",
    "FROM Book b1\n",
    "WHERE b1.price > (SELECT avg(b2.price) FROM Book b2 \n",
    "WHERE b2.publisher=b1.publisher);'''"
   ]
  },
  {
   "cell_type": "code",
   "execution_count": 29,
   "id": "8e68024a",
   "metadata": {
    "ExecuteTime": {
     "end_time": "2023-07-16T15:42:20.350817Z",
     "start_time": "2023-07-16T15:42:20.338049Z"
    }
   },
   "outputs": [],
   "source": [
    "cur_1.execute(sql)\n",
    "rows_1=cur_1.fetchall()\n",
    "conn1.close()"
   ]
  },
  {
   "cell_type": "code",
   "execution_count": 30,
   "id": "8728f31e",
   "metadata": {
    "ExecuteTime": {
     "end_time": "2023-07-16T15:42:20.366006Z",
     "start_time": "2023-07-16T15:42:20.352841Z"
    }
   },
   "outputs": [
    {
     "data": {
      "text/html": [
       "<div>\n",
       "<style scoped>\n",
       "    .dataframe tbody tr th:only-of-type {\n",
       "        vertical-align: middle;\n",
       "    }\n",
       "\n",
       "    .dataframe tbody tr th {\n",
       "        vertical-align: top;\n",
       "    }\n",
       "\n",
       "    .dataframe thead th {\n",
       "        text-align: right;\n",
       "    }\n",
       "</style>\n",
       "<table border=\"1\" class=\"dataframe\">\n",
       "  <thead>\n",
       "    <tr style=\"text-align: right;\">\n",
       "      <th></th>\n",
       "      <th>0</th>\n",
       "    </tr>\n",
       "  </thead>\n",
       "  <tbody>\n",
       "    <tr>\n",
       "      <th>0</th>\n",
       "      <td>10</td>\n",
       "    </tr>\n",
       "  </tbody>\n",
       "</table>\n",
       "</div>"
      ],
      "text/plain": [
       "    0\n",
       "0  10"
      ]
     },
     "execution_count": 30,
     "metadata": {},
     "output_type": "execute_result"
    }
   ],
   "source": [
    "pd_1=pd.DataFrame(rows_1)\n",
    "pd_1"
   ]
  },
  {
   "cell_type": "markdown",
   "id": "ff538ffc",
   "metadata": {},
   "source": [
    "## Q31"
   ]
  },
  {
   "cell_type": "code",
   "execution_count": 31,
   "id": "a5d8e039",
   "metadata": {
    "ExecuteTime": {
     "end_time": "2023-07-16T15:42:20.380929Z",
     "start_time": "2023-07-16T15:42:20.368001Z"
    }
   },
   "outputs": [],
   "source": [
    "import pandas as pd\n",
    "import pymysql"
   ]
  },
  {
   "cell_type": "code",
   "execution_count": 32,
   "id": "7fc1c2c0",
   "metadata": {
    "ExecuteTime": {
     "end_time": "2023-07-16T15:42:20.395932Z",
     "start_time": "2023-07-16T15:42:20.383009Z"
    }
   },
   "outputs": [],
   "source": [
    "conn1=pymysql.connect(host='127.0.0.1',user='root',password='1234',db='madang',charset='utf8')"
   ]
  },
  {
   "cell_type": "code",
   "execution_count": 33,
   "id": "c5b07b8d",
   "metadata": {
    "ExecuteTime": {
     "end_time": "2023-07-16T15:42:20.410802Z",
     "start_time": "2023-07-16T15:42:20.398497Z"
    }
   },
   "outputs": [],
   "source": [
    "cur_1=conn1.cursor()"
   ]
  },
  {
   "cell_type": "code",
   "execution_count": 34,
   "id": "88339523",
   "metadata": {
    "ExecuteTime": {
     "end_time": "2023-07-16T15:42:20.426021Z",
     "start_time": "2023-07-16T15:42:20.411800Z"
    }
   },
   "outputs": [],
   "source": [
    "sql='''SELECT name \n",
    "FROM Customer \n",
    "WHERE address LIKE '대한민국%'\n",
    "UNION  \n",
    "SELECT name\n",
    "FROM Customer \n",
    "WHERE custid IN (SELECT custid FROM Orders); '''"
   ]
  },
  {
   "cell_type": "code",
   "execution_count": 35,
   "id": "34b9bb9e",
   "metadata": {
    "ExecuteTime": {
     "end_time": "2023-07-16T15:42:20.441152Z",
     "start_time": "2023-07-16T15:42:20.428114Z"
    }
   },
   "outputs": [],
   "source": [
    "cur_1.execute(sql)\n",
    "rows_1=cur_1.fetchall()\n",
    "conn1.close()"
   ]
  },
  {
   "cell_type": "code",
   "execution_count": 36,
   "id": "ee4f3a59",
   "metadata": {
    "ExecuteTime": {
     "end_time": "2023-07-16T15:42:20.456773Z",
     "start_time": "2023-07-16T15:42:20.444534Z"
    }
   },
   "outputs": [
    {
     "data": {
      "text/html": [
       "<div>\n",
       "<style scoped>\n",
       "    .dataframe tbody tr th:only-of-type {\n",
       "        vertical-align: middle;\n",
       "    }\n",
       "\n",
       "    .dataframe tbody tr th {\n",
       "        vertical-align: top;\n",
       "    }\n",
       "\n",
       "    .dataframe thead th {\n",
       "        text-align: right;\n",
       "    }\n",
       "</style>\n",
       "<table border=\"1\" class=\"dataframe\">\n",
       "  <thead>\n",
       "    <tr style=\"text-align: right;\">\n",
       "      <th></th>\n",
       "      <th>0</th>\n",
       "      <th>1</th>\n",
       "      <th>2</th>\n",
       "    </tr>\n",
       "  </thead>\n",
       "  <tbody>\n",
       "    <tr>\n",
       "      <th>0</th>\n",
       "      <td>1</td>\n",
       "      <td>3</td>\n",
       "      <td>39000</td>\n",
       "    </tr>\n",
       "    <tr>\n",
       "      <th>1</th>\n",
       "      <td>2</td>\n",
       "      <td>2</td>\n",
       "      <td>15000</td>\n",
       "    </tr>\n",
       "    <tr>\n",
       "      <th>2</th>\n",
       "      <td>3</td>\n",
       "      <td>3</td>\n",
       "      <td>31000</td>\n",
       "    </tr>\n",
       "    <tr>\n",
       "      <th>3</th>\n",
       "      <td>4</td>\n",
       "      <td>2</td>\n",
       "      <td>33000</td>\n",
       "    </tr>\n",
       "  </tbody>\n",
       "</table>\n",
       "</div>"
      ],
      "text/plain": [
       "   0  1      2\n",
       "0  1  3  39000\n",
       "1  2  2  15000\n",
       "2  3  3  31000\n",
       "3  4  2  33000"
      ]
     },
     "execution_count": 36,
     "metadata": {},
     "output_type": "execute_result"
    }
   ],
   "source": [
    "pd_1=pd.DataFrame(rows_1)\n",
    "pd_1"
   ]
  },
  {
   "cell_type": "markdown",
   "id": "8c57e57d",
   "metadata": {},
   "source": [
    "## Q26(외부조인)"
   ]
  },
  {
   "cell_type": "code",
   "execution_count": 37,
   "id": "5cab4d22",
   "metadata": {
    "ExecuteTime": {
     "end_time": "2023-07-16T15:42:20.472147Z",
     "start_time": "2023-07-16T15:42:20.459916Z"
    }
   },
   "outputs": [],
   "source": [
    "import pandas as pd\n",
    "import pymysql"
   ]
  },
  {
   "cell_type": "code",
   "execution_count": 38,
   "id": "d549fc31",
   "metadata": {
    "ExecuteTime": {
     "end_time": "2023-07-16T15:42:20.487046Z",
     "start_time": "2023-07-16T15:42:20.475147Z"
    }
   },
   "outputs": [],
   "source": [
    "conn1=pymysql.connect(host='127.0.0.1',user='root',password='1234',db='madang',charset='utf8')"
   ]
  },
  {
   "cell_type": "code",
   "execution_count": 39,
   "id": "c7cef870",
   "metadata": {
    "ExecuteTime": {
     "end_time": "2023-07-16T15:42:20.502788Z",
     "start_time": "2023-07-16T15:42:20.490218Z"
    }
   },
   "outputs": [],
   "source": [
    "cur_1=conn1.cursor()"
   ]
  },
  {
   "cell_type": "code",
   "execution_count": 40,
   "id": "23563cb1",
   "metadata": {
    "ExecuteTime": {
     "end_time": "2023-07-16T15:42:20.517762Z",
     "start_time": "2023-07-16T15:42:20.506019Z"
    }
   },
   "outputs": [],
   "source": [
    "sql='''SELECT Customer.name, saleprice \n",
    "FROM Customer LEFT OUTER JOIN Orders \n",
    "ON Customer.custid=Orders.custid;'''"
   ]
  },
  {
   "cell_type": "code",
   "execution_count": 41,
   "id": "15abd087",
   "metadata": {
    "ExecuteTime": {
     "end_time": "2023-07-16T15:42:20.532928Z",
     "start_time": "2023-07-16T15:42:20.525860Z"
    }
   },
   "outputs": [],
   "source": [
    "cur_1.execute(sql)\n",
    "rows_1=cur_1.fetchall()\n",
    "conn1.close()"
   ]
  },
  {
   "cell_type": "code",
   "execution_count": 42,
   "id": "d1ccef84",
   "metadata": {
    "ExecuteTime": {
     "end_time": "2023-07-16T15:42:20.548404Z",
     "start_time": "2023-07-16T15:42:20.535579Z"
    }
   },
   "outputs": [
    {
     "data": {
      "text/html": [
       "<div>\n",
       "<style scoped>\n",
       "    .dataframe tbody tr th:only-of-type {\n",
       "        vertical-align: middle;\n",
       "    }\n",
       "\n",
       "    .dataframe tbody tr th {\n",
       "        vertical-align: top;\n",
       "    }\n",
       "\n",
       "    .dataframe thead th {\n",
       "        text-align: right;\n",
       "    }\n",
       "</style>\n",
       "<table border=\"1\" class=\"dataframe\">\n",
       "  <thead>\n",
       "    <tr style=\"text-align: right;\">\n",
       "      <th></th>\n",
       "      <th>0</th>\n",
       "      <th>1</th>\n",
       "    </tr>\n",
       "  </thead>\n",
       "  <tbody>\n",
       "    <tr>\n",
       "      <th>0</th>\n",
       "      <td>1</td>\n",
       "      <td>2</td>\n",
       "    </tr>\n",
       "    <tr>\n",
       "      <th>1</th>\n",
       "      <td>3</td>\n",
       "      <td>2</td>\n",
       "    </tr>\n",
       "    <tr>\n",
       "      <th>2</th>\n",
       "      <td>4</td>\n",
       "      <td>2</td>\n",
       "    </tr>\n",
       "  </tbody>\n",
       "</table>\n",
       "</div>"
      ],
      "text/plain": [
       "   0  1\n",
       "0  1  2\n",
       "1  3  2\n",
       "2  4  2"
      ]
     },
     "execution_count": 42,
     "metadata": {},
     "output_type": "execute_result"
    }
   ],
   "source": [
    "pd_1=pd.DataFrame(rows_1)\n",
    "pd_1"
   ]
  },
  {
   "cell_type": "markdown",
   "id": "abb2ad0e",
   "metadata": {},
   "source": []
  }
 ],
 "metadata": {
  "kernelspec": {
   "display_name": "Python 3 (ipykernel)",
   "language": "python",
   "name": "python3"
  },
  "language_info": {
   "codemirror_mode": {
    "name": "ipython",
    "version": 3
   },
   "file_extension": ".py",
   "mimetype": "text/x-python",
   "name": "python",
   "nbconvert_exporter": "python",
   "pygments_lexer": "ipython3",
   "version": "3.8.16"
  },
  "toc": {
   "base_numbering": 1,
   "nav_menu": {},
   "number_sections": true,
   "sideBar": true,
   "skip_h1_title": false,
   "title_cell": "Table of Contents",
   "title_sidebar": "Contents",
   "toc_cell": false,
   "toc_position": {},
   "toc_section_display": true,
   "toc_window_display": false
  }
 },
 "nbformat": 4,
 "nbformat_minor": 5
}

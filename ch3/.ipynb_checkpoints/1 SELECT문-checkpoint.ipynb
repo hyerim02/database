{
 "cells": [
  {
   "cell_type": "markdown",
   "id": "a00fa6c5",
   "metadata": {},
   "source": [
    "## Q1"
   ]
  },
  {
   "cell_type": "code",
   "execution_count": 1,
   "id": "a84424c1",
   "metadata": {
    "ExecuteTime": {
     "end_time": "2023-07-16T12:29:03.748153Z",
     "start_time": "2023-07-16T12:29:02.976232Z"
    }
   },
   "outputs": [],
   "source": [
    "import pandas as pd\n",
    "import pymysql"
   ]
  },
  {
   "cell_type": "code",
   "execution_count": 2,
   "id": "67574fd6",
   "metadata": {
    "ExecuteTime": {
     "end_time": "2023-07-16T12:29:03.763204Z",
     "start_time": "2023-07-16T12:29:03.751658Z"
    }
   },
   "outputs": [],
   "source": [
    "conn1=pymysql.connect(host='127.0.0.1',user='root',password='1234',db='madang',charset='utf8')"
   ]
  },
  {
   "cell_type": "code",
   "execution_count": 3,
   "id": "dff8ab17",
   "metadata": {
    "ExecuteTime": {
     "end_time": "2023-07-16T12:29:03.778753Z",
     "start_time": "2023-07-16T12:29:03.765241Z"
    }
   },
   "outputs": [],
   "source": [
    "cur_1=conn1.cursor()"
   ]
  },
  {
   "cell_type": "code",
   "execution_count": 4,
   "id": "ca9f5580",
   "metadata": {
    "ExecuteTime": {
     "end_time": "2023-07-16T12:29:03.793949Z",
     "start_time": "2023-07-16T12:29:03.782969Z"
    }
   },
   "outputs": [],
   "source": [
    "sql=\"SELECT price,bookname FROM book;\""
   ]
  },
  {
   "cell_type": "code",
   "execution_count": 5,
   "id": "2114797d",
   "metadata": {
    "ExecuteTime": {
     "end_time": "2023-07-16T12:29:03.809462Z",
     "start_time": "2023-07-16T12:29:03.796461Z"
    }
   },
   "outputs": [],
   "source": [
    "cur_1.execute(sql)\n",
    "rows_1=cur_1.fetchall()\n",
    "conn1.close()"
   ]
  },
  {
   "cell_type": "code",
   "execution_count": 6,
   "id": "9bcc19c9",
   "metadata": {
    "ExecuteTime": {
     "end_time": "2023-07-16T12:29:03.839331Z",
     "start_time": "2023-07-16T12:29:03.811681Z"
    }
   },
   "outputs": [
    {
     "data": {
      "text/html": [
       "<div>\n",
       "<style scoped>\n",
       "    .dataframe tbody tr th:only-of-type {\n",
       "        vertical-align: middle;\n",
       "    }\n",
       "\n",
       "    .dataframe tbody tr th {\n",
       "        vertical-align: top;\n",
       "    }\n",
       "\n",
       "    .dataframe thead th {\n",
       "        text-align: right;\n",
       "    }\n",
       "</style>\n",
       "<table border=\"1\" class=\"dataframe\">\n",
       "  <thead>\n",
       "    <tr style=\"text-align: right;\">\n",
       "      <th></th>\n",
       "      <th>0</th>\n",
       "      <th>1</th>\n",
       "    </tr>\n",
       "  </thead>\n",
       "  <tbody>\n",
       "    <tr>\n",
       "      <th>0</th>\n",
       "      <td>7000</td>\n",
       "      <td>축구의 역사</td>\n",
       "    </tr>\n",
       "    <tr>\n",
       "      <th>1</th>\n",
       "      <td>13000</td>\n",
       "      <td>축구아는 여자</td>\n",
       "    </tr>\n",
       "    <tr>\n",
       "      <th>2</th>\n",
       "      <td>22000</td>\n",
       "      <td>축구의 이해</td>\n",
       "    </tr>\n",
       "    <tr>\n",
       "      <th>3</th>\n",
       "      <td>35000</td>\n",
       "      <td>골프 바이블</td>\n",
       "    </tr>\n",
       "    <tr>\n",
       "      <th>4</th>\n",
       "      <td>8000</td>\n",
       "      <td>피겨 교본</td>\n",
       "    </tr>\n",
       "    <tr>\n",
       "      <th>5</th>\n",
       "      <td>6000</td>\n",
       "      <td>역도 단계별기술</td>\n",
       "    </tr>\n",
       "    <tr>\n",
       "      <th>6</th>\n",
       "      <td>20000</td>\n",
       "      <td>야구의 추억</td>\n",
       "    </tr>\n",
       "    <tr>\n",
       "      <th>7</th>\n",
       "      <td>13000</td>\n",
       "      <td>야구를 부탁해</td>\n",
       "    </tr>\n",
       "    <tr>\n",
       "      <th>8</th>\n",
       "      <td>7500</td>\n",
       "      <td>올림픽 이야기</td>\n",
       "    </tr>\n",
       "    <tr>\n",
       "      <th>9</th>\n",
       "      <td>13000</td>\n",
       "      <td>Olympic Champions</td>\n",
       "    </tr>\n",
       "  </tbody>\n",
       "</table>\n",
       "</div>"
      ],
      "text/plain": [
       "       0                  1\n",
       "0   7000             축구의 역사\n",
       "1  13000            축구아는 여자\n",
       "2  22000             축구의 이해\n",
       "3  35000             골프 바이블\n",
       "4   8000              피겨 교본\n",
       "5   6000           역도 단계별기술\n",
       "6  20000             야구의 추억\n",
       "7  13000            야구를 부탁해\n",
       "8   7500            올림픽 이야기\n",
       "9  13000  Olympic Champions"
      ]
     },
     "execution_count": 6,
     "metadata": {},
     "output_type": "execute_result"
    }
   ],
   "source": [
    "pd_1=pd.DataFrame(rows_1)\n",
    "pd_1"
   ]
  },
  {
   "cell_type": "markdown",
   "id": "a5bedc24",
   "metadata": {},
   "source": [
    "## Q2"
   ]
  },
  {
   "cell_type": "code",
   "execution_count": 7,
   "id": "c19ca11e",
   "metadata": {
    "ExecuteTime": {
     "end_time": "2023-07-16T12:29:03.854178Z",
     "start_time": "2023-07-16T12:29:03.841194Z"
    }
   },
   "outputs": [],
   "source": [
    "import pandas as pd\n",
    "import pymysql"
   ]
  },
  {
   "cell_type": "code",
   "execution_count": 8,
   "id": "4c8e78fc",
   "metadata": {
    "ExecuteTime": {
     "end_time": "2023-07-16T12:29:03.884701Z",
     "start_time": "2023-07-16T12:29:03.859452Z"
    }
   },
   "outputs": [],
   "source": [
    "conn1=pymysql.connect(host='127.0.0.1',user='root',password='1234',db='madang',charset='utf8')"
   ]
  },
  {
   "cell_type": "code",
   "execution_count": 9,
   "id": "f440041b",
   "metadata": {
    "ExecuteTime": {
     "end_time": "2023-07-16T12:29:03.900100Z",
     "start_time": "2023-07-16T12:29:03.887696Z"
    }
   },
   "outputs": [],
   "source": [
    "cur_1=conn1.cursor()"
   ]
  },
  {
   "cell_type": "code",
   "execution_count": 10,
   "id": "a4b0603c",
   "metadata": {
    "ExecuteTime": {
     "end_time": "2023-07-16T12:29:03.931069Z",
     "start_time": "2023-07-16T12:29:03.905809Z"
    }
   },
   "outputs": [],
   "source": [
    "sql=\"SELECT * FROM book;\""
   ]
  },
  {
   "cell_type": "code",
   "execution_count": 11,
   "id": "4432a323",
   "metadata": {
    "ExecuteTime": {
     "end_time": "2023-07-16T12:29:03.946421Z",
     "start_time": "2023-07-16T12:29:03.935383Z"
    }
   },
   "outputs": [],
   "source": [
    "cur_1.execute(sql)\n",
    "rows_1=cur_1.fetchall()\n",
    "conn1.close()"
   ]
  },
  {
   "cell_type": "code",
   "execution_count": 12,
   "id": "54384b28",
   "metadata": {
    "ExecuteTime": {
     "end_time": "2023-07-16T12:29:03.977542Z",
     "start_time": "2023-07-16T12:29:03.951440Z"
    }
   },
   "outputs": [
    {
     "data": {
      "text/html": [
       "<div>\n",
       "<style scoped>\n",
       "    .dataframe tbody tr th:only-of-type {\n",
       "        vertical-align: middle;\n",
       "    }\n",
       "\n",
       "    .dataframe tbody tr th {\n",
       "        vertical-align: top;\n",
       "    }\n",
       "\n",
       "    .dataframe thead th {\n",
       "        text-align: right;\n",
       "    }\n",
       "</style>\n",
       "<table border=\"1\" class=\"dataframe\">\n",
       "  <thead>\n",
       "    <tr style=\"text-align: right;\">\n",
       "      <th></th>\n",
       "      <th>0</th>\n",
       "      <th>1</th>\n",
       "      <th>2</th>\n",
       "      <th>3</th>\n",
       "    </tr>\n",
       "  </thead>\n",
       "  <tbody>\n",
       "    <tr>\n",
       "      <th>0</th>\n",
       "      <td>1</td>\n",
       "      <td>축구의 역사</td>\n",
       "      <td>굿스포츠</td>\n",
       "      <td>7000</td>\n",
       "    </tr>\n",
       "    <tr>\n",
       "      <th>1</th>\n",
       "      <td>2</td>\n",
       "      <td>축구아는 여자</td>\n",
       "      <td>나무수</td>\n",
       "      <td>13000</td>\n",
       "    </tr>\n",
       "    <tr>\n",
       "      <th>2</th>\n",
       "      <td>3</td>\n",
       "      <td>축구의 이해</td>\n",
       "      <td>대한미디어</td>\n",
       "      <td>22000</td>\n",
       "    </tr>\n",
       "    <tr>\n",
       "      <th>3</th>\n",
       "      <td>4</td>\n",
       "      <td>골프 바이블</td>\n",
       "      <td>대한미디어</td>\n",
       "      <td>35000</td>\n",
       "    </tr>\n",
       "    <tr>\n",
       "      <th>4</th>\n",
       "      <td>5</td>\n",
       "      <td>피겨 교본</td>\n",
       "      <td>굿스포츠</td>\n",
       "      <td>8000</td>\n",
       "    </tr>\n",
       "    <tr>\n",
       "      <th>5</th>\n",
       "      <td>6</td>\n",
       "      <td>역도 단계별기술</td>\n",
       "      <td>굿스포츠</td>\n",
       "      <td>6000</td>\n",
       "    </tr>\n",
       "    <tr>\n",
       "      <th>6</th>\n",
       "      <td>7</td>\n",
       "      <td>야구의 추억</td>\n",
       "      <td>이상미디어</td>\n",
       "      <td>20000</td>\n",
       "    </tr>\n",
       "    <tr>\n",
       "      <th>7</th>\n",
       "      <td>8</td>\n",
       "      <td>야구를 부탁해</td>\n",
       "      <td>이상미디어</td>\n",
       "      <td>13000</td>\n",
       "    </tr>\n",
       "    <tr>\n",
       "      <th>8</th>\n",
       "      <td>9</td>\n",
       "      <td>올림픽 이야기</td>\n",
       "      <td>삼성당</td>\n",
       "      <td>7500</td>\n",
       "    </tr>\n",
       "    <tr>\n",
       "      <th>9</th>\n",
       "      <td>10</td>\n",
       "      <td>Olympic Champions</td>\n",
       "      <td>Pearson</td>\n",
       "      <td>13000</td>\n",
       "    </tr>\n",
       "  </tbody>\n",
       "</table>\n",
       "</div>"
      ],
      "text/plain": [
       "    0                  1        2      3\n",
       "0   1             축구의 역사     굿스포츠   7000\n",
       "1   2            축구아는 여자      나무수  13000\n",
       "2   3             축구의 이해    대한미디어  22000\n",
       "3   4             골프 바이블    대한미디어  35000\n",
       "4   5              피겨 교본     굿스포츠   8000\n",
       "5   6           역도 단계별기술     굿스포츠   6000\n",
       "6   7             야구의 추억    이상미디어  20000\n",
       "7   8            야구를 부탁해    이상미디어  13000\n",
       "8   9            올림픽 이야기      삼성당   7500\n",
       "9  10  Olympic Champions  Pearson  13000"
      ]
     },
     "execution_count": 12,
     "metadata": {},
     "output_type": "execute_result"
    }
   ],
   "source": [
    "pd_1=pd.DataFrame(rows_1)\n",
    "pd_1"
   ]
  },
  {
   "cell_type": "markdown",
   "id": "8392fdc3",
   "metadata": {},
   "source": [
    "## Q3"
   ]
  },
  {
   "cell_type": "code",
   "execution_count": 13,
   "id": "4a173bc7",
   "metadata": {
    "ExecuteTime": {
     "end_time": "2023-07-16T12:29:03.993362Z",
     "start_time": "2023-07-16T12:29:03.984656Z"
    }
   },
   "outputs": [],
   "source": [
    "import pandas as pd\n",
    "import pymysql"
   ]
  },
  {
   "cell_type": "code",
   "execution_count": 14,
   "id": "c0b2c362",
   "metadata": {
    "ExecuteTime": {
     "end_time": "2023-07-16T12:29:04.008410Z",
     "start_time": "2023-07-16T12:29:03.996013Z"
    }
   },
   "outputs": [],
   "source": [
    "conn1=pymysql.connect(host='127.0.0.1',user='root',password='1234',db='madang',charset='utf8')"
   ]
  },
  {
   "cell_type": "code",
   "execution_count": 15,
   "id": "ded5ae2c",
   "metadata": {
    "ExecuteTime": {
     "end_time": "2023-07-16T12:29:04.024186Z",
     "start_time": "2023-07-16T12:29:04.011696Z"
    }
   },
   "outputs": [],
   "source": [
    "cur_1=conn1.cursor()"
   ]
  },
  {
   "cell_type": "code",
   "execution_count": 16,
   "id": "4254b313",
   "metadata": {
    "ExecuteTime": {
     "end_time": "2023-07-16T12:29:04.039011Z",
     "start_time": "2023-07-16T12:29:04.026804Z"
    }
   },
   "outputs": [],
   "source": [
    "sql=\"SELECT DISTINCT publisher FROM book;\""
   ]
  },
  {
   "cell_type": "code",
   "execution_count": 17,
   "id": "a58f20a5",
   "metadata": {
    "ExecuteTime": {
     "end_time": "2023-07-16T12:29:04.054532Z",
     "start_time": "2023-07-16T12:29:04.041251Z"
    }
   },
   "outputs": [],
   "source": [
    "cur_1.execute(sql)\n",
    "rows_1=cur_1.fetchall()\n",
    "conn1.close()"
   ]
  },
  {
   "cell_type": "code",
   "execution_count": 18,
   "id": "e0be613d",
   "metadata": {
    "ExecuteTime": {
     "end_time": "2023-07-16T12:29:04.069462Z",
     "start_time": "2023-07-16T12:29:04.056714Z"
    }
   },
   "outputs": [
    {
     "data": {
      "text/html": [
       "<div>\n",
       "<style scoped>\n",
       "    .dataframe tbody tr th:only-of-type {\n",
       "        vertical-align: middle;\n",
       "    }\n",
       "\n",
       "    .dataframe tbody tr th {\n",
       "        vertical-align: top;\n",
       "    }\n",
       "\n",
       "    .dataframe thead th {\n",
       "        text-align: right;\n",
       "    }\n",
       "</style>\n",
       "<table border=\"1\" class=\"dataframe\">\n",
       "  <thead>\n",
       "    <tr style=\"text-align: right;\">\n",
       "      <th></th>\n",
       "      <th>0</th>\n",
       "    </tr>\n",
       "  </thead>\n",
       "  <tbody>\n",
       "    <tr>\n",
       "      <th>0</th>\n",
       "      <td>굿스포츠</td>\n",
       "    </tr>\n",
       "    <tr>\n",
       "      <th>1</th>\n",
       "      <td>나무수</td>\n",
       "    </tr>\n",
       "    <tr>\n",
       "      <th>2</th>\n",
       "      <td>대한미디어</td>\n",
       "    </tr>\n",
       "    <tr>\n",
       "      <th>3</th>\n",
       "      <td>이상미디어</td>\n",
       "    </tr>\n",
       "    <tr>\n",
       "      <th>4</th>\n",
       "      <td>삼성당</td>\n",
       "    </tr>\n",
       "    <tr>\n",
       "      <th>5</th>\n",
       "      <td>Pearson</td>\n",
       "    </tr>\n",
       "  </tbody>\n",
       "</table>\n",
       "</div>"
      ],
      "text/plain": [
       "         0\n",
       "0     굿스포츠\n",
       "1      나무수\n",
       "2    대한미디어\n",
       "3    이상미디어\n",
       "4      삼성당\n",
       "5  Pearson"
      ]
     },
     "execution_count": 18,
     "metadata": {},
     "output_type": "execute_result"
    }
   ],
   "source": [
    "pd_1=pd.DataFrame(rows_1)\n",
    "pd_1"
   ]
  },
  {
   "cell_type": "markdown",
   "id": "a506d0c4",
   "metadata": {},
   "source": [
    "## Q4"
   ]
  },
  {
   "cell_type": "code",
   "execution_count": 19,
   "id": "68a26938",
   "metadata": {
    "ExecuteTime": {
     "end_time": "2023-07-16T12:29:04.084339Z",
     "start_time": "2023-07-16T12:29:04.071696Z"
    }
   },
   "outputs": [],
   "source": [
    "import pandas as pd\n",
    "import pymysql"
   ]
  },
  {
   "cell_type": "code",
   "execution_count": 20,
   "id": "93f8c15c",
   "metadata": {
    "ExecuteTime": {
     "end_time": "2023-07-16T12:29:04.100342Z",
     "start_time": "2023-07-16T12:29:04.086625Z"
    }
   },
   "outputs": [],
   "source": [
    "conn1=pymysql.connect(host='127.0.0.1',user='root',password='1234',db='madang',charset='utf8')"
   ]
  },
  {
   "cell_type": "code",
   "execution_count": 21,
   "id": "f8d396fe",
   "metadata": {
    "ExecuteTime": {
     "end_time": "2023-07-16T12:29:04.115408Z",
     "start_time": "2023-07-16T12:29:04.103265Z"
    }
   },
   "outputs": [],
   "source": [
    "cur_1=conn1.cursor()"
   ]
  },
  {
   "cell_type": "code",
   "execution_count": 22,
   "id": "b4ad675c",
   "metadata": {
    "ExecuteTime": {
     "end_time": "2023-07-16T12:29:04.130182Z",
     "start_time": "2023-07-16T12:29:04.118838Z"
    }
   },
   "outputs": [],
   "source": [
    "sql=\"SELECT * FROM book WHERE price<20000;\""
   ]
  },
  {
   "cell_type": "code",
   "execution_count": 23,
   "id": "74a67fe9",
   "metadata": {
    "ExecuteTime": {
     "end_time": "2023-07-16T12:29:04.145920Z",
     "start_time": "2023-07-16T12:29:04.132972Z"
    }
   },
   "outputs": [],
   "source": [
    "cur_1.execute(sql)\n",
    "rows_1=cur_1.fetchall()\n",
    "conn1.close()"
   ]
  },
  {
   "cell_type": "code",
   "execution_count": 24,
   "id": "bc81d464",
   "metadata": {
    "ExecuteTime": {
     "end_time": "2023-07-16T12:29:04.160973Z",
     "start_time": "2023-07-16T12:29:04.149433Z"
    }
   },
   "outputs": [
    {
     "data": {
      "text/html": [
       "<div>\n",
       "<style scoped>\n",
       "    .dataframe tbody tr th:only-of-type {\n",
       "        vertical-align: middle;\n",
       "    }\n",
       "\n",
       "    .dataframe tbody tr th {\n",
       "        vertical-align: top;\n",
       "    }\n",
       "\n",
       "    .dataframe thead th {\n",
       "        text-align: right;\n",
       "    }\n",
       "</style>\n",
       "<table border=\"1\" class=\"dataframe\">\n",
       "  <thead>\n",
       "    <tr style=\"text-align: right;\">\n",
       "      <th></th>\n",
       "      <th>0</th>\n",
       "      <th>1</th>\n",
       "      <th>2</th>\n",
       "      <th>3</th>\n",
       "    </tr>\n",
       "  </thead>\n",
       "  <tbody>\n",
       "    <tr>\n",
       "      <th>0</th>\n",
       "      <td>1</td>\n",
       "      <td>축구의 역사</td>\n",
       "      <td>굿스포츠</td>\n",
       "      <td>7000</td>\n",
       "    </tr>\n",
       "    <tr>\n",
       "      <th>1</th>\n",
       "      <td>2</td>\n",
       "      <td>축구아는 여자</td>\n",
       "      <td>나무수</td>\n",
       "      <td>13000</td>\n",
       "    </tr>\n",
       "    <tr>\n",
       "      <th>2</th>\n",
       "      <td>5</td>\n",
       "      <td>피겨 교본</td>\n",
       "      <td>굿스포츠</td>\n",
       "      <td>8000</td>\n",
       "    </tr>\n",
       "    <tr>\n",
       "      <th>3</th>\n",
       "      <td>6</td>\n",
       "      <td>역도 단계별기술</td>\n",
       "      <td>굿스포츠</td>\n",
       "      <td>6000</td>\n",
       "    </tr>\n",
       "    <tr>\n",
       "      <th>4</th>\n",
       "      <td>8</td>\n",
       "      <td>야구를 부탁해</td>\n",
       "      <td>이상미디어</td>\n",
       "      <td>13000</td>\n",
       "    </tr>\n",
       "    <tr>\n",
       "      <th>5</th>\n",
       "      <td>9</td>\n",
       "      <td>올림픽 이야기</td>\n",
       "      <td>삼성당</td>\n",
       "      <td>7500</td>\n",
       "    </tr>\n",
       "    <tr>\n",
       "      <th>6</th>\n",
       "      <td>10</td>\n",
       "      <td>Olympic Champions</td>\n",
       "      <td>Pearson</td>\n",
       "      <td>13000</td>\n",
       "    </tr>\n",
       "  </tbody>\n",
       "</table>\n",
       "</div>"
      ],
      "text/plain": [
       "    0                  1        2      3\n",
       "0   1             축구의 역사     굿스포츠   7000\n",
       "1   2            축구아는 여자      나무수  13000\n",
       "2   5              피겨 교본     굿스포츠   8000\n",
       "3   6           역도 단계별기술     굿스포츠   6000\n",
       "4   8            야구를 부탁해    이상미디어  13000\n",
       "5   9            올림픽 이야기      삼성당   7500\n",
       "6  10  Olympic Champions  Pearson  13000"
      ]
     },
     "execution_count": 24,
     "metadata": {},
     "output_type": "execute_result"
    }
   ],
   "source": [
    "pd_1=pd.DataFrame(rows_1)\n",
    "pd_1"
   ]
  },
  {
   "cell_type": "markdown",
   "id": "5fa5cb61",
   "metadata": {},
   "source": [
    "## Q5"
   ]
  },
  {
   "cell_type": "code",
   "execution_count": 25,
   "id": "99e6d2aa",
   "metadata": {
    "ExecuteTime": {
     "end_time": "2023-07-16T12:29:04.191976Z",
     "start_time": "2023-07-16T12:29:04.175682Z"
    }
   },
   "outputs": [],
   "source": [
    "import pandas as pd\n",
    "import pymysql"
   ]
  },
  {
   "cell_type": "code",
   "execution_count": 26,
   "id": "d569c64d",
   "metadata": {
    "ExecuteTime": {
     "end_time": "2023-07-16T12:29:04.207100Z",
     "start_time": "2023-07-16T12:29:04.194996Z"
    }
   },
   "outputs": [],
   "source": [
    "conn1=pymysql.connect(host='127.0.0.1',user='root',password='1234',db='madang',charset='utf8')"
   ]
  },
  {
   "cell_type": "code",
   "execution_count": 27,
   "id": "63be906c",
   "metadata": {
    "ExecuteTime": {
     "end_time": "2023-07-16T12:29:04.222983Z",
     "start_time": "2023-07-16T12:29:04.209324Z"
    }
   },
   "outputs": [],
   "source": [
    "cur_1=conn1.cursor()"
   ]
  },
  {
   "cell_type": "code",
   "execution_count": 28,
   "id": "bd2195bb",
   "metadata": {
    "ExecuteTime": {
     "end_time": "2023-07-16T12:29:04.238227Z",
     "start_time": "2023-07-16T12:29:04.224982Z"
    }
   },
   "outputs": [],
   "source": [
    "sql=\"SELECT * FROM book WHERE price BETWEEN 10000 AND 20000;\""
   ]
  },
  {
   "cell_type": "code",
   "execution_count": 29,
   "id": "e5bbb70f",
   "metadata": {
    "ExecuteTime": {
     "end_time": "2023-07-16T12:29:04.253229Z",
     "start_time": "2023-07-16T12:29:04.240326Z"
    }
   },
   "outputs": [],
   "source": [
    "cur_1.execute(sql)\n",
    "rows_1=cur_1.fetchall()\n",
    "conn1.close()"
   ]
  },
  {
   "cell_type": "code",
   "execution_count": 30,
   "id": "c6d5b2cb",
   "metadata": {
    "ExecuteTime": {
     "end_time": "2023-07-16T12:29:04.268389Z",
     "start_time": "2023-07-16T12:29:04.255738Z"
    }
   },
   "outputs": [
    {
     "data": {
      "text/html": [
       "<div>\n",
       "<style scoped>\n",
       "    .dataframe tbody tr th:only-of-type {\n",
       "        vertical-align: middle;\n",
       "    }\n",
       "\n",
       "    .dataframe tbody tr th {\n",
       "        vertical-align: top;\n",
       "    }\n",
       "\n",
       "    .dataframe thead th {\n",
       "        text-align: right;\n",
       "    }\n",
       "</style>\n",
       "<table border=\"1\" class=\"dataframe\">\n",
       "  <thead>\n",
       "    <tr style=\"text-align: right;\">\n",
       "      <th></th>\n",
       "      <th>0</th>\n",
       "      <th>1</th>\n",
       "      <th>2</th>\n",
       "      <th>3</th>\n",
       "    </tr>\n",
       "  </thead>\n",
       "  <tbody>\n",
       "    <tr>\n",
       "      <th>0</th>\n",
       "      <td>2</td>\n",
       "      <td>축구아는 여자</td>\n",
       "      <td>나무수</td>\n",
       "      <td>13000</td>\n",
       "    </tr>\n",
       "    <tr>\n",
       "      <th>1</th>\n",
       "      <td>7</td>\n",
       "      <td>야구의 추억</td>\n",
       "      <td>이상미디어</td>\n",
       "      <td>20000</td>\n",
       "    </tr>\n",
       "    <tr>\n",
       "      <th>2</th>\n",
       "      <td>8</td>\n",
       "      <td>야구를 부탁해</td>\n",
       "      <td>이상미디어</td>\n",
       "      <td>13000</td>\n",
       "    </tr>\n",
       "    <tr>\n",
       "      <th>3</th>\n",
       "      <td>10</td>\n",
       "      <td>Olympic Champions</td>\n",
       "      <td>Pearson</td>\n",
       "      <td>13000</td>\n",
       "    </tr>\n",
       "  </tbody>\n",
       "</table>\n",
       "</div>"
      ],
      "text/plain": [
       "    0                  1        2      3\n",
       "0   2            축구아는 여자      나무수  13000\n",
       "1   7             야구의 추억    이상미디어  20000\n",
       "2   8            야구를 부탁해    이상미디어  13000\n",
       "3  10  Olympic Champions  Pearson  13000"
      ]
     },
     "execution_count": 30,
     "metadata": {},
     "output_type": "execute_result"
    }
   ],
   "source": [
    "pd_1=pd.DataFrame(rows_1)\n",
    "pd_1"
   ]
  },
  {
   "cell_type": "markdown",
   "id": "63daf69a",
   "metadata": {},
   "source": [
    "## Q6"
   ]
  },
  {
   "cell_type": "code",
   "execution_count": 31,
   "id": "7f1eea1b",
   "metadata": {
    "ExecuteTime": {
     "end_time": "2023-07-16T12:29:04.283224Z",
     "start_time": "2023-07-16T12:29:04.270546Z"
    }
   },
   "outputs": [],
   "source": [
    "import pandas as pd\n",
    "import pymysql"
   ]
  },
  {
   "cell_type": "code",
   "execution_count": 32,
   "id": "abf06591",
   "metadata": {
    "ExecuteTime": {
     "end_time": "2023-07-16T12:29:04.298388Z",
     "start_time": "2023-07-16T12:29:04.285400Z"
    }
   },
   "outputs": [],
   "source": [
    "conn1=pymysql.connect(host='127.0.0.1',user='root',password='1234',db='madang',charset='utf8')"
   ]
  },
  {
   "cell_type": "code",
   "execution_count": 33,
   "id": "1a968733",
   "metadata": {
    "ExecuteTime": {
     "end_time": "2023-07-16T12:29:04.313183Z",
     "start_time": "2023-07-16T12:29:04.299768Z"
    }
   },
   "outputs": [],
   "source": [
    "cur_1=conn1.cursor()"
   ]
  },
  {
   "cell_type": "code",
   "execution_count": 34,
   "id": "a8db7fb5",
   "metadata": {
    "ExecuteTime": {
     "end_time": "2023-07-16T12:29:04.328659Z",
     "start_time": "2023-07-16T12:29:04.315186Z"
    }
   },
   "outputs": [],
   "source": [
    "sql=\"SELECT * FROM book WHERE publisher IN('굿스포츠','대한미디어');\""
   ]
  },
  {
   "cell_type": "code",
   "execution_count": 35,
   "id": "075d551b",
   "metadata": {
    "ExecuteTime": {
     "end_time": "2023-07-16T12:29:04.343969Z",
     "start_time": "2023-07-16T12:29:04.330654Z"
    }
   },
   "outputs": [],
   "source": [
    "cur_1.execute(sql)\n",
    "rows_1=cur_1.fetchall()\n",
    "conn1.close()"
   ]
  },
  {
   "cell_type": "code",
   "execution_count": 36,
   "id": "7cdc4047",
   "metadata": {
    "ExecuteTime": {
     "end_time": "2023-07-16T12:29:04.359463Z",
     "start_time": "2023-07-16T12:29:04.347982Z"
    }
   },
   "outputs": [
    {
     "data": {
      "text/html": [
       "<div>\n",
       "<style scoped>\n",
       "    .dataframe tbody tr th:only-of-type {\n",
       "        vertical-align: middle;\n",
       "    }\n",
       "\n",
       "    .dataframe tbody tr th {\n",
       "        vertical-align: top;\n",
       "    }\n",
       "\n",
       "    .dataframe thead th {\n",
       "        text-align: right;\n",
       "    }\n",
       "</style>\n",
       "<table border=\"1\" class=\"dataframe\">\n",
       "  <thead>\n",
       "    <tr style=\"text-align: right;\">\n",
       "      <th></th>\n",
       "      <th>0</th>\n",
       "      <th>1</th>\n",
       "      <th>2</th>\n",
       "      <th>3</th>\n",
       "    </tr>\n",
       "  </thead>\n",
       "  <tbody>\n",
       "    <tr>\n",
       "      <th>0</th>\n",
       "      <td>1</td>\n",
       "      <td>축구의 역사</td>\n",
       "      <td>굿스포츠</td>\n",
       "      <td>7000</td>\n",
       "    </tr>\n",
       "    <tr>\n",
       "      <th>1</th>\n",
       "      <td>3</td>\n",
       "      <td>축구의 이해</td>\n",
       "      <td>대한미디어</td>\n",
       "      <td>22000</td>\n",
       "    </tr>\n",
       "    <tr>\n",
       "      <th>2</th>\n",
       "      <td>4</td>\n",
       "      <td>골프 바이블</td>\n",
       "      <td>대한미디어</td>\n",
       "      <td>35000</td>\n",
       "    </tr>\n",
       "    <tr>\n",
       "      <th>3</th>\n",
       "      <td>5</td>\n",
       "      <td>피겨 교본</td>\n",
       "      <td>굿스포츠</td>\n",
       "      <td>8000</td>\n",
       "    </tr>\n",
       "    <tr>\n",
       "      <th>4</th>\n",
       "      <td>6</td>\n",
       "      <td>역도 단계별기술</td>\n",
       "      <td>굿스포츠</td>\n",
       "      <td>6000</td>\n",
       "    </tr>\n",
       "  </tbody>\n",
       "</table>\n",
       "</div>"
      ],
      "text/plain": [
       "   0         1      2      3\n",
       "0  1    축구의 역사   굿스포츠   7000\n",
       "1  3    축구의 이해  대한미디어  22000\n",
       "2  4    골프 바이블  대한미디어  35000\n",
       "3  5     피겨 교본   굿스포츠   8000\n",
       "4  6  역도 단계별기술   굿스포츠   6000"
      ]
     },
     "execution_count": 36,
     "metadata": {},
     "output_type": "execute_result"
    }
   ],
   "source": [
    "pd_1=pd.DataFrame(rows_1)\n",
    "pd_1"
   ]
  },
  {
   "cell_type": "markdown",
   "id": "a77b577a",
   "metadata": {},
   "source": [
    "## Q7"
   ]
  },
  {
   "cell_type": "code",
   "execution_count": 37,
   "id": "983c170a",
   "metadata": {
    "ExecuteTime": {
     "end_time": "2023-07-16T12:29:04.375247Z",
     "start_time": "2023-07-16T12:29:04.361457Z"
    }
   },
   "outputs": [],
   "source": [
    "import pandas as pd\n",
    "import pymysql"
   ]
  },
  {
   "cell_type": "code",
   "execution_count": 38,
   "id": "bfdb9b63",
   "metadata": {
    "ExecuteTime": {
     "end_time": "2023-07-16T12:29:04.390113Z",
     "start_time": "2023-07-16T12:29:04.377569Z"
    }
   },
   "outputs": [],
   "source": [
    "conn1=pymysql.connect(host='127.0.0.1',user='root',password='1234',db='madang',charset='utf8')"
   ]
  },
  {
   "cell_type": "code",
   "execution_count": 39,
   "id": "9b63c95f",
   "metadata": {
    "ExecuteTime": {
     "end_time": "2023-07-16T12:29:04.405341Z",
     "start_time": "2023-07-16T12:29:04.392825Z"
    }
   },
   "outputs": [],
   "source": [
    "cur_1=conn1.cursor()"
   ]
  },
  {
   "cell_type": "code",
   "execution_count": 40,
   "id": "c8c124d5",
   "metadata": {
    "ExecuteTime": {
     "end_time": "2023-07-16T12:29:04.420506Z",
     "start_time": "2023-07-16T12:29:04.413594Z"
    }
   },
   "outputs": [],
   "source": [
    "sql=\"SELECT * FROM book WHERE publisher NOT IN('굿스포츠','대한미디어');\""
   ]
  },
  {
   "cell_type": "code",
   "execution_count": 41,
   "id": "75ce6e17",
   "metadata": {
    "ExecuteTime": {
     "end_time": "2023-07-16T12:29:04.452221Z",
     "start_time": "2023-07-16T12:29:04.428547Z"
    }
   },
   "outputs": [],
   "source": [
    "cur_1.execute(sql)\n",
    "rows_1=cur_1.fetchall()\n",
    "conn1.close()"
   ]
  },
  {
   "cell_type": "code",
   "execution_count": 42,
   "id": "4e0c8cac",
   "metadata": {
    "ExecuteTime": {
     "end_time": "2023-07-16T12:29:04.468304Z",
     "start_time": "2023-07-16T12:29:04.454463Z"
    }
   },
   "outputs": [
    {
     "data": {
      "text/html": [
       "<div>\n",
       "<style scoped>\n",
       "    .dataframe tbody tr th:only-of-type {\n",
       "        vertical-align: middle;\n",
       "    }\n",
       "\n",
       "    .dataframe tbody tr th {\n",
       "        vertical-align: top;\n",
       "    }\n",
       "\n",
       "    .dataframe thead th {\n",
       "        text-align: right;\n",
       "    }\n",
       "</style>\n",
       "<table border=\"1\" class=\"dataframe\">\n",
       "  <thead>\n",
       "    <tr style=\"text-align: right;\">\n",
       "      <th></th>\n",
       "      <th>0</th>\n",
       "      <th>1</th>\n",
       "      <th>2</th>\n",
       "      <th>3</th>\n",
       "    </tr>\n",
       "  </thead>\n",
       "  <tbody>\n",
       "    <tr>\n",
       "      <th>0</th>\n",
       "      <td>2</td>\n",
       "      <td>축구아는 여자</td>\n",
       "      <td>나무수</td>\n",
       "      <td>13000</td>\n",
       "    </tr>\n",
       "    <tr>\n",
       "      <th>1</th>\n",
       "      <td>7</td>\n",
       "      <td>야구의 추억</td>\n",
       "      <td>이상미디어</td>\n",
       "      <td>20000</td>\n",
       "    </tr>\n",
       "    <tr>\n",
       "      <th>2</th>\n",
       "      <td>8</td>\n",
       "      <td>야구를 부탁해</td>\n",
       "      <td>이상미디어</td>\n",
       "      <td>13000</td>\n",
       "    </tr>\n",
       "    <tr>\n",
       "      <th>3</th>\n",
       "      <td>9</td>\n",
       "      <td>올림픽 이야기</td>\n",
       "      <td>삼성당</td>\n",
       "      <td>7500</td>\n",
       "    </tr>\n",
       "    <tr>\n",
       "      <th>4</th>\n",
       "      <td>10</td>\n",
       "      <td>Olympic Champions</td>\n",
       "      <td>Pearson</td>\n",
       "      <td>13000</td>\n",
       "    </tr>\n",
       "  </tbody>\n",
       "</table>\n",
       "</div>"
      ],
      "text/plain": [
       "    0                  1        2      3\n",
       "0   2            축구아는 여자      나무수  13000\n",
       "1   7             야구의 추억    이상미디어  20000\n",
       "2   8            야구를 부탁해    이상미디어  13000\n",
       "3   9            올림픽 이야기      삼성당   7500\n",
       "4  10  Olympic Champions  Pearson  13000"
      ]
     },
     "execution_count": 42,
     "metadata": {},
     "output_type": "execute_result"
    }
   ],
   "source": [
    "pd_1=pd.DataFrame(rows_1)\n",
    "pd_1"
   ]
  },
  {
   "cell_type": "markdown",
   "id": "34895e95",
   "metadata": {},
   "source": [
    "## Q8"
   ]
  },
  {
   "cell_type": "code",
   "execution_count": 43,
   "id": "23a40653",
   "metadata": {
    "ExecuteTime": {
     "end_time": "2023-07-16T12:29:04.483994Z",
     "start_time": "2023-07-16T12:29:04.471130Z"
    }
   },
   "outputs": [],
   "source": [
    "import pandas as pd\n",
    "import pymysql"
   ]
  },
  {
   "cell_type": "code",
   "execution_count": 44,
   "id": "d314b385",
   "metadata": {
    "ExecuteTime": {
     "end_time": "2023-07-16T12:29:04.499234Z",
     "start_time": "2023-07-16T12:29:04.486488Z"
    }
   },
   "outputs": [],
   "source": [
    "conn1=pymysql.connect(host='127.0.0.1',user='root',password='1234',db='madang',charset='utf8')"
   ]
  },
  {
   "cell_type": "code",
   "execution_count": 45,
   "id": "7957a588",
   "metadata": {
    "ExecuteTime": {
     "end_time": "2023-07-16T12:29:04.513977Z",
     "start_time": "2023-07-16T12:29:04.501230Z"
    }
   },
   "outputs": [],
   "source": [
    "cur_1=conn1.cursor()"
   ]
  },
  {
   "cell_type": "code",
   "execution_count": 46,
   "id": "23ec47e5",
   "metadata": {
    "ExecuteTime": {
     "end_time": "2023-07-16T12:29:04.529304Z",
     "start_time": "2023-07-16T12:29:04.516622Z"
    }
   },
   "outputs": [],
   "source": [
    "sql=\"SELECT bookname,publisher FROM book WHERE bookname LIKE'축구의 역사';\""
   ]
  },
  {
   "cell_type": "code",
   "execution_count": 47,
   "id": "38ff94e1",
   "metadata": {
    "ExecuteTime": {
     "end_time": "2023-07-16T12:29:04.544011Z",
     "start_time": "2023-07-16T12:29:04.531299Z"
    }
   },
   "outputs": [],
   "source": [
    "cur_1.execute(sql)\n",
    "rows_1=cur_1.fetchall()\n",
    "conn1.close()"
   ]
  },
  {
   "cell_type": "code",
   "execution_count": 48,
   "id": "62863517",
   "metadata": {
    "ExecuteTime": {
     "end_time": "2023-07-16T12:29:04.559639Z",
     "start_time": "2023-07-16T12:29:04.546011Z"
    }
   },
   "outputs": [
    {
     "data": {
      "text/html": [
       "<div>\n",
       "<style scoped>\n",
       "    .dataframe tbody tr th:only-of-type {\n",
       "        vertical-align: middle;\n",
       "    }\n",
       "\n",
       "    .dataframe tbody tr th {\n",
       "        vertical-align: top;\n",
       "    }\n",
       "\n",
       "    .dataframe thead th {\n",
       "        text-align: right;\n",
       "    }\n",
       "</style>\n",
       "<table border=\"1\" class=\"dataframe\">\n",
       "  <thead>\n",
       "    <tr style=\"text-align: right;\">\n",
       "      <th></th>\n",
       "      <th>0</th>\n",
       "      <th>1</th>\n",
       "    </tr>\n",
       "  </thead>\n",
       "  <tbody>\n",
       "    <tr>\n",
       "      <th>0</th>\n",
       "      <td>축구의 역사</td>\n",
       "      <td>굿스포츠</td>\n",
       "    </tr>\n",
       "  </tbody>\n",
       "</table>\n",
       "</div>"
      ],
      "text/plain": [
       "        0     1\n",
       "0  축구의 역사  굿스포츠"
      ]
     },
     "execution_count": 48,
     "metadata": {},
     "output_type": "execute_result"
    }
   ],
   "source": [
    "pd_1=pd.DataFrame(rows_1)\n",
    "pd_1"
   ]
  },
  {
   "cell_type": "markdown",
   "id": "8a40cc0f",
   "metadata": {},
   "source": [
    "## Q9"
   ]
  },
  {
   "cell_type": "code",
   "execution_count": 49,
   "id": "202fe2bc",
   "metadata": {
    "ExecuteTime": {
     "end_time": "2023-07-16T12:29:04.574712Z",
     "start_time": "2023-07-16T12:29:04.561901Z"
    }
   },
   "outputs": [],
   "source": [
    "import pandas as pd\n",
    "import pymysql"
   ]
  },
  {
   "cell_type": "code",
   "execution_count": 50,
   "id": "faec476e",
   "metadata": {
    "ExecuteTime": {
     "end_time": "2023-07-16T12:29:04.589570Z",
     "start_time": "2023-07-16T12:29:04.576018Z"
    }
   },
   "outputs": [],
   "source": [
    "conn1=pymysql.connect(host='127.0.0.1',user='root',password='1234',db='madang',charset='utf8')"
   ]
  },
  {
   "cell_type": "code",
   "execution_count": 51,
   "id": "c40e0fdc",
   "metadata": {
    "ExecuteTime": {
     "end_time": "2023-07-16T12:29:04.605074Z",
     "start_time": "2023-07-16T12:29:04.591569Z"
    }
   },
   "outputs": [],
   "source": [
    "cur_1=conn1.cursor()"
   ]
  },
  {
   "cell_type": "code",
   "execution_count": 52,
   "id": "03a251a1",
   "metadata": {
    "ExecuteTime": {
     "end_time": "2023-07-16T12:29:04.619829Z",
     "start_time": "2023-07-16T12:29:04.607313Z"
    }
   },
   "outputs": [],
   "source": [
    "sql=\"SELECT bookname,publisher FROM book WHERE bookname LIKE'%축구%';\""
   ]
  },
  {
   "cell_type": "code",
   "execution_count": 53,
   "id": "cf70b7ef",
   "metadata": {
    "ExecuteTime": {
     "end_time": "2023-07-16T12:29:04.635241Z",
     "start_time": "2023-07-16T12:29:04.620957Z"
    }
   },
   "outputs": [],
   "source": [
    "cur_1.execute(sql)\n",
    "rows_1=cur_1.fetchall()\n",
    "conn1.close()"
   ]
  },
  {
   "cell_type": "code",
   "execution_count": 54,
   "id": "4b2038d7",
   "metadata": {
    "ExecuteTime": {
     "end_time": "2023-07-16T12:29:04.650684Z",
     "start_time": "2023-07-16T12:29:04.638235Z"
    }
   },
   "outputs": [
    {
     "data": {
      "text/html": [
       "<div>\n",
       "<style scoped>\n",
       "    .dataframe tbody tr th:only-of-type {\n",
       "        vertical-align: middle;\n",
       "    }\n",
       "\n",
       "    .dataframe tbody tr th {\n",
       "        vertical-align: top;\n",
       "    }\n",
       "\n",
       "    .dataframe thead th {\n",
       "        text-align: right;\n",
       "    }\n",
       "</style>\n",
       "<table border=\"1\" class=\"dataframe\">\n",
       "  <thead>\n",
       "    <tr style=\"text-align: right;\">\n",
       "      <th></th>\n",
       "      <th>0</th>\n",
       "      <th>1</th>\n",
       "    </tr>\n",
       "  </thead>\n",
       "  <tbody>\n",
       "    <tr>\n",
       "      <th>0</th>\n",
       "      <td>축구의 역사</td>\n",
       "      <td>굿스포츠</td>\n",
       "    </tr>\n",
       "    <tr>\n",
       "      <th>1</th>\n",
       "      <td>축구아는 여자</td>\n",
       "      <td>나무수</td>\n",
       "    </tr>\n",
       "    <tr>\n",
       "      <th>2</th>\n",
       "      <td>축구의 이해</td>\n",
       "      <td>대한미디어</td>\n",
       "    </tr>\n",
       "  </tbody>\n",
       "</table>\n",
       "</div>"
      ],
      "text/plain": [
       "         0      1\n",
       "0   축구의 역사   굿스포츠\n",
       "1  축구아는 여자    나무수\n",
       "2   축구의 이해  대한미디어"
      ]
     },
     "execution_count": 54,
     "metadata": {},
     "output_type": "execute_result"
    }
   ],
   "source": [
    "pd_1=pd.DataFrame(rows_1)\n",
    "pd_1"
   ]
  },
  {
   "cell_type": "markdown",
   "id": "67e592fd",
   "metadata": {},
   "source": [
    "## Q10"
   ]
  },
  {
   "cell_type": "code",
   "execution_count": 55,
   "id": "e0f59989",
   "metadata": {
    "ExecuteTime": {
     "end_time": "2023-07-16T12:29:04.666310Z",
     "start_time": "2023-07-16T12:29:04.652897Z"
    }
   },
   "outputs": [],
   "source": [
    "import pandas as pd\n",
    "import pymysql"
   ]
  },
  {
   "cell_type": "code",
   "execution_count": 56,
   "id": "a746af9b",
   "metadata": {
    "ExecuteTime": {
     "end_time": "2023-07-16T12:29:04.681118Z",
     "start_time": "2023-07-16T12:29:04.667788Z"
    }
   },
   "outputs": [],
   "source": [
    "conn1=pymysql.connect(host='127.0.0.1',user='root',password='1234',db='madang',charset='utf8')"
   ]
  },
  {
   "cell_type": "code",
   "execution_count": 57,
   "id": "d29a2765",
   "metadata": {
    "ExecuteTime": {
     "end_time": "2023-07-16T12:29:04.696484Z",
     "start_time": "2023-07-16T12:29:04.687817Z"
    }
   },
   "outputs": [],
   "source": [
    "cur_1=conn1.cursor()"
   ]
  },
  {
   "cell_type": "code",
   "execution_count": 58,
   "id": "2fd8be39",
   "metadata": {
    "ExecuteTime": {
     "end_time": "2023-07-16T12:29:04.711699Z",
     "start_time": "2023-07-16T12:29:04.698724Z"
    }
   },
   "outputs": [],
   "source": [
    "sql=\"SELECT * FROM book WHERE bookname LIKE'_구%';\""
   ]
  },
  {
   "cell_type": "code",
   "execution_count": 59,
   "id": "e51be8b1",
   "metadata": {
    "ExecuteTime": {
     "end_time": "2023-07-16T12:29:04.727424Z",
     "start_time": "2023-07-16T12:29:04.714232Z"
    }
   },
   "outputs": [],
   "source": [
    "cur_1.execute(sql)\n",
    "rows_1=cur_1.fetchall()\n",
    "conn1.close()"
   ]
  },
  {
   "cell_type": "code",
   "execution_count": 60,
   "id": "861f1e08",
   "metadata": {
    "ExecuteTime": {
     "end_time": "2023-07-16T12:29:04.742199Z",
     "start_time": "2023-07-16T12:29:04.730005Z"
    }
   },
   "outputs": [
    {
     "data": {
      "text/html": [
       "<div>\n",
       "<style scoped>\n",
       "    .dataframe tbody tr th:only-of-type {\n",
       "        vertical-align: middle;\n",
       "    }\n",
       "\n",
       "    .dataframe tbody tr th {\n",
       "        vertical-align: top;\n",
       "    }\n",
       "\n",
       "    .dataframe thead th {\n",
       "        text-align: right;\n",
       "    }\n",
       "</style>\n",
       "<table border=\"1\" class=\"dataframe\">\n",
       "  <thead>\n",
       "    <tr style=\"text-align: right;\">\n",
       "      <th></th>\n",
       "      <th>0</th>\n",
       "      <th>1</th>\n",
       "      <th>2</th>\n",
       "      <th>3</th>\n",
       "    </tr>\n",
       "  </thead>\n",
       "  <tbody>\n",
       "    <tr>\n",
       "      <th>0</th>\n",
       "      <td>1</td>\n",
       "      <td>축구의 역사</td>\n",
       "      <td>굿스포츠</td>\n",
       "      <td>7000</td>\n",
       "    </tr>\n",
       "    <tr>\n",
       "      <th>1</th>\n",
       "      <td>2</td>\n",
       "      <td>축구아는 여자</td>\n",
       "      <td>나무수</td>\n",
       "      <td>13000</td>\n",
       "    </tr>\n",
       "    <tr>\n",
       "      <th>2</th>\n",
       "      <td>3</td>\n",
       "      <td>축구의 이해</td>\n",
       "      <td>대한미디어</td>\n",
       "      <td>22000</td>\n",
       "    </tr>\n",
       "    <tr>\n",
       "      <th>3</th>\n",
       "      <td>7</td>\n",
       "      <td>야구의 추억</td>\n",
       "      <td>이상미디어</td>\n",
       "      <td>20000</td>\n",
       "    </tr>\n",
       "    <tr>\n",
       "      <th>4</th>\n",
       "      <td>8</td>\n",
       "      <td>야구를 부탁해</td>\n",
       "      <td>이상미디어</td>\n",
       "      <td>13000</td>\n",
       "    </tr>\n",
       "  </tbody>\n",
       "</table>\n",
       "</div>"
      ],
      "text/plain": [
       "   0        1      2      3\n",
       "0  1   축구의 역사   굿스포츠   7000\n",
       "1  2  축구아는 여자    나무수  13000\n",
       "2  3   축구의 이해  대한미디어  22000\n",
       "3  7   야구의 추억  이상미디어  20000\n",
       "4  8  야구를 부탁해  이상미디어  13000"
      ]
     },
     "execution_count": 60,
     "metadata": {},
     "output_type": "execute_result"
    }
   ],
   "source": [
    "pd_1=pd.DataFrame(rows_1)\n",
    "pd_1"
   ]
  },
  {
   "cell_type": "markdown",
   "id": "a005dd4b",
   "metadata": {},
   "source": [
    "## Q11"
   ]
  },
  {
   "cell_type": "code",
   "execution_count": 61,
   "id": "9dc1a235",
   "metadata": {
    "ExecuteTime": {
     "end_time": "2023-07-16T12:29:04.788125Z",
     "start_time": "2023-07-16T12:29:04.744407Z"
    }
   },
   "outputs": [],
   "source": [
    "import pandas as pd\n",
    "import pymysql"
   ]
  },
  {
   "cell_type": "code",
   "execution_count": 62,
   "id": "33417135",
   "metadata": {
    "ExecuteTime": {
     "end_time": "2023-07-16T12:29:04.803832Z",
     "start_time": "2023-07-16T12:29:04.789632Z"
    }
   },
   "outputs": [],
   "source": [
    "conn1=pymysql.connect(host='127.0.0.1',user='root',password='1234',db='madang',charset='utf8')"
   ]
  },
  {
   "cell_type": "code",
   "execution_count": 63,
   "id": "dfc12dd9",
   "metadata": {
    "ExecuteTime": {
     "end_time": "2023-07-16T12:29:04.819271Z",
     "start_time": "2023-07-16T12:29:04.806200Z"
    }
   },
   "outputs": [],
   "source": [
    "cur_1=conn1.cursor()"
   ]
  },
  {
   "cell_type": "code",
   "execution_count": 64,
   "id": "864794ae",
   "metadata": {
    "ExecuteTime": {
     "end_time": "2023-07-16T12:29:04.834737Z",
     "start_time": "2023-07-16T12:29:04.820423Z"
    }
   },
   "outputs": [],
   "source": [
    "sql=\"SELECT * FROM book WHERE bookname LIKE'%축구%'AND price>=20000;\""
   ]
  },
  {
   "cell_type": "code",
   "execution_count": 65,
   "id": "8be5a15d",
   "metadata": {
    "ExecuteTime": {
     "end_time": "2023-07-16T12:29:04.850403Z",
     "start_time": "2023-07-16T12:29:04.835775Z"
    }
   },
   "outputs": [],
   "source": [
    "cur_1.execute(sql)\n",
    "rows_1=cur_1.fetchall()\n",
    "conn1.close()"
   ]
  },
  {
   "cell_type": "code",
   "execution_count": 66,
   "id": "d5722888",
   "metadata": {
    "ExecuteTime": {
     "end_time": "2023-07-16T12:29:04.880835Z",
     "start_time": "2023-07-16T12:29:04.855026Z"
    }
   },
   "outputs": [
    {
     "data": {
      "text/html": [
       "<div>\n",
       "<style scoped>\n",
       "    .dataframe tbody tr th:only-of-type {\n",
       "        vertical-align: middle;\n",
       "    }\n",
       "\n",
       "    .dataframe tbody tr th {\n",
       "        vertical-align: top;\n",
       "    }\n",
       "\n",
       "    .dataframe thead th {\n",
       "        text-align: right;\n",
       "    }\n",
       "</style>\n",
       "<table border=\"1\" class=\"dataframe\">\n",
       "  <thead>\n",
       "    <tr style=\"text-align: right;\">\n",
       "      <th></th>\n",
       "      <th>0</th>\n",
       "      <th>1</th>\n",
       "      <th>2</th>\n",
       "      <th>3</th>\n",
       "    </tr>\n",
       "  </thead>\n",
       "  <tbody>\n",
       "    <tr>\n",
       "      <th>0</th>\n",
       "      <td>3</td>\n",
       "      <td>축구의 이해</td>\n",
       "      <td>대한미디어</td>\n",
       "      <td>22000</td>\n",
       "    </tr>\n",
       "  </tbody>\n",
       "</table>\n",
       "</div>"
      ],
      "text/plain": [
       "   0       1      2      3\n",
       "0  3  축구의 이해  대한미디어  22000"
      ]
     },
     "execution_count": 66,
     "metadata": {},
     "output_type": "execute_result"
    }
   ],
   "source": [
    "pd_1=pd.DataFrame(rows_1)\n",
    "pd_1"
   ]
  },
  {
   "cell_type": "markdown",
   "id": "77f4aa03",
   "metadata": {},
   "source": [
    "## Q12"
   ]
  },
  {
   "cell_type": "code",
   "execution_count": 67,
   "id": "d28438e0",
   "metadata": {
    "ExecuteTime": {
     "end_time": "2023-07-16T12:29:04.895694Z",
     "start_time": "2023-07-16T12:29:04.884340Z"
    }
   },
   "outputs": [],
   "source": [
    "import pandas as pd\n",
    "import pymysql"
   ]
  },
  {
   "cell_type": "code",
   "execution_count": 68,
   "id": "441d6d5b",
   "metadata": {
    "ExecuteTime": {
     "end_time": "2023-07-16T12:29:04.911234Z",
     "start_time": "2023-07-16T12:29:04.898129Z"
    }
   },
   "outputs": [],
   "source": [
    "conn1=pymysql.connect(host='127.0.0.1',user='root',password='1234',db='madang',charset='utf8')"
   ]
  },
  {
   "cell_type": "code",
   "execution_count": 69,
   "id": "14cc6a13",
   "metadata": {
    "ExecuteTime": {
     "end_time": "2023-07-16T12:29:04.927680Z",
     "start_time": "2023-07-16T12:29:04.914928Z"
    }
   },
   "outputs": [],
   "source": [
    "cur_1=conn1.cursor()"
   ]
  },
  {
   "cell_type": "code",
   "execution_count": 70,
   "id": "74b1faf9",
   "metadata": {
    "ExecuteTime": {
     "end_time": "2023-07-16T12:29:04.973533Z",
     "start_time": "2023-07-16T12:29:04.959252Z"
    }
   },
   "outputs": [],
   "source": [
    "sql=\"SELECT * FROM book ORDER BY bookname;\""
   ]
  },
  {
   "cell_type": "code",
   "execution_count": 71,
   "id": "088d1a04",
   "metadata": {
    "ExecuteTime": {
     "end_time": "2023-07-16T12:29:04.989154Z",
     "start_time": "2023-07-16T12:29:04.977257Z"
    }
   },
   "outputs": [],
   "source": [
    "cur_1.execute(sql)\n",
    "rows_1=cur_1.fetchall()\n",
    "conn1.close()"
   ]
  },
  {
   "cell_type": "code",
   "execution_count": 72,
   "id": "9dc2472e",
   "metadata": {
    "ExecuteTime": {
     "end_time": "2023-07-16T12:29:05.004869Z",
     "start_time": "2023-07-16T12:29:04.992067Z"
    }
   },
   "outputs": [
    {
     "data": {
      "text/html": [
       "<div>\n",
       "<style scoped>\n",
       "    .dataframe tbody tr th:only-of-type {\n",
       "        vertical-align: middle;\n",
       "    }\n",
       "\n",
       "    .dataframe tbody tr th {\n",
       "        vertical-align: top;\n",
       "    }\n",
       "\n",
       "    .dataframe thead th {\n",
       "        text-align: right;\n",
       "    }\n",
       "</style>\n",
       "<table border=\"1\" class=\"dataframe\">\n",
       "  <thead>\n",
       "    <tr style=\"text-align: right;\">\n",
       "      <th></th>\n",
       "      <th>0</th>\n",
       "      <th>1</th>\n",
       "      <th>2</th>\n",
       "      <th>3</th>\n",
       "    </tr>\n",
       "  </thead>\n",
       "  <tbody>\n",
       "    <tr>\n",
       "      <th>0</th>\n",
       "      <td>10</td>\n",
       "      <td>Olympic Champions</td>\n",
       "      <td>Pearson</td>\n",
       "      <td>13000</td>\n",
       "    </tr>\n",
       "    <tr>\n",
       "      <th>1</th>\n",
       "      <td>4</td>\n",
       "      <td>골프 바이블</td>\n",
       "      <td>대한미디어</td>\n",
       "      <td>35000</td>\n",
       "    </tr>\n",
       "    <tr>\n",
       "      <th>2</th>\n",
       "      <td>8</td>\n",
       "      <td>야구를 부탁해</td>\n",
       "      <td>이상미디어</td>\n",
       "      <td>13000</td>\n",
       "    </tr>\n",
       "    <tr>\n",
       "      <th>3</th>\n",
       "      <td>7</td>\n",
       "      <td>야구의 추억</td>\n",
       "      <td>이상미디어</td>\n",
       "      <td>20000</td>\n",
       "    </tr>\n",
       "    <tr>\n",
       "      <th>4</th>\n",
       "      <td>6</td>\n",
       "      <td>역도 단계별기술</td>\n",
       "      <td>굿스포츠</td>\n",
       "      <td>6000</td>\n",
       "    </tr>\n",
       "    <tr>\n",
       "      <th>5</th>\n",
       "      <td>9</td>\n",
       "      <td>올림픽 이야기</td>\n",
       "      <td>삼성당</td>\n",
       "      <td>7500</td>\n",
       "    </tr>\n",
       "    <tr>\n",
       "      <th>6</th>\n",
       "      <td>2</td>\n",
       "      <td>축구아는 여자</td>\n",
       "      <td>나무수</td>\n",
       "      <td>13000</td>\n",
       "    </tr>\n",
       "    <tr>\n",
       "      <th>7</th>\n",
       "      <td>1</td>\n",
       "      <td>축구의 역사</td>\n",
       "      <td>굿스포츠</td>\n",
       "      <td>7000</td>\n",
       "    </tr>\n",
       "    <tr>\n",
       "      <th>8</th>\n",
       "      <td>3</td>\n",
       "      <td>축구의 이해</td>\n",
       "      <td>대한미디어</td>\n",
       "      <td>22000</td>\n",
       "    </tr>\n",
       "    <tr>\n",
       "      <th>9</th>\n",
       "      <td>5</td>\n",
       "      <td>피겨 교본</td>\n",
       "      <td>굿스포츠</td>\n",
       "      <td>8000</td>\n",
       "    </tr>\n",
       "  </tbody>\n",
       "</table>\n",
       "</div>"
      ],
      "text/plain": [
       "    0                  1        2      3\n",
       "0  10  Olympic Champions  Pearson  13000\n",
       "1   4             골프 바이블    대한미디어  35000\n",
       "2   8            야구를 부탁해    이상미디어  13000\n",
       "3   7             야구의 추억    이상미디어  20000\n",
       "4   6           역도 단계별기술     굿스포츠   6000\n",
       "5   9            올림픽 이야기      삼성당   7500\n",
       "6   2            축구아는 여자      나무수  13000\n",
       "7   1             축구의 역사     굿스포츠   7000\n",
       "8   3             축구의 이해    대한미디어  22000\n",
       "9   5              피겨 교본     굿스포츠   8000"
      ]
     },
     "execution_count": 72,
     "metadata": {},
     "output_type": "execute_result"
    }
   ],
   "source": [
    "pd_1=pd.DataFrame(rows_1)\n",
    "pd_1"
   ]
  },
  {
   "cell_type": "markdown",
   "id": "f05b1220",
   "metadata": {},
   "source": [
    "## Q13"
   ]
  },
  {
   "cell_type": "code",
   "execution_count": 73,
   "id": "0364ed2c",
   "metadata": {
    "ExecuteTime": {
     "end_time": "2023-07-16T12:29:05.020332Z",
     "start_time": "2023-07-16T12:29:05.006122Z"
    }
   },
   "outputs": [],
   "source": [
    "import pandas as pd\n",
    "import pymysql"
   ]
  },
  {
   "cell_type": "code",
   "execution_count": 74,
   "id": "41f53411",
   "metadata": {
    "ExecuteTime": {
     "end_time": "2023-07-16T12:29:05.035436Z",
     "start_time": "2023-07-16T12:29:05.022945Z"
    }
   },
   "outputs": [],
   "source": [
    "conn1=pymysql.connect(host='127.0.0.1',user='root',password='1234',db='madang',charset='utf8')"
   ]
  },
  {
   "cell_type": "code",
   "execution_count": 75,
   "id": "32439b90",
   "metadata": {
    "ExecuteTime": {
     "end_time": "2023-07-16T12:29:05.051088Z",
     "start_time": "2023-07-16T12:29:05.039457Z"
    }
   },
   "outputs": [],
   "source": [
    "cur_1=conn1.cursor()"
   ]
  },
  {
   "cell_type": "code",
   "execution_count": 76,
   "id": "ed56ffdc",
   "metadata": {
    "ExecuteTime": {
     "end_time": "2023-07-16T12:29:05.066741Z",
     "start_time": "2023-07-16T12:29:05.053915Z"
    }
   },
   "outputs": [],
   "source": [
    "sql=\"SELECT * FROM book ORDER BY price DESC,publisher ASC;\""
   ]
  },
  {
   "cell_type": "code",
   "execution_count": 77,
   "id": "2818a765",
   "metadata": {
    "ExecuteTime": {
     "end_time": "2023-07-16T12:29:05.081786Z",
     "start_time": "2023-07-16T12:29:05.068812Z"
    }
   },
   "outputs": [],
   "source": [
    "cur_1.execute(sql)\n",
    "rows_1=cur_1.fetchall()\n",
    "conn1.close()"
   ]
  },
  {
   "cell_type": "code",
   "execution_count": 78,
   "id": "a918a2c6",
   "metadata": {
    "ExecuteTime": {
     "end_time": "2023-07-16T12:29:05.096951Z",
     "start_time": "2023-07-16T12:29:05.084118Z"
    }
   },
   "outputs": [
    {
     "data": {
      "text/html": [
       "<div>\n",
       "<style scoped>\n",
       "    .dataframe tbody tr th:only-of-type {\n",
       "        vertical-align: middle;\n",
       "    }\n",
       "\n",
       "    .dataframe tbody tr th {\n",
       "        vertical-align: top;\n",
       "    }\n",
       "\n",
       "    .dataframe thead th {\n",
       "        text-align: right;\n",
       "    }\n",
       "</style>\n",
       "<table border=\"1\" class=\"dataframe\">\n",
       "  <thead>\n",
       "    <tr style=\"text-align: right;\">\n",
       "      <th></th>\n",
       "      <th>0</th>\n",
       "      <th>1</th>\n",
       "      <th>2</th>\n",
       "      <th>3</th>\n",
       "    </tr>\n",
       "  </thead>\n",
       "  <tbody>\n",
       "    <tr>\n",
       "      <th>0</th>\n",
       "      <td>4</td>\n",
       "      <td>골프 바이블</td>\n",
       "      <td>대한미디어</td>\n",
       "      <td>35000</td>\n",
       "    </tr>\n",
       "    <tr>\n",
       "      <th>1</th>\n",
       "      <td>3</td>\n",
       "      <td>축구의 이해</td>\n",
       "      <td>대한미디어</td>\n",
       "      <td>22000</td>\n",
       "    </tr>\n",
       "    <tr>\n",
       "      <th>2</th>\n",
       "      <td>7</td>\n",
       "      <td>야구의 추억</td>\n",
       "      <td>이상미디어</td>\n",
       "      <td>20000</td>\n",
       "    </tr>\n",
       "    <tr>\n",
       "      <th>3</th>\n",
       "      <td>10</td>\n",
       "      <td>Olympic Champions</td>\n",
       "      <td>Pearson</td>\n",
       "      <td>13000</td>\n",
       "    </tr>\n",
       "    <tr>\n",
       "      <th>4</th>\n",
       "      <td>2</td>\n",
       "      <td>축구아는 여자</td>\n",
       "      <td>나무수</td>\n",
       "      <td>13000</td>\n",
       "    </tr>\n",
       "    <tr>\n",
       "      <th>5</th>\n",
       "      <td>8</td>\n",
       "      <td>야구를 부탁해</td>\n",
       "      <td>이상미디어</td>\n",
       "      <td>13000</td>\n",
       "    </tr>\n",
       "    <tr>\n",
       "      <th>6</th>\n",
       "      <td>5</td>\n",
       "      <td>피겨 교본</td>\n",
       "      <td>굿스포츠</td>\n",
       "      <td>8000</td>\n",
       "    </tr>\n",
       "    <tr>\n",
       "      <th>7</th>\n",
       "      <td>9</td>\n",
       "      <td>올림픽 이야기</td>\n",
       "      <td>삼성당</td>\n",
       "      <td>7500</td>\n",
       "    </tr>\n",
       "    <tr>\n",
       "      <th>8</th>\n",
       "      <td>1</td>\n",
       "      <td>축구의 역사</td>\n",
       "      <td>굿스포츠</td>\n",
       "      <td>7000</td>\n",
       "    </tr>\n",
       "    <tr>\n",
       "      <th>9</th>\n",
       "      <td>6</td>\n",
       "      <td>역도 단계별기술</td>\n",
       "      <td>굿스포츠</td>\n",
       "      <td>6000</td>\n",
       "    </tr>\n",
       "  </tbody>\n",
       "</table>\n",
       "</div>"
      ],
      "text/plain": [
       "    0                  1        2      3\n",
       "0   4             골프 바이블    대한미디어  35000\n",
       "1   3             축구의 이해    대한미디어  22000\n",
       "2   7             야구의 추억    이상미디어  20000\n",
       "3  10  Olympic Champions  Pearson  13000\n",
       "4   2            축구아는 여자      나무수  13000\n",
       "5   8            야구를 부탁해    이상미디어  13000\n",
       "6   5              피겨 교본     굿스포츠   8000\n",
       "7   9            올림픽 이야기      삼성당   7500\n",
       "8   1             축구의 역사     굿스포츠   7000\n",
       "9   6           역도 단계별기술     굿스포츠   6000"
      ]
     },
     "execution_count": 78,
     "metadata": {},
     "output_type": "execute_result"
    }
   ],
   "source": [
    "pd_1=pd.DataFrame(rows_1)\n",
    "pd_1"
   ]
  }
 ],
 "metadata": {
  "kernelspec": {
   "display_name": "Python 3 (ipykernel)",
   "language": "python",
   "name": "python3"
  },
  "language_info": {
   "codemirror_mode": {
    "name": "ipython",
    "version": 3
   },
   "file_extension": ".py",
   "mimetype": "text/x-python",
   "name": "python",
   "nbconvert_exporter": "python",
   "pygments_lexer": "ipython3",
   "version": "3.8.16"
  },
  "toc": {
   "base_numbering": 1,
   "nav_menu": {},
   "number_sections": true,
   "sideBar": true,
   "skip_h1_title": false,
   "title_cell": "Table of Contents",
   "title_sidebar": "Contents",
   "toc_cell": false,
   "toc_position": {},
   "toc_section_display": true,
   "toc_window_display": false
  }
 },
 "nbformat": 4,
 "nbformat_minor": 5
}

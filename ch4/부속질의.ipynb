{
 "cells": [
  {
   "cell_type": "markdown",
   "id": "a00fa6c5",
   "metadata": {},
   "source": [
    "## Q12"
   ]
  },
  {
   "cell_type": "code",
   "execution_count": 1,
   "id": "a84424c1",
   "metadata": {
    "ExecuteTime": {
     "end_time": "2023-07-26T11:25:57.412495Z",
     "start_time": "2023-07-26T11:25:56.618250Z"
    }
   },
   "outputs": [],
   "source": [
    "import pandas as pd\n",
    "import pymysql"
   ]
  },
  {
   "cell_type": "code",
   "execution_count": 2,
   "id": "67574fd6",
   "metadata": {
    "ExecuteTime": {
     "end_time": "2023-07-26T11:25:57.442556Z",
     "start_time": "2023-07-26T11:25:57.417443Z"
    }
   },
   "outputs": [],
   "source": [
    "conn1=pymysql.connect(host='127.0.0.1',user='root',password='1234',db='madang',charset='utf8')"
   ]
  },
  {
   "cell_type": "code",
   "execution_count": 3,
   "id": "dff8ab17",
   "metadata": {
    "ExecuteTime": {
     "end_time": "2023-07-26T11:25:57.457400Z",
     "start_time": "2023-07-26T11:25:57.444909Z"
    }
   },
   "outputs": [],
   "source": [
    "cur_1=conn1.cursor()"
   ]
  },
  {
   "cell_type": "code",
   "execution_count": 4,
   "id": "ca9f5580",
   "metadata": {
    "ExecuteTime": {
     "end_time": "2023-07-26T11:25:57.472426Z",
     "start_time": "2023-07-26T11:25:57.460615Z"
    }
   },
   "outputs": [],
   "source": [
    "sql='''SELECT (SELECT name \n",
    "\t\tFROM customer cs \n",
    "        WHERE cs.custid=od.custid)'name',SUM(saleprice) 'total'\n",
    "FROM orders od\n",
    "GROUP BY od.custid;'''"
   ]
  },
  {
   "cell_type": "code",
   "execution_count": 5,
   "id": "2114797d",
   "metadata": {
    "ExecuteTime": {
     "end_time": "2023-07-26T11:25:57.488162Z",
     "start_time": "2023-07-26T11:25:57.475027Z"
    }
   },
   "outputs": [],
   "source": [
    "cur_1.execute(sql)\n",
    "rows_1=cur_1.fetchall()\n",
    "conn1.close()"
   ]
  },
  {
   "cell_type": "code",
   "execution_count": 6,
   "id": "9bcc19c9",
   "metadata": {
    "ExecuteTime": {
     "end_time": "2023-07-26T11:25:57.518573Z",
     "start_time": "2023-07-26T11:25:57.490664Z"
    }
   },
   "outputs": [
    {
     "data": {
      "text/html": [
       "<div>\n",
       "<style scoped>\n",
       "    .dataframe tbody tr th:only-of-type {\n",
       "        vertical-align: middle;\n",
       "    }\n",
       "\n",
       "    .dataframe tbody tr th {\n",
       "        vertical-align: top;\n",
       "    }\n",
       "\n",
       "    .dataframe thead th {\n",
       "        text-align: right;\n",
       "    }\n",
       "</style>\n",
       "<table border=\"1\" class=\"dataframe\">\n",
       "  <thead>\n",
       "    <tr style=\"text-align: right;\">\n",
       "      <th></th>\n",
       "      <th>0</th>\n",
       "      <th>1</th>\n",
       "    </tr>\n",
       "  </thead>\n",
       "  <tbody>\n",
       "    <tr>\n",
       "      <th>0</th>\n",
       "      <td>박지성</td>\n",
       "      <td>39000</td>\n",
       "    </tr>\n",
       "    <tr>\n",
       "      <th>1</th>\n",
       "      <td>김연아</td>\n",
       "      <td>15000</td>\n",
       "    </tr>\n",
       "    <tr>\n",
       "      <th>2</th>\n",
       "      <td>장미란</td>\n",
       "      <td>31000</td>\n",
       "    </tr>\n",
       "    <tr>\n",
       "      <th>3</th>\n",
       "      <td>추신수</td>\n",
       "      <td>33000</td>\n",
       "    </tr>\n",
       "  </tbody>\n",
       "</table>\n",
       "</div>"
      ],
      "text/plain": [
       "     0      1\n",
       "0  박지성  39000\n",
       "1  김연아  15000\n",
       "2  장미란  31000\n",
       "3  추신수  33000"
      ]
     },
     "execution_count": 6,
     "metadata": {},
     "output_type": "execute_result"
    }
   ],
   "source": [
    "pd_1=pd.DataFrame(rows_1)\n",
    "pd_1"
   ]
  },
  {
   "cell_type": "markdown",
   "id": "a5bedc24",
   "metadata": {},
   "source": [
    "## Q13"
   ]
  },
  {
   "cell_type": "code",
   "execution_count": 7,
   "id": "c19ca11e",
   "metadata": {
    "ExecuteTime": {
     "end_time": "2023-07-26T11:25:57.533508Z",
     "start_time": "2023-07-26T11:25:57.521293Z"
    }
   },
   "outputs": [],
   "source": [
    "import pandas as pd\n",
    "import pymysql"
   ]
  },
  {
   "cell_type": "code",
   "execution_count": 8,
   "id": "4c8e78fc",
   "metadata": {
    "ExecuteTime": {
     "end_time": "2023-07-26T11:25:57.563632Z",
     "start_time": "2023-07-26T11:25:57.535619Z"
    }
   },
   "outputs": [],
   "source": [
    "conn1=pymysql.connect(host='127.0.0.1',user='root',password='1234',db='madang',charset='utf8')"
   ]
  },
  {
   "cell_type": "code",
   "execution_count": 9,
   "id": "f440041b",
   "metadata": {
    "ExecuteTime": {
     "end_time": "2023-07-26T11:25:57.579159Z",
     "start_time": "2023-07-26T11:25:57.567627Z"
    }
   },
   "outputs": [],
   "source": [
    "cur_1=conn1.cursor()"
   ]
  },
  {
   "cell_type": "code",
   "execution_count": 10,
   "id": "a4b0603c",
   "metadata": {
    "ExecuteTime": {
     "end_time": "2023-07-26T11:25:57.594181Z",
     "start_time": "2023-07-26T11:25:57.585694Z"
    }
   },
   "outputs": [],
   "source": [
    "sql='''SELECT * FROM orders;'''"
   ]
  },
  {
   "cell_type": "code",
   "execution_count": 11,
   "id": "4432a323",
   "metadata": {
    "ExecuteTime": {
     "end_time": "2023-07-26T11:25:57.609303Z",
     "start_time": "2023-07-26T11:25:57.598447Z"
    }
   },
   "outputs": [],
   "source": [
    "cur_1.execute(sql)\n",
    "rows_1=cur_1.fetchall()\n",
    "conn1.close()"
   ]
  },
  {
   "cell_type": "code",
   "execution_count": 12,
   "id": "54384b28",
   "metadata": {
    "ExecuteTime": {
     "end_time": "2023-07-26T11:25:57.640217Z",
     "start_time": "2023-07-26T11:25:57.615363Z"
    }
   },
   "outputs": [
    {
     "data": {
      "text/html": [
       "<div>\n",
       "<style scoped>\n",
       "    .dataframe tbody tr th:only-of-type {\n",
       "        vertical-align: middle;\n",
       "    }\n",
       "\n",
       "    .dataframe tbody tr th {\n",
       "        vertical-align: top;\n",
       "    }\n",
       "\n",
       "    .dataframe thead th {\n",
       "        text-align: right;\n",
       "    }\n",
       "</style>\n",
       "<table border=\"1\" class=\"dataframe\">\n",
       "  <thead>\n",
       "    <tr style=\"text-align: right;\">\n",
       "      <th></th>\n",
       "      <th>0</th>\n",
       "      <th>1</th>\n",
       "      <th>2</th>\n",
       "      <th>3</th>\n",
       "      <th>4</th>\n",
       "      <th>5</th>\n",
       "    </tr>\n",
       "  </thead>\n",
       "  <tbody>\n",
       "    <tr>\n",
       "      <th>0</th>\n",
       "      <td>1</td>\n",
       "      <td>1</td>\n",
       "      <td>1</td>\n",
       "      <td>6000</td>\n",
       "      <td>2014-07-01</td>\n",
       "      <td>축구의 역사</td>\n",
       "    </tr>\n",
       "    <tr>\n",
       "      <th>1</th>\n",
       "      <td>2</td>\n",
       "      <td>1</td>\n",
       "      <td>3</td>\n",
       "      <td>21000</td>\n",
       "      <td>2014-07-03</td>\n",
       "      <td>축구의 이해</td>\n",
       "    </tr>\n",
       "    <tr>\n",
       "      <th>2</th>\n",
       "      <td>3</td>\n",
       "      <td>2</td>\n",
       "      <td>5</td>\n",
       "      <td>8000</td>\n",
       "      <td>2014-07-03</td>\n",
       "      <td>피겨 교본</td>\n",
       "    </tr>\n",
       "    <tr>\n",
       "      <th>3</th>\n",
       "      <td>4</td>\n",
       "      <td>3</td>\n",
       "      <td>6</td>\n",
       "      <td>6000</td>\n",
       "      <td>2014-07-04</td>\n",
       "      <td>역도 단계별기술</td>\n",
       "    </tr>\n",
       "    <tr>\n",
       "      <th>4</th>\n",
       "      <td>5</td>\n",
       "      <td>4</td>\n",
       "      <td>7</td>\n",
       "      <td>20000</td>\n",
       "      <td>2014-07-05</td>\n",
       "      <td>야구의 추억</td>\n",
       "    </tr>\n",
       "    <tr>\n",
       "      <th>5</th>\n",
       "      <td>6</td>\n",
       "      <td>1</td>\n",
       "      <td>2</td>\n",
       "      <td>12000</td>\n",
       "      <td>2014-07-07</td>\n",
       "      <td>축구아는 여자</td>\n",
       "    </tr>\n",
       "    <tr>\n",
       "      <th>6</th>\n",
       "      <td>7</td>\n",
       "      <td>4</td>\n",
       "      <td>8</td>\n",
       "      <td>13000</td>\n",
       "      <td>2014-07-07</td>\n",
       "      <td>야구를 부탁해</td>\n",
       "    </tr>\n",
       "    <tr>\n",
       "      <th>7</th>\n",
       "      <td>8</td>\n",
       "      <td>3</td>\n",
       "      <td>10</td>\n",
       "      <td>12000</td>\n",
       "      <td>2014-07-08</td>\n",
       "      <td>Olympic Champions</td>\n",
       "    </tr>\n",
       "    <tr>\n",
       "      <th>8</th>\n",
       "      <td>9</td>\n",
       "      <td>2</td>\n",
       "      <td>10</td>\n",
       "      <td>7000</td>\n",
       "      <td>2014-07-09</td>\n",
       "      <td>Olympic Champions</td>\n",
       "    </tr>\n",
       "    <tr>\n",
       "      <th>9</th>\n",
       "      <td>10</td>\n",
       "      <td>3</td>\n",
       "      <td>8</td>\n",
       "      <td>13000</td>\n",
       "      <td>2014-07-10</td>\n",
       "      <td>야구를 부탁해</td>\n",
       "    </tr>\n",
       "  </tbody>\n",
       "</table>\n",
       "</div>"
      ],
      "text/plain": [
       "    0  1   2      3           4                  5\n",
       "0   1  1   1   6000  2014-07-01             축구의 역사\n",
       "1   2  1   3  21000  2014-07-03             축구의 이해\n",
       "2   3  2   5   8000  2014-07-03              피겨 교본\n",
       "3   4  3   6   6000  2014-07-04           역도 단계별기술\n",
       "4   5  4   7  20000  2014-07-05             야구의 추억\n",
       "5   6  1   2  12000  2014-07-07            축구아는 여자\n",
       "6   7  4   8  13000  2014-07-07            야구를 부탁해\n",
       "7   8  3  10  12000  2014-07-08  Olympic Champions\n",
       "8   9  2  10   7000  2014-07-09  Olympic Champions\n",
       "9  10  3   8  13000  2014-07-10            야구를 부탁해"
      ]
     },
     "execution_count": 12,
     "metadata": {},
     "output_type": "execute_result"
    }
   ],
   "source": [
    "pd_1=pd.DataFrame(rows_1)\n",
    "pd_1"
   ]
  },
  {
   "cell_type": "markdown",
   "id": "8392fdc3",
   "metadata": {},
   "source": [
    "## Q14"
   ]
  },
  {
   "cell_type": "code",
   "execution_count": 13,
   "id": "4a173bc7",
   "metadata": {
    "ExecuteTime": {
     "end_time": "2023-07-26T11:25:57.670816Z",
     "start_time": "2023-07-26T11:25:57.647517Z"
    }
   },
   "outputs": [],
   "source": [
    "import pandas as pd\n",
    "import pymysql"
   ]
  },
  {
   "cell_type": "code",
   "execution_count": 14,
   "id": "c0b2c362",
   "metadata": {
    "ExecuteTime": {
     "end_time": "2023-07-26T11:25:57.716235Z",
     "start_time": "2023-07-26T11:25:57.681628Z"
    }
   },
   "outputs": [],
   "source": [
    "conn1=pymysql.connect(host='127.0.0.1',user='root',password='1234',db='madang',charset='utf8')"
   ]
  },
  {
   "cell_type": "code",
   "execution_count": 15,
   "id": "ded5ae2c",
   "metadata": {
    "ExecuteTime": {
     "end_time": "2023-07-26T11:25:57.730959Z",
     "start_time": "2023-07-26T11:25:57.723048Z"
    }
   },
   "outputs": [],
   "source": [
    "cur_1=conn1.cursor()"
   ]
  },
  {
   "cell_type": "code",
   "execution_count": 16,
   "id": "4254b313",
   "metadata": {
    "ExecuteTime": {
     "end_time": "2023-07-26T11:25:57.745747Z",
     "start_time": "2023-07-26T11:25:57.736464Z"
    }
   },
   "outputs": [],
   "source": [
    "sql='''SELECT cs.name, SUM(od.saleprice)'total'\n",
    "FROM (SELECT custid,name \n",
    "\t  FROM customer\n",
    "      WHERE custid<=2)cs, orders od\n",
    "WHERE cs.custid=od.custid\n",
    "GROUP BY cs.name;'''"
   ]
  },
  {
   "cell_type": "code",
   "execution_count": 17,
   "id": "a58f20a5",
   "metadata": {
    "ExecuteTime": {
     "end_time": "2023-07-26T11:25:57.760424Z",
     "start_time": "2023-07-26T11:25:57.749410Z"
    }
   },
   "outputs": [],
   "source": [
    "cur_1.execute(sql)\n",
    "rows_1=cur_1.fetchall()\n",
    "conn1.close()"
   ]
  },
  {
   "cell_type": "code",
   "execution_count": 18,
   "id": "e0be613d",
   "metadata": {
    "ExecuteTime": {
     "end_time": "2023-07-26T11:25:57.775631Z",
     "start_time": "2023-07-26T11:25:57.763994Z"
    }
   },
   "outputs": [
    {
     "data": {
      "text/html": [
       "<div>\n",
       "<style scoped>\n",
       "    .dataframe tbody tr th:only-of-type {\n",
       "        vertical-align: middle;\n",
       "    }\n",
       "\n",
       "    .dataframe tbody tr th {\n",
       "        vertical-align: top;\n",
       "    }\n",
       "\n",
       "    .dataframe thead th {\n",
       "        text-align: right;\n",
       "    }\n",
       "</style>\n",
       "<table border=\"1\" class=\"dataframe\">\n",
       "  <thead>\n",
       "    <tr style=\"text-align: right;\">\n",
       "      <th></th>\n",
       "      <th>0</th>\n",
       "      <th>1</th>\n",
       "    </tr>\n",
       "  </thead>\n",
       "  <tbody>\n",
       "    <tr>\n",
       "      <th>0</th>\n",
       "      <td>박지성</td>\n",
       "      <td>39000</td>\n",
       "    </tr>\n",
       "    <tr>\n",
       "      <th>1</th>\n",
       "      <td>김연아</td>\n",
       "      <td>15000</td>\n",
       "    </tr>\n",
       "  </tbody>\n",
       "</table>\n",
       "</div>"
      ],
      "text/plain": [
       "     0      1\n",
       "0  박지성  39000\n",
       "1  김연아  15000"
      ]
     },
     "execution_count": 18,
     "metadata": {},
     "output_type": "execute_result"
    }
   ],
   "source": [
    "pd_1=pd.DataFrame(rows_1)\n",
    "pd_1"
   ]
  },
  {
   "cell_type": "markdown",
   "id": "65030095",
   "metadata": {},
   "source": [
    "## Q15"
   ]
  },
  {
   "cell_type": "code",
   "execution_count": 19,
   "id": "e740d4e1",
   "metadata": {
    "ExecuteTime": {
     "end_time": "2023-07-26T11:25:57.790744Z",
     "start_time": "2023-07-26T11:25:57.778775Z"
    }
   },
   "outputs": [],
   "source": [
    "import pandas as pd\n",
    "import pymysql"
   ]
  },
  {
   "cell_type": "code",
   "execution_count": 20,
   "id": "66d27151",
   "metadata": {
    "ExecuteTime": {
     "end_time": "2023-07-26T11:25:57.806711Z",
     "start_time": "2023-07-26T11:25:57.793276Z"
    }
   },
   "outputs": [],
   "source": [
    "conn1=pymysql.connect(host='127.0.0.1',user='root',password='1234',db='madang',charset='utf8')"
   ]
  },
  {
   "cell_type": "code",
   "execution_count": 21,
   "id": "274d206b",
   "metadata": {
    "ExecuteTime": {
     "end_time": "2023-07-26T11:25:57.822362Z",
     "start_time": "2023-07-26T11:25:57.809599Z"
    }
   },
   "outputs": [],
   "source": [
    "cur_1=conn1.cursor()"
   ]
  },
  {
   "cell_type": "code",
   "execution_count": 22,
   "id": "a802d033",
   "metadata": {
    "ExecuteTime": {
     "end_time": "2023-07-26T11:25:57.836967Z",
     "start_time": "2023-07-26T11:25:57.824530Z"
    }
   },
   "outputs": [],
   "source": [
    "sql='''SELECT orderid,saleprice\n",
    "FROM orders\n",
    "WHERE saleprice<=(SELECT AVG(saleprice) FROM orders);'''"
   ]
  },
  {
   "cell_type": "code",
   "execution_count": 23,
   "id": "0bb58cba",
   "metadata": {
    "ExecuteTime": {
     "end_time": "2023-07-26T11:25:57.852375Z",
     "start_time": "2023-07-26T11:25:57.839096Z"
    }
   },
   "outputs": [],
   "source": [
    "cur_1.execute(sql)\n",
    "rows_1=cur_1.fetchall()\n",
    "conn1.close()"
   ]
  },
  {
   "cell_type": "code",
   "execution_count": 24,
   "id": "df49ec63",
   "metadata": {
    "ExecuteTime": {
     "end_time": "2023-07-26T11:25:57.867688Z",
     "start_time": "2023-07-26T11:25:57.854885Z"
    }
   },
   "outputs": [
    {
     "data": {
      "text/html": [
       "<div>\n",
       "<style scoped>\n",
       "    .dataframe tbody tr th:only-of-type {\n",
       "        vertical-align: middle;\n",
       "    }\n",
       "\n",
       "    .dataframe tbody tr th {\n",
       "        vertical-align: top;\n",
       "    }\n",
       "\n",
       "    .dataframe thead th {\n",
       "        text-align: right;\n",
       "    }\n",
       "</style>\n",
       "<table border=\"1\" class=\"dataframe\">\n",
       "  <thead>\n",
       "    <tr style=\"text-align: right;\">\n",
       "      <th></th>\n",
       "      <th>0</th>\n",
       "      <th>1</th>\n",
       "    </tr>\n",
       "  </thead>\n",
       "  <tbody>\n",
       "    <tr>\n",
       "      <th>0</th>\n",
       "      <td>1</td>\n",
       "      <td>6000</td>\n",
       "    </tr>\n",
       "    <tr>\n",
       "      <th>1</th>\n",
       "      <td>3</td>\n",
       "      <td>8000</td>\n",
       "    </tr>\n",
       "    <tr>\n",
       "      <th>2</th>\n",
       "      <td>4</td>\n",
       "      <td>6000</td>\n",
       "    </tr>\n",
       "    <tr>\n",
       "      <th>3</th>\n",
       "      <td>9</td>\n",
       "      <td>7000</td>\n",
       "    </tr>\n",
       "  </tbody>\n",
       "</table>\n",
       "</div>"
      ],
      "text/plain": [
       "   0     1\n",
       "0  1  6000\n",
       "1  3  8000\n",
       "2  4  6000\n",
       "3  9  7000"
      ]
     },
     "execution_count": 24,
     "metadata": {},
     "output_type": "execute_result"
    }
   ],
   "source": [
    "pd_1=pd.DataFrame(rows_1)\n",
    "pd_1"
   ]
  },
  {
   "cell_type": "markdown",
   "id": "93d824c5",
   "metadata": {},
   "source": [
    "## Q16"
   ]
  },
  {
   "cell_type": "code",
   "execution_count": 25,
   "id": "7217faee",
   "metadata": {
    "ExecuteTime": {
     "end_time": "2023-07-26T11:25:57.882651Z",
     "start_time": "2023-07-26T11:25:57.871442Z"
    }
   },
   "outputs": [],
   "source": [
    "import pandas as pd\n",
    "import pymysql"
   ]
  },
  {
   "cell_type": "code",
   "execution_count": 26,
   "id": "0caf4c94",
   "metadata": {
    "ExecuteTime": {
     "end_time": "2023-07-26T11:25:57.898388Z",
     "start_time": "2023-07-26T11:25:57.885819Z"
    }
   },
   "outputs": [],
   "source": [
    "conn1=pymysql.connect(host='127.0.0.1',user='root',password='1234',db='madang',charset='utf8')"
   ]
  },
  {
   "cell_type": "code",
   "execution_count": 27,
   "id": "b5eb0781",
   "metadata": {
    "ExecuteTime": {
     "end_time": "2023-07-26T11:25:57.913640Z",
     "start_time": "2023-07-26T11:25:57.902634Z"
    }
   },
   "outputs": [],
   "source": [
    "cur_1=conn1.cursor()"
   ]
  },
  {
   "cell_type": "code",
   "execution_count": 28,
   "id": "3f56fc75",
   "metadata": {
    "ExecuteTime": {
     "end_time": "2023-07-26T11:25:57.929088Z",
     "start_time": "2023-07-26T11:25:57.920872Z"
    }
   },
   "outputs": [],
   "source": [
    "sql='''SELECT orderid,custid,saleprice\n",
    "FROM orders md\n",
    "WHERE saleprice>(SELECT AVG(saleprice) FROM orders so \n",
    "\t\t\t\twhere md.custid=so.custid);'''"
   ]
  },
  {
   "cell_type": "code",
   "execution_count": 29,
   "id": "a1d29132",
   "metadata": {
    "ExecuteTime": {
     "end_time": "2023-07-26T11:25:57.944254Z",
     "start_time": "2023-07-26T11:25:57.932664Z"
    }
   },
   "outputs": [],
   "source": [
    "cur_1.execute(sql)\n",
    "rows_1=cur_1.fetchall()\n",
    "conn1.close()"
   ]
  },
  {
   "cell_type": "code",
   "execution_count": 30,
   "id": "c139c5e9",
   "metadata": {
    "ExecuteTime": {
     "end_time": "2023-07-26T11:25:57.975049Z",
     "start_time": "2023-07-26T11:25:57.946789Z"
    }
   },
   "outputs": [
    {
     "data": {
      "text/html": [
       "<div>\n",
       "<style scoped>\n",
       "    .dataframe tbody tr th:only-of-type {\n",
       "        vertical-align: middle;\n",
       "    }\n",
       "\n",
       "    .dataframe tbody tr th {\n",
       "        vertical-align: top;\n",
       "    }\n",
       "\n",
       "    .dataframe thead th {\n",
       "        text-align: right;\n",
       "    }\n",
       "</style>\n",
       "<table border=\"1\" class=\"dataframe\">\n",
       "  <thead>\n",
       "    <tr style=\"text-align: right;\">\n",
       "      <th></th>\n",
       "      <th>0</th>\n",
       "      <th>1</th>\n",
       "      <th>2</th>\n",
       "    </tr>\n",
       "  </thead>\n",
       "  <tbody>\n",
       "    <tr>\n",
       "      <th>0</th>\n",
       "      <td>2</td>\n",
       "      <td>1</td>\n",
       "      <td>21000</td>\n",
       "    </tr>\n",
       "    <tr>\n",
       "      <th>1</th>\n",
       "      <td>3</td>\n",
       "      <td>2</td>\n",
       "      <td>8000</td>\n",
       "    </tr>\n",
       "    <tr>\n",
       "      <th>2</th>\n",
       "      <td>5</td>\n",
       "      <td>4</td>\n",
       "      <td>20000</td>\n",
       "    </tr>\n",
       "    <tr>\n",
       "      <th>3</th>\n",
       "      <td>8</td>\n",
       "      <td>3</td>\n",
       "      <td>12000</td>\n",
       "    </tr>\n",
       "    <tr>\n",
       "      <th>4</th>\n",
       "      <td>10</td>\n",
       "      <td>3</td>\n",
       "      <td>13000</td>\n",
       "    </tr>\n",
       "  </tbody>\n",
       "</table>\n",
       "</div>"
      ],
      "text/plain": [
       "    0  1      2\n",
       "0   2  1  21000\n",
       "1   3  2   8000\n",
       "2   5  4  20000\n",
       "3   8  3  12000\n",
       "4  10  3  13000"
      ]
     },
     "execution_count": 30,
     "metadata": {},
     "output_type": "execute_result"
    }
   ],
   "source": [
    "pd_1=pd.DataFrame(rows_1)\n",
    "pd_1"
   ]
  },
  {
   "cell_type": "markdown",
   "id": "879b684e",
   "metadata": {},
   "source": [
    "## Q17"
   ]
  },
  {
   "cell_type": "code",
   "execution_count": 31,
   "id": "9bc5d058",
   "metadata": {
    "ExecuteTime": {
     "end_time": "2023-07-26T11:25:57.990674Z",
     "start_time": "2023-07-26T11:25:57.977044Z"
    }
   },
   "outputs": [],
   "source": [
    "import pandas as pd\n",
    "import pymysql"
   ]
  },
  {
   "cell_type": "code",
   "execution_count": 32,
   "id": "649467cc",
   "metadata": {
    "ExecuteTime": {
     "end_time": "2023-07-26T11:25:58.005850Z",
     "start_time": "2023-07-26T11:25:57.993314Z"
    }
   },
   "outputs": [],
   "source": [
    "conn1=pymysql.connect(host='127.0.0.1',user='root',password='1234',db='madang',charset='utf8')"
   ]
  },
  {
   "cell_type": "code",
   "execution_count": 33,
   "id": "f4c14f24",
   "metadata": {
    "ExecuteTime": {
     "end_time": "2023-07-26T11:25:58.020618Z",
     "start_time": "2023-07-26T11:25:58.008869Z"
    }
   },
   "outputs": [],
   "source": [
    "cur_1=conn1.cursor()"
   ]
  },
  {
   "cell_type": "code",
   "execution_count": 34,
   "id": "2ed60305",
   "metadata": {
    "ExecuteTime": {
     "end_time": "2023-07-26T11:25:58.035610Z",
     "start_time": "2023-07-26T11:25:58.022205Z"
    }
   },
   "outputs": [],
   "source": [
    "sql='''SELECT SUM(saleprice)'total'\n",
    "FROM orders\n",
    "WHERE custid IN(SELECT custid FROM customer WHERE address LIKE '%대한민국%');'''"
   ]
  },
  {
   "cell_type": "code",
   "execution_count": 35,
   "id": "00653533",
   "metadata": {
    "ExecuteTime": {
     "end_time": "2023-07-26T11:25:58.051074Z",
     "start_time": "2023-07-26T11:25:58.038116Z"
    }
   },
   "outputs": [],
   "source": [
    "cur_1.execute(sql)\n",
    "rows_1=cur_1.fetchall()\n",
    "conn1.close()"
   ]
  },
  {
   "cell_type": "code",
   "execution_count": 36,
   "id": "686d6e42",
   "metadata": {
    "ExecuteTime": {
     "end_time": "2023-07-26T11:25:58.066731Z",
     "start_time": "2023-07-26T11:25:58.055059Z"
    }
   },
   "outputs": [
    {
     "data": {
      "text/html": [
       "<div>\n",
       "<style scoped>\n",
       "    .dataframe tbody tr th:only-of-type {\n",
       "        vertical-align: middle;\n",
       "    }\n",
       "\n",
       "    .dataframe tbody tr th {\n",
       "        vertical-align: top;\n",
       "    }\n",
       "\n",
       "    .dataframe thead th {\n",
       "        text-align: right;\n",
       "    }\n",
       "</style>\n",
       "<table border=\"1\" class=\"dataframe\">\n",
       "  <thead>\n",
       "    <tr style=\"text-align: right;\">\n",
       "      <th></th>\n",
       "      <th>0</th>\n",
       "    </tr>\n",
       "  </thead>\n",
       "  <tbody>\n",
       "    <tr>\n",
       "      <th>0</th>\n",
       "      <td>46000</td>\n",
       "    </tr>\n",
       "  </tbody>\n",
       "</table>\n",
       "</div>"
      ],
      "text/plain": [
       "       0\n",
       "0  46000"
      ]
     },
     "execution_count": 36,
     "metadata": {},
     "output_type": "execute_result"
    }
   ],
   "source": [
    "pd_1=pd.DataFrame(rows_1)\n",
    "pd_1"
   ]
  },
  {
   "cell_type": "markdown",
   "id": "1402e938",
   "metadata": {},
   "source": [
    "## Q18"
   ]
  },
  {
   "cell_type": "code",
   "execution_count": 37,
   "id": "7c46d713",
   "metadata": {
    "ExecuteTime": {
     "end_time": "2023-07-26T11:25:58.083383Z",
     "start_time": "2023-07-26T11:25:58.069027Z"
    }
   },
   "outputs": [],
   "source": [
    "import pandas as pd\n",
    "import pymysql"
   ]
  },
  {
   "cell_type": "code",
   "execution_count": 38,
   "id": "f9f39c2e",
   "metadata": {
    "ExecuteTime": {
     "end_time": "2023-07-26T11:25:58.097830Z",
     "start_time": "2023-07-26T11:25:58.087846Z"
    }
   },
   "outputs": [],
   "source": [
    "conn1=pymysql.connect(host='127.0.0.1',user='root',password='1234',db='madang',charset='utf8')"
   ]
  },
  {
   "cell_type": "code",
   "execution_count": 39,
   "id": "bf05f47f",
   "metadata": {
    "ExecuteTime": {
     "end_time": "2023-07-26T11:25:58.113359Z",
     "start_time": "2023-07-26T11:25:58.100386Z"
    }
   },
   "outputs": [],
   "source": [
    "cur_1=conn1.cursor()"
   ]
  },
  {
   "cell_type": "code",
   "execution_count": 40,
   "id": "1e15c980",
   "metadata": {
    "ExecuteTime": {
     "end_time": "2023-07-26T11:25:58.128607Z",
     "start_time": "2023-07-26T11:25:58.116811Z"
    }
   },
   "outputs": [],
   "source": [
    "sql='''SELECT orderid, saleprice\n",
    "FROM orders\n",
    "WHERE saleprice>ALL(SELECT saleprice FROM orders WHERE custid='3');'''"
   ]
  },
  {
   "cell_type": "code",
   "execution_count": 41,
   "id": "09060ede",
   "metadata": {
    "ExecuteTime": {
     "end_time": "2023-07-26T11:25:58.143465Z",
     "start_time": "2023-07-26T11:25:58.132319Z"
    }
   },
   "outputs": [],
   "source": [
    "cur_1.execute(sql)\n",
    "rows_1=cur_1.fetchall()\n",
    "conn1.close()"
   ]
  },
  {
   "cell_type": "code",
   "execution_count": 42,
   "id": "765c8e8a",
   "metadata": {
    "ExecuteTime": {
     "end_time": "2023-07-26T11:25:58.158706Z",
     "start_time": "2023-07-26T11:25:58.146855Z"
    }
   },
   "outputs": [
    {
     "data": {
      "text/html": [
       "<div>\n",
       "<style scoped>\n",
       "    .dataframe tbody tr th:only-of-type {\n",
       "        vertical-align: middle;\n",
       "    }\n",
       "\n",
       "    .dataframe tbody tr th {\n",
       "        vertical-align: top;\n",
       "    }\n",
       "\n",
       "    .dataframe thead th {\n",
       "        text-align: right;\n",
       "    }\n",
       "</style>\n",
       "<table border=\"1\" class=\"dataframe\">\n",
       "  <thead>\n",
       "    <tr style=\"text-align: right;\">\n",
       "      <th></th>\n",
       "      <th>0</th>\n",
       "      <th>1</th>\n",
       "    </tr>\n",
       "  </thead>\n",
       "  <tbody>\n",
       "    <tr>\n",
       "      <th>0</th>\n",
       "      <td>2</td>\n",
       "      <td>21000</td>\n",
       "    </tr>\n",
       "    <tr>\n",
       "      <th>1</th>\n",
       "      <td>5</td>\n",
       "      <td>20000</td>\n",
       "    </tr>\n",
       "  </tbody>\n",
       "</table>\n",
       "</div>"
      ],
      "text/plain": [
       "   0      1\n",
       "0  2  21000\n",
       "1  5  20000"
      ]
     },
     "execution_count": 42,
     "metadata": {},
     "output_type": "execute_result"
    }
   ],
   "source": [
    "pd_1=pd.DataFrame(rows_1)\n",
    "pd_1"
   ]
  },
  {
   "cell_type": "markdown",
   "id": "76939696",
   "metadata": {},
   "source": [
    "## Q19"
   ]
  },
  {
   "cell_type": "code",
   "execution_count": 43,
   "id": "09813564",
   "metadata": {
    "ExecuteTime": {
     "end_time": "2023-07-26T11:25:58.173642Z",
     "start_time": "2023-07-26T11:25:58.160861Z"
    }
   },
   "outputs": [],
   "source": [
    "import pandas as pd\n",
    "import pymysql"
   ]
  },
  {
   "cell_type": "code",
   "execution_count": 44,
   "id": "aaf1fbef",
   "metadata": {
    "ExecuteTime": {
     "end_time": "2023-07-26T11:25:58.188623Z",
     "start_time": "2023-07-26T11:25:58.176847Z"
    }
   },
   "outputs": [],
   "source": [
    "conn1=pymysql.connect(host='127.0.0.1',user='root',password='1234',db='madang',charset='utf8')"
   ]
  },
  {
   "cell_type": "code",
   "execution_count": 45,
   "id": "20a4a491",
   "metadata": {
    "ExecuteTime": {
     "end_time": "2023-07-26T11:25:58.204576Z",
     "start_time": "2023-07-26T11:25:58.192344Z"
    }
   },
   "outputs": [],
   "source": [
    "cur_1=conn1.cursor()"
   ]
  },
  {
   "cell_type": "code",
   "execution_count": 46,
   "id": "cbe3d309",
   "metadata": {
    "ExecuteTime": {
     "end_time": "2023-07-26T11:25:58.219681Z",
     "start_time": "2023-07-26T11:25:58.207290Z"
    }
   },
   "outputs": [],
   "source": [
    "sql='''SELECT SUM(saleprice)'total'\n",
    "FROM orders od\n",
    "WHERE EXISTS (SELECT * FROM customer cs \n",
    "\t\t\tWHERE address LIKE '%대한민국%' AND cs.custid=od.custid );'''"
   ]
  },
  {
   "cell_type": "code",
   "execution_count": 47,
   "id": "c8b9d963",
   "metadata": {
    "ExecuteTime": {
     "end_time": "2023-07-26T11:25:58.234901Z",
     "start_time": "2023-07-26T11:25:58.222263Z"
    }
   },
   "outputs": [],
   "source": [
    "cur_1.execute(sql)\n",
    "rows_1=cur_1.fetchall()\n",
    "conn1.close()"
   ]
  },
  {
   "cell_type": "code",
   "execution_count": 48,
   "id": "782df99c",
   "metadata": {
    "ExecuteTime": {
     "end_time": "2023-07-26T11:25:58.249694Z",
     "start_time": "2023-07-26T11:25:58.237048Z"
    }
   },
   "outputs": [
    {
     "data": {
      "text/html": [
       "<div>\n",
       "<style scoped>\n",
       "    .dataframe tbody tr th:only-of-type {\n",
       "        vertical-align: middle;\n",
       "    }\n",
       "\n",
       "    .dataframe tbody tr th {\n",
       "        vertical-align: top;\n",
       "    }\n",
       "\n",
       "    .dataframe thead th {\n",
       "        text-align: right;\n",
       "    }\n",
       "</style>\n",
       "<table border=\"1\" class=\"dataframe\">\n",
       "  <thead>\n",
       "    <tr style=\"text-align: right;\">\n",
       "      <th></th>\n",
       "      <th>0</th>\n",
       "    </tr>\n",
       "  </thead>\n",
       "  <tbody>\n",
       "    <tr>\n",
       "      <th>0</th>\n",
       "      <td>46000</td>\n",
       "    </tr>\n",
       "  </tbody>\n",
       "</table>\n",
       "</div>"
      ],
      "text/plain": [
       "       0\n",
       "0  46000"
      ]
     },
     "execution_count": 48,
     "metadata": {},
     "output_type": "execute_result"
    }
   ],
   "source": [
    "pd_1=pd.DataFrame(rows_1)\n",
    "pd_1"
   ]
  }
 ],
 "metadata": {
  "kernelspec": {
   "display_name": "Python 3 (ipykernel)",
   "language": "python",
   "name": "python3"
  },
  "language_info": {
   "codemirror_mode": {
    "name": "ipython",
    "version": 3
   },
   "file_extension": ".py",
   "mimetype": "text/x-python",
   "name": "python",
   "nbconvert_exporter": "python",
   "pygments_lexer": "ipython3",
   "version": "3.8.16"
  },
  "toc": {
   "base_numbering": 1,
   "nav_menu": {},
   "number_sections": true,
   "sideBar": true,
   "skip_h1_title": false,
   "title_cell": "Table of Contents",
   "title_sidebar": "Contents",
   "toc_cell": false,
   "toc_position": {},
   "toc_section_display": true,
   "toc_window_display": false
  }
 },
 "nbformat": 4,
 "nbformat_minor": 5
}

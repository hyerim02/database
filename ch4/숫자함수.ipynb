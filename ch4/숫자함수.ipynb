{
 "cells": [
  {
   "cell_type": "markdown",
   "id": "a00fa6c5",
   "metadata": {},
   "source": [
    "## Q1"
   ]
  },
  {
   "cell_type": "code",
   "execution_count": 17,
   "id": "a84424c1",
   "metadata": {
    "ExecuteTime": {
     "end_time": "2023-07-19T14:08:13.732329Z",
     "start_time": "2023-07-19T14:08:13.712279Z"
    }
   },
   "outputs": [],
   "source": [
    "import pandas as pd\n",
    "import pymysql"
   ]
  },
  {
   "cell_type": "code",
   "execution_count": 18,
   "id": "67574fd6",
   "metadata": {
    "ExecuteTime": {
     "end_time": "2023-07-19T14:08:13.764301Z",
     "start_time": "2023-07-19T14:08:13.738794Z"
    }
   },
   "outputs": [],
   "source": [
    "conn1=pymysql.connect(host='127.0.0.1',user='root',password='1234',db='madang',charset='utf8')"
   ]
  },
  {
   "cell_type": "code",
   "execution_count": 19,
   "id": "dff8ab17",
   "metadata": {
    "ExecuteTime": {
     "end_time": "2023-07-19T14:08:13.780253Z",
     "start_time": "2023-07-19T14:08:13.768262Z"
    }
   },
   "outputs": [],
   "source": [
    "cur_1=conn1.cursor()"
   ]
  },
  {
   "cell_type": "code",
   "execution_count": 20,
   "id": "ca9f5580",
   "metadata": {
    "ExecuteTime": {
     "end_time": "2023-07-19T14:08:13.796099Z",
     "start_time": "2023-07-19T14:08:13.783336Z"
    }
   },
   "outputs": [],
   "source": [
    "sql=\"SELECT ABS(-78), ABS(78);\""
   ]
  },
  {
   "cell_type": "code",
   "execution_count": 21,
   "id": "2114797d",
   "metadata": {
    "ExecuteTime": {
     "end_time": "2023-07-19T14:08:13.811167Z",
     "start_time": "2023-07-19T14:08:13.798690Z"
    }
   },
   "outputs": [],
   "source": [
    "cur_1.execute(sql)\n",
    "rows_1=cur_1.fetchall()\n",
    "conn1.close()"
   ]
  },
  {
   "cell_type": "code",
   "execution_count": 22,
   "id": "9bcc19c9",
   "metadata": {
    "ExecuteTime": {
     "end_time": "2023-07-19T14:08:13.826165Z",
     "start_time": "2023-07-19T14:08:13.813177Z"
    }
   },
   "outputs": [
    {
     "data": {
      "text/html": [
       "<div>\n",
       "<style scoped>\n",
       "    .dataframe tbody tr th:only-of-type {\n",
       "        vertical-align: middle;\n",
       "    }\n",
       "\n",
       "    .dataframe tbody tr th {\n",
       "        vertical-align: top;\n",
       "    }\n",
       "\n",
       "    .dataframe thead th {\n",
       "        text-align: right;\n",
       "    }\n",
       "</style>\n",
       "<table border=\"1\" class=\"dataframe\">\n",
       "  <thead>\n",
       "    <tr style=\"text-align: right;\">\n",
       "      <th></th>\n",
       "      <th>0</th>\n",
       "      <th>1</th>\n",
       "    </tr>\n",
       "  </thead>\n",
       "  <tbody>\n",
       "    <tr>\n",
       "      <th>0</th>\n",
       "      <td>78</td>\n",
       "      <td>78</td>\n",
       "    </tr>\n",
       "  </tbody>\n",
       "</table>\n",
       "</div>"
      ],
      "text/plain": [
       "    0   1\n",
       "0  78  78"
      ]
     },
     "execution_count": 22,
     "metadata": {},
     "output_type": "execute_result"
    }
   ],
   "source": [
    "pd_1=pd.DataFrame(rows_1)\n",
    "pd_1"
   ]
  },
  {
   "cell_type": "markdown",
   "id": "a5bedc24",
   "metadata": {},
   "source": [
    "## Q2"
   ]
  },
  {
   "cell_type": "code",
   "execution_count": 23,
   "id": "c19ca11e",
   "metadata": {
    "ExecuteTime": {
     "end_time": "2023-07-19T14:08:13.841942Z",
     "start_time": "2023-07-19T14:08:13.829132Z"
    }
   },
   "outputs": [],
   "source": [
    "import pandas as pd\n",
    "import pymysql"
   ]
  },
  {
   "cell_type": "code",
   "execution_count": 24,
   "id": "4c8e78fc",
   "metadata": {
    "ExecuteTime": {
     "end_time": "2023-07-19T14:08:13.857356Z",
     "start_time": "2023-07-19T14:08:13.844263Z"
    }
   },
   "outputs": [],
   "source": [
    "conn1=pymysql.connect(host='127.0.0.1',user='root',password='1234',db='madang',charset='utf8')"
   ]
  },
  {
   "cell_type": "code",
   "execution_count": 25,
   "id": "f440041b",
   "metadata": {
    "ExecuteTime": {
     "end_time": "2023-07-19T14:08:13.872516Z",
     "start_time": "2023-07-19T14:08:13.859934Z"
    }
   },
   "outputs": [],
   "source": [
    "cur_1=conn1.cursor()"
   ]
  },
  {
   "cell_type": "code",
   "execution_count": 26,
   "id": "a4b0603c",
   "metadata": {
    "ExecuteTime": {
     "end_time": "2023-07-19T14:08:13.888516Z",
     "start_time": "2023-07-19T14:08:13.876550Z"
    }
   },
   "outputs": [],
   "source": [
    "sql=\"SELECT ROUND(4.875, 1); \""
   ]
  },
  {
   "cell_type": "code",
   "execution_count": 27,
   "id": "4432a323",
   "metadata": {
    "ExecuteTime": {
     "end_time": "2023-07-19T14:08:13.903898Z",
     "start_time": "2023-07-19T14:08:13.892022Z"
    }
   },
   "outputs": [],
   "source": [
    "cur_1.execute(sql)\n",
    "rows_1=cur_1.fetchall()\n",
    "conn1.close()"
   ]
  },
  {
   "cell_type": "code",
   "execution_count": 28,
   "id": "54384b28",
   "metadata": {
    "ExecuteTime": {
     "end_time": "2023-07-19T14:08:13.918810Z",
     "start_time": "2023-07-19T14:08:13.905041Z"
    }
   },
   "outputs": [
    {
     "data": {
      "text/html": [
       "<div>\n",
       "<style scoped>\n",
       "    .dataframe tbody tr th:only-of-type {\n",
       "        vertical-align: middle;\n",
       "    }\n",
       "\n",
       "    .dataframe tbody tr th {\n",
       "        vertical-align: top;\n",
       "    }\n",
       "\n",
       "    .dataframe thead th {\n",
       "        text-align: right;\n",
       "    }\n",
       "</style>\n",
       "<table border=\"1\" class=\"dataframe\">\n",
       "  <thead>\n",
       "    <tr style=\"text-align: right;\">\n",
       "      <th></th>\n",
       "      <th>0</th>\n",
       "    </tr>\n",
       "  </thead>\n",
       "  <tbody>\n",
       "    <tr>\n",
       "      <th>0</th>\n",
       "      <td>4.9</td>\n",
       "    </tr>\n",
       "  </tbody>\n",
       "</table>\n",
       "</div>"
      ],
      "text/plain": [
       "     0\n",
       "0  4.9"
      ]
     },
     "execution_count": 28,
     "metadata": {},
     "output_type": "execute_result"
    }
   ],
   "source": [
    "pd_1=pd.DataFrame(rows_1)\n",
    "pd_1"
   ]
  },
  {
   "cell_type": "markdown",
   "id": "8392fdc3",
   "metadata": {},
   "source": [
    "## Q3"
   ]
  },
  {
   "cell_type": "code",
   "execution_count": 29,
   "id": "4a173bc7",
   "metadata": {
    "ExecuteTime": {
     "end_time": "2023-07-19T14:08:13.933761Z",
     "start_time": "2023-07-19T14:08:13.920972Z"
    }
   },
   "outputs": [],
   "source": [
    "import pandas as pd\n",
    "import pymysql"
   ]
  },
  {
   "cell_type": "code",
   "execution_count": 30,
   "id": "c0b2c362",
   "metadata": {
    "ExecuteTime": {
     "end_time": "2023-07-19T14:08:13.949400Z",
     "start_time": "2023-07-19T14:08:13.936219Z"
    }
   },
   "outputs": [],
   "source": [
    "conn1=pymysql.connect(host='127.0.0.1',user='root',password='1234',db='madang',charset='utf8')"
   ]
  },
  {
   "cell_type": "code",
   "execution_count": 31,
   "id": "ded5ae2c",
   "metadata": {
    "ExecuteTime": {
     "end_time": "2023-07-19T14:08:13.964376Z",
     "start_time": "2023-07-19T14:08:13.952372Z"
    }
   },
   "outputs": [],
   "source": [
    "cur_1=conn1.cursor()"
   ]
  },
  {
   "cell_type": "code",
   "execution_count": 32,
   "id": "4254b313",
   "metadata": {
    "ExecuteTime": {
     "end_time": "2023-07-19T14:08:13.979385Z",
     "start_time": "2023-07-19T14:08:13.966458Z"
    }
   },
   "outputs": [],
   "source": [
    "sql='''SELECT custid '고객번호', ROUND(SUM(saleprice)/COUNT(*), -2) '평균금액' \n",
    "FROM Orders \n",
    "GROUP BY custid;'''"
   ]
  },
  {
   "cell_type": "code",
   "execution_count": 33,
   "id": "a58f20a5",
   "metadata": {
    "ExecuteTime": {
     "end_time": "2023-07-19T14:08:13.994986Z",
     "start_time": "2023-07-19T14:08:13.981741Z"
    }
   },
   "outputs": [],
   "source": [
    "cur_1.execute(sql)\n",
    "rows_1=cur_1.fetchall()\n",
    "conn1.close()"
   ]
  },
  {
   "cell_type": "code",
   "execution_count": 34,
   "id": "e0be613d",
   "metadata": {
    "ExecuteTime": {
     "end_time": "2023-07-19T14:08:14.025166Z",
     "start_time": "2023-07-19T14:08:14.002342Z"
    }
   },
   "outputs": [
    {
     "data": {
      "text/html": [
       "<div>\n",
       "<style scoped>\n",
       "    .dataframe tbody tr th:only-of-type {\n",
       "        vertical-align: middle;\n",
       "    }\n",
       "\n",
       "    .dataframe tbody tr th {\n",
       "        vertical-align: top;\n",
       "    }\n",
       "\n",
       "    .dataframe thead th {\n",
       "        text-align: right;\n",
       "    }\n",
       "</style>\n",
       "<table border=\"1\" class=\"dataframe\">\n",
       "  <thead>\n",
       "    <tr style=\"text-align: right;\">\n",
       "      <th></th>\n",
       "      <th>0</th>\n",
       "      <th>1</th>\n",
       "    </tr>\n",
       "  </thead>\n",
       "  <tbody>\n",
       "    <tr>\n",
       "      <th>0</th>\n",
       "      <td>1</td>\n",
       "      <td>13000</td>\n",
       "    </tr>\n",
       "    <tr>\n",
       "      <th>1</th>\n",
       "      <td>2</td>\n",
       "      <td>7500</td>\n",
       "    </tr>\n",
       "    <tr>\n",
       "      <th>2</th>\n",
       "      <td>3</td>\n",
       "      <td>10300</td>\n",
       "    </tr>\n",
       "    <tr>\n",
       "      <th>3</th>\n",
       "      <td>4</td>\n",
       "      <td>16500</td>\n",
       "    </tr>\n",
       "  </tbody>\n",
       "</table>\n",
       "</div>"
      ],
      "text/plain": [
       "   0      1\n",
       "0  1  13000\n",
       "1  2   7500\n",
       "2  3  10300\n",
       "3  4  16500"
      ]
     },
     "execution_count": 34,
     "metadata": {},
     "output_type": "execute_result"
    }
   ],
   "source": [
    "pd_1=pd.DataFrame(rows_1)\n",
    "pd_1"
   ]
  }
 ],
 "metadata": {
  "kernelspec": {
   "display_name": "Python 3 (ipykernel)",
   "language": "python",
   "name": "python3"
  },
  "language_info": {
   "codemirror_mode": {
    "name": "ipython",
    "version": 3
   },
   "file_extension": ".py",
   "mimetype": "text/x-python",
   "name": "python",
   "nbconvert_exporter": "python",
   "pygments_lexer": "ipython3",
   "version": "3.8.16"
  },
  "toc": {
   "base_numbering": 1,
   "nav_menu": {},
   "number_sections": true,
   "sideBar": true,
   "skip_h1_title": false,
   "title_cell": "Table of Contents",
   "title_sidebar": "Contents",
   "toc_cell": false,
   "toc_position": {},
   "toc_section_display": true,
   "toc_window_display": false
  }
 },
 "nbformat": 4,
 "nbformat_minor": 5
}

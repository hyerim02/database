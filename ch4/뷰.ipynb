{
 "cells": [
  {
   "cell_type": "markdown",
   "id": "a00fa6c5",
   "metadata": {},
   "source": [
    "## 예시"
   ]
  },
  {
   "cell_type": "code",
   "execution_count": 1,
   "id": "a84424c1",
   "metadata": {
    "ExecuteTime": {
     "end_time": "2023-07-26T13:28:16.336249Z",
     "start_time": "2023-07-26T13:28:15.579755Z"
    }
   },
   "outputs": [],
   "source": [
    "import pandas as pd\n",
    "import pymysql"
   ]
  },
  {
   "cell_type": "code",
   "execution_count": 2,
   "id": "67574fd6",
   "metadata": {
    "ExecuteTime": {
     "end_time": "2023-07-26T13:28:16.351673Z",
     "start_time": "2023-07-26T13:28:16.339401Z"
    }
   },
   "outputs": [],
   "source": [
    "conn1=pymysql.connect(host='127.0.0.1',user='root',password='1234',db='madang',charset='utf8')"
   ]
  },
  {
   "cell_type": "code",
   "execution_count": 3,
   "id": "dff8ab17",
   "metadata": {
    "ExecuteTime": {
     "end_time": "2023-07-26T13:28:16.977991Z",
     "start_time": "2023-07-26T13:28:16.969401Z"
    }
   },
   "outputs": [],
   "source": [
    "cur_1=conn1.cursor()"
   ]
  },
  {
   "cell_type": "code",
   "execution_count": 4,
   "id": "ca9f5580",
   "metadata": {
    "ExecuteTime": {
     "end_time": "2023-07-26T13:28:17.647645Z",
     "start_time": "2023-07-26T13:28:17.638369Z"
    }
   },
   "outputs": [],
   "source": [
    "sql=\"SELECT * FROM vw_book;\""
   ]
  },
  {
   "cell_type": "code",
   "execution_count": 5,
   "id": "2114797d",
   "metadata": {
    "ExecuteTime": {
     "end_time": "2023-07-26T13:28:18.354507Z",
     "start_time": "2023-07-26T13:28:18.302673Z"
    }
   },
   "outputs": [],
   "source": [
    "cur_1.execute(sql)\n",
    "rows_1=cur_1.fetchall()\n",
    "conn1.close()"
   ]
  },
  {
   "cell_type": "code",
   "execution_count": 6,
   "id": "9bcc19c9",
   "metadata": {
    "ExecuteTime": {
     "end_time": "2023-07-26T13:28:19.025442Z",
     "start_time": "2023-07-26T13:28:18.993880Z"
    }
   },
   "outputs": [
    {
     "data": {
      "text/html": [
       "<div>\n",
       "<style scoped>\n",
       "    .dataframe tbody tr th:only-of-type {\n",
       "        vertical-align: middle;\n",
       "    }\n",
       "\n",
       "    .dataframe tbody tr th {\n",
       "        vertical-align: top;\n",
       "    }\n",
       "\n",
       "    .dataframe thead th {\n",
       "        text-align: right;\n",
       "    }\n",
       "</style>\n",
       "<table border=\"1\" class=\"dataframe\">\n",
       "  <thead>\n",
       "    <tr style=\"text-align: right;\">\n",
       "      <th></th>\n",
       "      <th>0</th>\n",
       "      <th>1</th>\n",
       "      <th>2</th>\n",
       "      <th>3</th>\n",
       "    </tr>\n",
       "  </thead>\n",
       "  <tbody>\n",
       "    <tr>\n",
       "      <th>0</th>\n",
       "      <td>1</td>\n",
       "      <td>축구의 역사</td>\n",
       "      <td>굿스포츠</td>\n",
       "      <td>7000</td>\n",
       "    </tr>\n",
       "    <tr>\n",
       "      <th>1</th>\n",
       "      <td>2</td>\n",
       "      <td>축구아는 여자</td>\n",
       "      <td>나무수</td>\n",
       "      <td>13000</td>\n",
       "    </tr>\n",
       "    <tr>\n",
       "      <th>2</th>\n",
       "      <td>3</td>\n",
       "      <td>축구의 이해</td>\n",
       "      <td>대한미디어</td>\n",
       "      <td>22000</td>\n",
       "    </tr>\n",
       "  </tbody>\n",
       "</table>\n",
       "</div>"
      ],
      "text/plain": [
       "   0        1      2      3\n",
       "0  1   축구의 역사   굿스포츠   7000\n",
       "1  2  축구아는 여자    나무수  13000\n",
       "2  3   축구의 이해  대한미디어  22000"
      ]
     },
     "execution_count": 6,
     "metadata": {},
     "output_type": "execute_result"
    }
   ],
   "source": [
    "pd_1=pd.DataFrame(rows_1)\n",
    "pd_1"
   ]
  },
  {
   "cell_type": "markdown",
   "id": "a5bedc24",
   "metadata": {},
   "source": [
    "## Q20"
   ]
  },
  {
   "cell_type": "code",
   "execution_count": 7,
   "id": "c19ca11e",
   "metadata": {
    "ExecuteTime": {
     "end_time": "2023-07-26T13:28:20.708338Z",
     "start_time": "2023-07-26T13:28:20.696217Z"
    }
   },
   "outputs": [],
   "source": [
    "import pandas as pd\n",
    "import pymysql"
   ]
  },
  {
   "cell_type": "code",
   "execution_count": 8,
   "id": "4c8e78fc",
   "metadata": {
    "ExecuteTime": {
     "end_time": "2023-07-26T13:28:21.427628Z",
     "start_time": "2023-07-26T13:28:21.407032Z"
    }
   },
   "outputs": [],
   "source": [
    "conn1=pymysql.connect(host='127.0.0.1',user='root',password='1234',db='madang',charset='utf8')"
   ]
  },
  {
   "cell_type": "code",
   "execution_count": 9,
   "id": "f440041b",
   "metadata": {
    "ExecuteTime": {
     "end_time": "2023-07-26T13:28:22.133128Z",
     "start_time": "2023-07-26T13:28:22.124273Z"
    }
   },
   "outputs": [],
   "source": [
    "cur_1=conn1.cursor()"
   ]
  },
  {
   "cell_type": "code",
   "execution_count": 10,
   "id": "a4b0603c",
   "metadata": {
    "ExecuteTime": {
     "end_time": "2023-07-26T13:28:22.791253Z",
     "start_time": "2023-07-26T13:28:22.780617Z"
    }
   },
   "outputs": [],
   "source": [
    "sql=\"SELECT * FROM vw_customer; \""
   ]
  },
  {
   "cell_type": "code",
   "execution_count": 11,
   "id": "4432a323",
   "metadata": {
    "ExecuteTime": {
     "end_time": "2023-07-26T13:28:23.464206Z",
     "start_time": "2023-07-26T13:28:23.437739Z"
    }
   },
   "outputs": [],
   "source": [
    "cur_1.execute(sql)\n",
    "rows_1=cur_1.fetchall()\n",
    "conn1.close()"
   ]
  },
  {
   "cell_type": "code",
   "execution_count": 12,
   "id": "54384b28",
   "metadata": {
    "ExecuteTime": {
     "end_time": "2023-07-26T13:28:24.109137Z",
     "start_time": "2023-07-26T13:28:24.085703Z"
    }
   },
   "outputs": [
    {
     "data": {
      "text/html": [
       "<div>\n",
       "<style scoped>\n",
       "    .dataframe tbody tr th:only-of-type {\n",
       "        vertical-align: middle;\n",
       "    }\n",
       "\n",
       "    .dataframe tbody tr th {\n",
       "        vertical-align: top;\n",
       "    }\n",
       "\n",
       "    .dataframe thead th {\n",
       "        text-align: right;\n",
       "    }\n",
       "</style>\n",
       "<table border=\"1\" class=\"dataframe\">\n",
       "  <thead>\n",
       "    <tr style=\"text-align: right;\">\n",
       "      <th></th>\n",
       "      <th>0</th>\n",
       "      <th>1</th>\n",
       "      <th>2</th>\n",
       "      <th>3</th>\n",
       "    </tr>\n",
       "  </thead>\n",
       "  <tbody>\n",
       "    <tr>\n",
       "      <th>0</th>\n",
       "      <td>2</td>\n",
       "      <td>김연아</td>\n",
       "      <td>대한민국 서울</td>\n",
       "      <td>000-6000-0001</td>\n",
       "    </tr>\n",
       "    <tr>\n",
       "      <th>1</th>\n",
       "      <td>3</td>\n",
       "      <td>장미란</td>\n",
       "      <td>대한민국 강원도</td>\n",
       "      <td>000-7000-0001</td>\n",
       "    </tr>\n",
       "    <tr>\n",
       "      <th>2</th>\n",
       "      <td>5</td>\n",
       "      <td>박세리</td>\n",
       "      <td>대한민국 부산</td>\n",
       "      <td>None</td>\n",
       "    </tr>\n",
       "  </tbody>\n",
       "</table>\n",
       "</div>"
      ],
      "text/plain": [
       "   0    1         2              3\n",
       "0  2  김연아   대한민국 서울  000-6000-0001\n",
       "1  3  장미란  대한민국 강원도  000-7000-0001\n",
       "2  5  박세리   대한민국 부산           None"
      ]
     },
     "execution_count": 12,
     "metadata": {},
     "output_type": "execute_result"
    }
   ],
   "source": [
    "pd_1=pd.DataFrame(rows_1)\n",
    "pd_1"
   ]
  },
  {
   "cell_type": "markdown",
   "id": "8392fdc3",
   "metadata": {},
   "source": [
    "## Q21"
   ]
  },
  {
   "cell_type": "code",
   "execution_count": 13,
   "id": "4a173bc7",
   "metadata": {
    "ExecuteTime": {
     "end_time": "2023-07-26T13:28:45.180567Z",
     "start_time": "2023-07-26T13:28:45.167532Z"
    }
   },
   "outputs": [],
   "source": [
    "import pandas as pd\n",
    "import pymysql"
   ]
  },
  {
   "cell_type": "code",
   "execution_count": 14,
   "id": "c0b2c362",
   "metadata": {
    "ExecuteTime": {
     "end_time": "2023-07-26T13:28:45.946382Z",
     "start_time": "2023-07-26T13:28:45.924546Z"
    }
   },
   "outputs": [],
   "source": [
    "conn1=pymysql.connect(host='127.0.0.1',user='root',password='1234',db='madang',charset='utf8')"
   ]
  },
  {
   "cell_type": "code",
   "execution_count": 15,
   "id": "ded5ae2c",
   "metadata": {
    "ExecuteTime": {
     "end_time": "2023-07-26T13:28:46.617894Z",
     "start_time": "2023-07-26T13:28:46.601598Z"
    }
   },
   "outputs": [],
   "source": [
    "cur_1=conn1.cursor()"
   ]
  },
  {
   "cell_type": "code",
   "execution_count": 16,
   "id": "4254b313",
   "metadata": {
    "ExecuteTime": {
     "end_time": "2023-07-26T13:28:47.349372Z",
     "start_time": "2023-07-26T13:28:47.333514Z"
    }
   },
   "outputs": [],
   "source": [
    "sql='''SELECT orderid,bookname,saleprice\n",
    "FROM vw_orders\n",
    "WHERE name='김연아';'''"
   ]
  },
  {
   "cell_type": "code",
   "execution_count": 17,
   "id": "a58f20a5",
   "metadata": {
    "ExecuteTime": {
     "end_time": "2023-07-26T13:28:47.990978Z",
     "start_time": "2023-07-26T13:28:47.963883Z"
    }
   },
   "outputs": [],
   "source": [
    "cur_1.execute(sql)\n",
    "rows_1=cur_1.fetchall()\n",
    "conn1.close()"
   ]
  },
  {
   "cell_type": "code",
   "execution_count": 18,
   "id": "e0be613d",
   "metadata": {
    "ExecuteTime": {
     "end_time": "2023-07-26T13:28:48.632805Z",
     "start_time": "2023-07-26T13:28:48.602567Z"
    }
   },
   "outputs": [
    {
     "data": {
      "text/html": [
       "<div>\n",
       "<style scoped>\n",
       "    .dataframe tbody tr th:only-of-type {\n",
       "        vertical-align: middle;\n",
       "    }\n",
       "\n",
       "    .dataframe tbody tr th {\n",
       "        vertical-align: top;\n",
       "    }\n",
       "\n",
       "    .dataframe thead th {\n",
       "        text-align: right;\n",
       "    }\n",
       "</style>\n",
       "<table border=\"1\" class=\"dataframe\">\n",
       "  <thead>\n",
       "    <tr style=\"text-align: right;\">\n",
       "      <th></th>\n",
       "      <th>0</th>\n",
       "      <th>1</th>\n",
       "      <th>2</th>\n",
       "    </tr>\n",
       "  </thead>\n",
       "  <tbody>\n",
       "    <tr>\n",
       "      <th>0</th>\n",
       "      <td>3</td>\n",
       "      <td>피겨 교본</td>\n",
       "      <td>8000</td>\n",
       "    </tr>\n",
       "    <tr>\n",
       "      <th>1</th>\n",
       "      <td>9</td>\n",
       "      <td>Olympic Champions</td>\n",
       "      <td>7000</td>\n",
       "    </tr>\n",
       "  </tbody>\n",
       "</table>\n",
       "</div>"
      ],
      "text/plain": [
       "   0                  1     2\n",
       "0  3              피겨 교본  8000\n",
       "1  9  Olympic Champions  7000"
      ]
     },
     "execution_count": 18,
     "metadata": {},
     "output_type": "execute_result"
    }
   ],
   "source": [
    "pd_1=pd.DataFrame(rows_1)\n",
    "pd_1"
   ]
  },
  {
   "cell_type": "markdown",
   "id": "975c8d5f",
   "metadata": {},
   "source": [
    "## Q22"
   ]
  },
  {
   "cell_type": "code",
   "execution_count": 19,
   "id": "4033647d",
   "metadata": {
    "ExecuteTime": {
     "end_time": "2023-07-26T13:29:05.049240Z",
     "start_time": "2023-07-26T13:29:05.038639Z"
    }
   },
   "outputs": [],
   "source": [
    "import pandas as pd\n",
    "import pymysql"
   ]
  },
  {
   "cell_type": "code",
   "execution_count": 20,
   "id": "ae4e6425",
   "metadata": {
    "ExecuteTime": {
     "end_time": "2023-07-26T13:29:05.710792Z",
     "start_time": "2023-07-26T13:29:05.699767Z"
    }
   },
   "outputs": [],
   "source": [
    "conn1=pymysql.connect(host='127.0.0.1',user='root',password='1234',db='madang',charset='utf8')"
   ]
  },
  {
   "cell_type": "code",
   "execution_count": 21,
   "id": "78f1e264",
   "metadata": {
    "ExecuteTime": {
     "end_time": "2023-07-26T13:29:06.410597Z",
     "start_time": "2023-07-26T13:29:06.391289Z"
    }
   },
   "outputs": [],
   "source": [
    "cur_1=conn1.cursor()"
   ]
  },
  {
   "cell_type": "code",
   "execution_count": 22,
   "id": "f669b9a9",
   "metadata": {
    "ExecuteTime": {
     "end_time": "2023-07-26T13:29:07.125433Z",
     "start_time": "2023-07-26T13:29:07.114311Z"
    }
   },
   "outputs": [],
   "source": [
    "sql='''SELECT *\n",
    "FROM vw_customer;'''"
   ]
  },
  {
   "cell_type": "code",
   "execution_count": 23,
   "id": "5a0ae41b",
   "metadata": {
    "ExecuteTime": {
     "end_time": "2023-07-26T13:29:07.769680Z",
     "start_time": "2023-07-26T13:29:07.745580Z"
    }
   },
   "outputs": [],
   "source": [
    "cur_1.execute(sql)\n",
    "rows_1=cur_1.fetchall()\n",
    "conn1.close()"
   ]
  },
  {
   "cell_type": "code",
   "execution_count": 24,
   "id": "16d3c250",
   "metadata": {
    "ExecuteTime": {
     "end_time": "2023-07-26T13:29:08.396908Z",
     "start_time": "2023-07-26T13:29:08.372787Z"
    }
   },
   "outputs": [
    {
     "data": {
      "text/html": [
       "<div>\n",
       "<style scoped>\n",
       "    .dataframe tbody tr th:only-of-type {\n",
       "        vertical-align: middle;\n",
       "    }\n",
       "\n",
       "    .dataframe tbody tr th {\n",
       "        vertical-align: top;\n",
       "    }\n",
       "\n",
       "    .dataframe thead th {\n",
       "        text-align: right;\n",
       "    }\n",
       "</style>\n",
       "<table border=\"1\" class=\"dataframe\">\n",
       "  <thead>\n",
       "    <tr style=\"text-align: right;\">\n",
       "      <th></th>\n",
       "      <th>0</th>\n",
       "      <th>1</th>\n",
       "      <th>2</th>\n",
       "    </tr>\n",
       "  </thead>\n",
       "  <tbody>\n",
       "    <tr>\n",
       "      <th>0</th>\n",
       "      <td>1</td>\n",
       "      <td>박지성</td>\n",
       "      <td>영국 맨체스타</td>\n",
       "    </tr>\n",
       "  </tbody>\n",
       "</table>\n",
       "</div>"
      ],
      "text/plain": [
       "   0    1        2\n",
       "0  1  박지성  영국 맨체스타"
      ]
     },
     "execution_count": 24,
     "metadata": {},
     "output_type": "execute_result"
    }
   ],
   "source": [
    "pd_1=pd.DataFrame(rows_1)\n",
    "pd_1"
   ]
  }
 ],
 "metadata": {
  "kernelspec": {
   "display_name": "Python 3 (ipykernel)",
   "language": "python",
   "name": "python3"
  },
  "language_info": {
   "codemirror_mode": {
    "name": "ipython",
    "version": 3
   },
   "file_extension": ".py",
   "mimetype": "text/x-python",
   "name": "python",
   "nbconvert_exporter": "python",
   "pygments_lexer": "ipython3",
   "version": "3.8.16"
  },
  "toc": {
   "base_numbering": 1,
   "nav_menu": {},
   "number_sections": true,
   "sideBar": true,
   "skip_h1_title": false,
   "title_cell": "Table of Contents",
   "title_sidebar": "Contents",
   "toc_cell": false,
   "toc_position": {},
   "toc_section_display": true,
   "toc_window_display": false
  }
 },
 "nbformat": 4,
 "nbformat_minor": 5
}
